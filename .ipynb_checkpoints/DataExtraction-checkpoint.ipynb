{
 "cells": [
  {
   "cell_type": "code",
   "execution_count": 1,
   "id": "2be4513a-c333-4e51-a464-f2438181eed0",
   "metadata": {
    "tags": []
   },
   "outputs": [],
   "source": [
    "import re\n",
    "import string\n",
    "import os\n",
    "import shutil\n",
    "\n",
    "\n",
    "def clean_songs(song):\n",
    "    \n",
    "    pattern = r\"[^a-zA-Z0-9\\s\" + re.escape(string.punctuation) + r\"]\"\n",
    "    unusual_chars = re.findall(pattern, song)\n",
    "    if len(unusual_chars) == 0:\n",
    "        return True\n",
    "    else:\n",
    "        #print(f'Found : {unusual_chars} so discarded')\n",
    "        return False\n",
    "    \n",
    "def read_file(file_path):\n",
    "    \n",
    "    with open(file_path, 'r', encoding=\"utf-8\") as file:\n",
    "        text = file.read()\n",
    "    return text\n",
    "\n",
    "\n",
    "def clean_dir(path):\n",
    "    contents = os.listdir(path)\n",
    "    for item in contents:\n",
    "        item_path = os.path.join(path, item)\n",
    "        if os.path.isfile(item_path):\n",
    "            os.remove(item_path)\n",
    "        elif os.path.isdir(item_path):\n",
    "            clean_dir(item_path)  # Recursively clean subdirectories\n",
    "            os.rmdir(item_path)  # Remove the empty directory"
   ]
  },
  {
   "cell_type": "code",
   "execution_count": 2,
   "id": "ede01306-928e-4e00-a03f-022a03ab2627",
   "metadata": {
    "tags": []
   },
   "outputs": [],
   "source": [
    "def expand_text(text):\n",
    "\n",
    "    paragraphs = text.split(\"\\n\\n\")\n",
    "\n",
    "    for i in range(len(paragraphs)):\n",
    "        p = paragraphs[i]\n",
    "        exp = re.findall(r'\\[([^\\[\\]]*)\\]', p)\n",
    "        if len(exp) == 1: #only one comment per paragrph\n",
    "            pattern = r'\\b(?:\\d+x|x\\d)\\b'\n",
    "            match = re.search(pattern, exp[0])\n",
    "            if match: #if the comment contains a number\n",
    "                if p[0] == \"[\":\n",
    "                    if len(exp) == 1:\n",
    "                        digit = match.group()\n",
    "                        if digit[0].isalpha() != True:\n",
    "                            num = int(digit[0])\n",
    "                        else:\n",
    "                            num = int(digit[1])\n",
    "                        p = re.sub(r'\\[.*?\\]', '', p)\n",
    "                        p = (p + '\\n') * num\n",
    "                        paragraphs[i] = p\n",
    "                elif len(exp) != 0:\n",
    "                    p_lines = p.split(\"\\n\")  # Split the paragraph into lines\n",
    "                    index = 0\n",
    "                    for j in range(len(p_lines)):  # Find the line to duplicate\n",
    "                        if \"[\" in p_lines[j]:\n",
    "                            index = j\n",
    "                            break\n",
    "                    line = p_lines[index]\n",
    "                    digit = match.group()\n",
    "                    if digit[0].isalpha() != True:\n",
    "                        num = int(digit[0])\n",
    "                    else:\n",
    "                        num = int(digit[1])\n",
    "                    line = re.sub(r'\\[.*?\\]', '', line)\n",
    "                    line = (line + '\\n') * num\n",
    "                    p_lines[index] = line\n",
    "                    p = \"\\n\".join(p_lines)  # Join the modified lines back into a paragraph\n",
    "                    paragraphs[i] = p\n",
    "\n",
    "    text = \"\\n\\n\".join(paragraphs)\n",
    "    return text"
   ]
  },
  {
   "cell_type": "code",
   "execution_count": 3,
   "id": "0826f102-3817-4dd8-b9d6-f17fa5a5e0ea",
   "metadata": {
    "tags": []
   },
   "outputs": [],
   "source": [
    "def featurings(artists_list, song_artist, text):\n",
    "    \n",
    "    paragraphs = text.split(\"\\n\\n\")\n",
    "\n",
    "    for i in range(len(paragraphs)):\n",
    "        p = paragraphs[i]\n",
    "        exp = re.findall(r'\\[([^\\[\\]]*)\\]', p)\n",
    "        if len(exp) == 1: #only one comment per paragrph\n",
    "            exp = exp[0].lower()\n",
    "            for art in artists_list:\n",
    "                if art.lower() != artist.lower():\n",
    "                    if art.lower() in exp:\n",
    "                        return True\n",
    "    return False\n"
   ]
  },
  {
   "cell_type": "code",
   "execution_count": 4,
   "id": "8d362e69-f59b-40fa-9c0c-8b77c93e94ab",
   "metadata": {
    "tags": []
   },
   "outputs": [],
   "source": [
    "def remove_non_solo_instrumental(text):\n",
    "    pattern = r'\\[[^\\[\\]]*\\]'\n",
    "    modified_text = re.sub(pattern, lambda match: match.group() if re.search(r'\\bsolo\\b|\\binstrumental\\b', match.group(), flags=re.IGNORECASE) else '', text)\n",
    "    return modified_text"
   ]
  },
  {
   "cell_type": "code",
   "execution_count": 13,
   "id": "1ca075a6-fd27-45ac-8e21-15885db5e071",
   "metadata": {
    "tags": []
   },
   "outputs": [
    {
     "name": "stdout",
     "output_type": "stream",
     "text": [
      "Current working directory: C:\\Users\\Antonia\\Documents\\Ecole Polytechnique\\sem4\\ML project\\Text-Shazam\n"
     ]
    }
   ],
   "source": [
    "current_dir = os.getcwd()\n",
    "print(\"Current working directory:\", current_dir)"
   ]
  },
  {
   "cell_type": "code",
   "execution_count": 14,
   "id": "391b1db1-65f8-4dea-a4a0-985414fafe0f",
   "metadata": {
    "tags": []
   },
   "outputs": [
    {
     "name": "stdout",
     "output_type": "stream",
     "text": [
      "Number of artists : 227\n"
     ]
    }
   ],
   "source": [
    "##TO BE RUN ONLY WHEN NEW SONGS\n",
    "def create_Albums_Songs_Dirs():\n",
    "    for art in artists:\n",
    "\n",
    "        path_to_artist = os.path.join(path_to_songs, art)\n",
    "        path_to_albums = os.path.join(path_to_artist, \"Albums\")\n",
    "        path_to_songs = os.path.join(path_to_artist, \"Songs\")\n",
    "        if not os.path.exists(path_to_albums): \n",
    "            os.makedirs(path_to_albums)\n",
    "            os.makedirs(path_to_songs)\n",
    "\n",
    "            for filename in os.listdir(path_to_artist):\n",
    "                if os.path.isfile(os.path.join(path_to_artist, filename)):\n",
    "                    shutil.move(os.path.join(path_to_artist, filename), path_to_albums)\n"
   ]
  },
  {
   "cell_type": "code",
   "execution_count": 117,
   "id": "5ff40c25-8848-4192-a231-5210db883168",
   "metadata": {},
   "outputs": [
    {
     "name": "stdout",
     "output_type": "stream",
     "text": [
      "Number of artists : 15\n",
      "Lana Del Rey has 113 song\n",
      "Megadeth has 103 song\n",
      "Beyoncé has 96 song\n",
      "Snoop Dog has 54 song\n",
      "Arctic Monkeys has 114 song\n",
      "Ariana Grande has 69 song\n",
      "Dolly Parton has 122 song\n",
      "Dr Dre has 79 song\n",
      "Dua Lipa has 95 song\n",
      "Florence + the Machine has 105 song\n",
      "Taylor Swift has 108 song\n",
      "Vampire Weekend has 58 song\n",
      "Waylon Jennings has 74 song\n",
      "Ed Sheeran has 85 song\n",
      "ASAP Rocky has 68 song\n"
     ]
    }
   ],
   "source": [
    "path_to_songs = os.path.join(os.getcwd(), \"Raw_Songs_DataBase\")\n",
    "\n",
    "artists = os.listdir(path_to_songs)\n",
    "artists = [art for art in artists if art[0] != \".\"]\n",
    "\n",
    "print(f'Number of artists : {len(artists)}')\n",
    "\n",
    "\n",
    "for art in artists: \n",
    "\n",
    "    path_to_artist = os.path.join(path_to_songs, art)\n",
    "    path_to_artist_songs = os.path.join(path_to_artist, \"Songs\")\n",
    "    path_to_artist_albums = os.path.join(path_to_artist, \"Albums\")\n",
    "    \n",
    "    clean_dir(path_to_artist_songs)\n",
    "    \n",
    "    albums = os.listdir(path_to_artist_albums) \n",
    "    for alb in albums:\n",
    "        if alb[0] != \".\": \n",
    "            path = os.path.join(path_to_artist_albums, alb)\n",
    "            album = read_file(path)\n",
    "            album = album.split(\"//\") \n",
    "            album = [song for song in album if len(song) != 0] \n",
    "            if \"Album\" in album[0]:\n",
    "                album.pop(0)\n",
    "            for i in range(0, len(album), 2):\n",
    "                title = (album[i].replace(\"/\", \"-\")).strip()\n",
    "                song = album[i+1]\n",
    "                title = title.replace('À', 'A') #to make sure to not have two times the same pattern\n",
    "                title = title.replace('à', 'a')\n",
    "                song = expand_text(song)\n",
    "                if featurings(artists, art, song) == False:\n",
    "                    song = remove_non_solo_instrumental(song)\n",
    "                    filepath = os.path.join(path_to_artist_songs, title)\n",
    "                    if clean_songs(song):\n",
    "                        file = open(filepath, 'w', encoding = \"utf-8\")\n",
    "                        file.write(song)\n",
    "                        file.close() \n",
    "\n",
    "    songs = os.listdir(path_to_artist_songs)\n",
    "    print(f'{art} has {len(songs)} song')\n",
    "                 "
   ]
  },
  {
   "cell_type": "code",
   "execution_count": 99,
   "id": "9fe3e0a3-e863-456a-bb8d-a495502cdc74",
   "metadata": {},
   "outputs": [],
   "source": [
    "path_to_songs = os.path.join(os.getcwd(), \"Raw_Songs_DataBase\")\n",
    "path_to_artist = os.path.join(path_to_songs, \"Kendrick Lamar\")\n",
    "path_to_artist_songs = os.path.join(path_to_artist, \"Songs\")\n",
    "path_to_artist_albums = os.path.join(path_to_artist, \"Albums\")\n",
    "\n",
    "clean_dir(path_to_artist_songs)\n",
    "clean_dir(path_to_artist_albums)\n",
    "#clean_dir(path_to_artist_songs)\n",
    "    "
   ]
  },
  {
   "cell_type": "code",
   "execution_count": null,
   "id": "9c5338c7-e262-4f62-81da-1d6bc6d41f57",
   "metadata": {},
   "outputs": [],
   "source": [
    "from nltk.stem import PorterStemmer\n",
    "\n",
    "path = os.path.join(os.getcwd(), \"rare.txt\")\n",
    "rare = read_file(path)\n",
    "rare = rare.split(\"\\n\")\n",
    "\n",
    "rare = [w.lower() for w in rare]\n",
    "\n",
    "rare = [w for w in rare if re.match(r'^[a-z]+$', w)]\n",
    "\n",
    "ps = PorterStemmer()\n",
    "rare = [ps.stem(word) for word in rare]\n",
    "\n",
    "path = os.path.join(os.getcwd(), \"rare-filtered.txt\")\n",
    "with open(path, 'w') as file:\n",
    "    for word in rare:\n",
    "        file.write(word + '\\n')\n",
    "        \n",
    "        "
   ]
  },
  {
   "cell_type": "code",
   "execution_count": null,
   "id": "2c2ecabc-3c6f-49a0-b305-ff13008c40af",
   "metadata": {},
   "outputs": [],
   "source": [
    "path = os.path.join(os.getcwd(), \"slang.txt\")\n",
    "slang = read_file(path)\n",
    "slang = slang.lower()\n",
    "\n",
    "to_replace = ['\"', '*', '#', '(', ')', '[', ']', ';', \"'\", '_', \".\", '”', \"?\", \"<\", \">\", \"~\", \"!\"]\n",
    "\n",
    "for char in to_replace:\n",
    "    slang = slang.replace(char, ' ')\n",
    "\n",
    "slang = slang.split(\"\\n\")\n",
    "\n",
    "slang = [w.split() for w in slang] #seperate each word in the expressions\n",
    "slang = [word for sentence in slang for word in sentence] #flatten the list\n",
    "\n",
    "slang = [w.lower().strip() for w in slang] #all lowercase, remove spaces\n",
    "\n",
    "slang = [w for w in slang if len(w)>=2 and len(w) < 20]\n",
    "\n",
    "slang = [w for w in slang if re.match(r'^[a-z]+$', w)] #only allow letters\n",
    "\n",
    "ps = PorterStemmer()\n",
    "slang = [ps.stem(word) for word in slang] #get the stems\n",
    "\n",
    "slang = list(set(slang)) #remove duplicates\n",
    "\n",
    "path = os.path.join(os.getcwd(), \"stdfile.txt\")\n",
    "std = read_file(path)\n",
    "std = std.split(\"\\n\")\n",
    "\n",
    "std = [w.lower().strip() for w in std] #all lowercase, remove leading spaces\n",
    "std = [ps.stem(word) for word in std] #get the stem\n",
    "\n",
    "slang = [w for w in slang if w not in std]\n",
    "\n",
    "path = os.path.join(os.getcwd(), \"slang-filtered.txt\")\n",
    "with open(path, 'w') as file:\n",
    "    for word in slang:\n",
    "        file.write(word + '\\n')\n",
    "        "
   ]
  },
  {
   "cell_type": "code",
   "execution_count": null,
   "id": "e8b21de6-d59b-4a0a-b85b-3a6e2fe1416f",
   "metadata": {},
   "outputs": [],
   "source": [
    "#to clean an artist\n",
    "art = \"Ed Sheeran\"\n",
    "path_to_songs = os.path.join(os.getcwd(), \"Raw_Songs_DataBase\")\n",
    "path_to_artist = os.path.join(path_to_songs, art)\n",
    "path_to_artist_songs = os.path.join(path_to_artist, \"Songs\")\n",
    "path_to_artist_albums = os.path.join(path_to_artist, \"Albums\")\n",
    "\n",
    "clean_dir(path_to_artist_albums)\n"
   ]
  },
  {
   "cell_type": "code",
   "execution_count": null,
   "id": "aba8c762-edc4-4e9f-a0e9-60a64d5407a7",
   "metadata": {},
   "outputs": [],
   "source": []
  }
 ],
 "metadata": {
  "kernelspec": {
   "display_name": "Python 3 (ipykernel)",
   "language": "python",
   "name": "python3"
  },
  "language_info": {
   "codemirror_mode": {
    "name": "ipython",
    "version": 3
   },
   "file_extension": ".py",
   "mimetype": "text/x-python",
   "name": "python",
   "nbconvert_exporter": "python",
   "pygments_lexer": "ipython3",
   "version": "3.9.0"
  }
 },
 "nbformat": 4,
 "nbformat_minor": 5
}
