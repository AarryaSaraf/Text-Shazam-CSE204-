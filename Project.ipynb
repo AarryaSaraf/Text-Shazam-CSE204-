{
 "cells": [
  {
   "attachments": {},
   "cell_type": "markdown",
   "id": "2e7c7a2a",
   "metadata": {},
   "source": [
    "Data gathering"
   ]
  },
  {
   "attachments": {},
   "cell_type": "markdown",
   "id": "dd14f535",
   "metadata": {},
   "source": [
    "analysis of 2 or 3 different kind of algorithms we will use: kNN, maxent, logistic regression, deep learning, and support vector machines."
   ]
  },
  {
   "attachments": {},
   "cell_type": "markdown",
   "id": "3aa4615c",
   "metadata": {},
   "source": [
    "each method has a different pre processing and strengths and interpretatio\n"
   ]
  },
  {
   "attachments": {},
   "cell_type": "markdown",
   "id": "d63b68e8",
   "metadata": {},
   "source": [
    "kNN- tokenizing, all lower case, removing common words, lematisize, tagging words as preposition/conjunction/etc,  TF IDF"
   ]
  },
  {
   "attachments": {},
   "cell_type": "markdown",
   "id": "53fc48e5",
   "metadata": {},
   "source": [
    "Do we remove stop words, or not?\n",
    "Do we stem or lemmatize our text data, or leave the words as is?\n",
    "Is basic tokenization enough, or do we need to support special edge cases through the use of regex?\n",
    "Do we stick with English words only or do we allow for other languages?\n",
    "Do we use the entire vocabulary, or just limit the model to a subset of the most frequently used words? If so, how many?"
   ]
  },
  {
   "cell_type": "code",
   "execution_count": 1149,
   "id": "8f04e1ad-8ec8-4dcf-a1b6-09dcfc18d0cb",
   "metadata": {
    "tags": []
   },
   "outputs": [],
   "source": [
    "#!pip install Levenshtein\n",
    "#!pip install pandas\n",
    "#!pip install nltk\n",
    "#!pip install Levenshtein\n",
    "#!pip install textblob\n",
    "#!pip install scikit-learn"
   ]
  },
  {
   "cell_type": "code",
   "execution_count": 1150,
   "id": "0b901159",
   "metadata": {
    "tags": []
   },
   "outputs": [],
   "source": [
    "#imports\n",
    "\n",
    "import numpy as np\n",
    "from textblob import TextBlob\n",
    "import random\n",
    "import pandas as pd\n",
    "import matplotlib.pyplot as plt\n",
    "from sklearn import neighbors\n",
    "import sklearn.neighbors\n",
    "import sklearn.metrics as metrics\n",
    "from sklearn.model_selection import cross_val_score\n",
    "from sklearn.model_selection import train_test_split\n",
    "from sklearn.feature_extraction.text import CountVectorizer\n",
    "from sklearn.feature_extraction.text import TfidfTransformer\n",
    "from sklearn.decomposition import PCA\n",
    "from sklearn.decomposition import TruncatedSVD\n",
    "from sklearn.preprocessing import OneHotEncoder\n",
    "from sklearn.preprocessing import StandardScaler\n",
    "import re\n",
    "import os\n",
    "import nltk\n",
    "import Levenshtein\n",
    "from nltk.stem import PorterStemmer\n",
    "from nltk.corpus import stopwords\n",
    "import string\n",
    "from scipy.interpolate import make_interp_spline"
   ]
  },
  {
   "cell_type": "code",
   "execution_count": 1151,
   "id": "c9afd29c-c478-4555-b2b4-18c0d8565a91",
   "metadata": {
    "tags": []
   },
   "outputs": [],
   "source": [
    "#nltk.download('punkt')\n",
    "#nltk.download('averaged_perceptron_tagger')\n",
    "#nltk.download('maxent_ne_chunker')\n",
    "#nltk.download('words')"
   ]
  },
  {
   "cell_type": "code",
   "execution_count": 1152,
   "id": "0feeb9a9",
   "metadata": {},
   "outputs": [],
   "source": [
    "import shutil\n",
    "\n",
    "def zip_folder(folder_path, zip_path):\n",
    "    shutil.make_archive(zip_path, 'zip', folder_path)\n",
    "\n",
    "# Example usage\n",
    "#folder_path = '/home/jovyan/persistent/CSE204/FINAL_PROJECT/Raw_Songs_DataBase'  # Replace with the path to your folder\n",
    "#zip_path = '/home/jovyan/persistent/CSE204/FINAL_PROJECT'  # Replace with the desired path and name for the zip file\n",
    "\n",
    "#zip_folder(folder_path, zip_path)"
   ]
  },
  {
   "cell_type": "code",
   "execution_count": 1153,
   "id": "2617e95c",
   "metadata": {
    "tags": []
   },
   "outputs": [],
   "source": [
    "def read_file(file_path):\n",
    "    \n",
    "    with open(file_path, 'r') as file:\n",
    "        text = file.read()\n",
    "    return text"
   ]
  },
  {
   "cell_type": "code",
   "execution_count": 1162,
   "id": "9a55dfde-41ad-4612-8f0a-d2fecfaf1b99",
   "metadata": {
    "tags": []
   },
   "outputs": [],
   "source": [
    "#DEFINE A MAX NUMBER OF ARTISTS\n",
    "NUMBER_OF_ARTISTS = 50"
   ]
  },
  {
   "cell_type": "code",
   "execution_count": 1163,
   "id": "27ea3c6d",
   "metadata": {
    "tags": []
   },
   "outputs": [],
   "source": [
    "#get the data\n",
    "\n",
    "path_to_songs = os.path.join(os.getcwd(), \"Raw_Songs_DataBase\")\n",
    "\n",
    "artists = os.listdir(path_to_songs)\n",
    "artists_all = [art for art in artists if art[0] != \".\"]\n",
    "artists = random.sample(artists_all, NUMBER_OF_ARTISTS)\n",
    "artists = sorted(artists)\n",
    "\n",
    "x = []\n",
    "RID_features = []\n",
    "y = []\n",
    "\n",
    "songs_per_artist={art : 0 for art in artists}\n",
    "\n",
    "titles = []\n",
    "\n",
    "for art in artists: \n",
    "    \n",
    "\n",
    "    path_to_artist = os.path.join(path_to_songs, art)\n",
    "    path_to_artist_songs = os.path.join(path_to_artist, \"Songs\")\n",
    "    #path_to_rid = os.path.join(path_to_artist, \"Songs\")\n",
    "    \n",
    "    songs = os.listdir(path_to_artist_songs)\n",
    "    for song in songs:\n",
    "        if song[0] != \".\":\n",
    "            if song[-3:] != \"RID\":\n",
    "                path = os.path.join(path_to_artist_songs, song)\n",
    "                titles.append(song)\n",
    "                lyrics =  read_file(path)\n",
    "                x.append(lyrics)\n",
    "                songs_per_artist[art] += 1\n",
    "                y.append(art)\n",
    "            else: #is a RID file\n",
    "                path = os.path.join(path_to_artist_songs, song)\n",
    "                text =  read_file(path)\n",
    "                RID_features.append(text)\n",
    "\n",
    "    \n",
    "arts_dict = {}\n",
    "for i in range(len(artists)):\n",
    "    arts_dict[artists[i]] = i\n",
    "    \n",
    "arts_dict_op = {i: artist for artist, i in arts_dict.items()}\n",
    "    \n",
    "for i in range(len(y)):\n",
    "    art = y[i]\n",
    "    y[i] = int(arts_dict[art])\n",
    "\n",
    "x = np.array(x)\n",
    "y = np.array(y) \n",
    "titles = np.array(titles)\n",
    "\n",
    "assert len(x) == len(RID_features)"
   ]
  },
  {
   "cell_type": "code",
   "execution_count": 1164,
   "id": "16089d15",
   "metadata": {
    "tags": []
   },
   "outputs": [],
   "source": [
    "#remove all that is into paranthesis in the titles\n",
    "for i in range(len(titles)):\n",
    "    titles[i] = re.sub(r'\\([^()]+\\)', '', titles[i]).strip()\n"
   ]
  },
  {
   "attachments": {},
   "cell_type": "markdown",
   "id": "72308d4b",
   "metadata": {},
   "source": [
    "Now let us get some data about the songs"
   ]
  },
  {
   "cell_type": "code",
   "execution_count": 1165,
   "id": "f35cc63d",
   "metadata": {
    "tags": []
   },
   "outputs": [
    {
     "name": "stdout",
     "output_type": "stream",
     "text": [
      "Number of songs : 4170\n",
      "Number of artists : 50\n",
      "Average number of songs per artist : 83\n"
     ]
    },
    {
     "data": {
      "image/png": "[encoded data removed]",
      "text/plain": [
       "<Figure size 1200x600 with 1 Axes>"
      ]
     },
     "metadata": {},
     "output_type": "display_data"
    }
   ],
   "source": [
    "print(f'Number of songs : {len(x)}')\n",
    "print(f'Number of artists : {len(artists)}')\n",
    "print(f'Average number of songs per artist : {int(len(x)/len(artists))}')\n",
    "\n",
    "keys = songs_per_artist.keys()\n",
    "values = songs_per_artist.values()\n",
    "\n",
    "fig = plt.figure(figsize=(12, 6))  # Set the figure size\n",
    "fig.subplots_adjust(left=0, right=1, top=1, bottom=0)  # Adjust margins\n",
    "\n",
    "bar_lefts = range(len(keys))\n",
    "bar_heights = values\n",
    "\n",
    "plt.bar(bar_lefts, bar_heights, width=1.0, facecolor='gray')  # Customize the appearance\n",
    "\n",
    "plt.ylabel('Number of songs')\n",
    "\n",
    "plt.xticks([])  # Remove x-axis tick labels\n",
    "plt.xlabel('')  # Remove x-axis legend\n",
    "\n",
    "plt.xlim(-0.5, len(keys) - 0.5)  # Adjust x-axis limits\n",
    "\n",
    "plt.show()"
   ]
  },
  {
   "cell_type": "code",
   "execution_count": 1166,
   "id": "e7782366",
   "metadata": {
    "tags": []
   },
   "outputs": [],
   "source": [
    "def flatten(text):\n",
    "    text = [word for sentence in text for word in sentence]\n",
    "    return text"
   ]
  },
  {
   "cell_type": "code",
   "execution_count": 1167,
   "id": "f254d8df",
   "metadata": {
    "tags": []
   },
   "outputs": [],
   "source": [
    "def pre_processing(text):\n",
    "    \n",
    "    text = text.lower() #lowercase\n",
    "    \n",
    "    #split in lines\n",
    "    text = text.split(\"\\n\") \n",
    "    \n",
    "    #remove useless punctuation\n",
    "    punctuation = r'[/()-.?!,\";{}]'\n",
    "    text= [re.sub(punctuation,\"\", sentence) for sentence in text]\n",
    "    \n",
    "    #seperate each word\n",
    "    text = [line.split(' ') for line in text]\n",
    "    \n",
    "    #flatten the list of lists\n",
    "\n",
    "    \n",
    "    #remove empty lines\n",
    "    text = [line for line in text if len(line)!=0]\n",
    "    \n",
    "    \n",
    "    #remove all expressions in between brackets and empty words\n",
    "    text = [ [word.strip() for word in line if len(word) != 0 and word[0]!= \"[\"] for line in text]\n",
    "    \n",
    "    #remobe empty lines again\n",
    "    text = [line for line in text if len(line)!=0]\n",
    "    nb_lines = len(text)\n",
    "    \n",
    "    #stemmatization\n",
    "    ps = PorterStemmer()\n",
    "    text = [[ps.stem(word) for word in line] for line in text]\n",
    "    \n",
    "    nb_words = 0\n",
    "    for line in text:\n",
    "        nb_words += len(line)\n",
    "\n",
    "\n",
    "    return text, nb_lines, nb_words\n",
    "\n",
    "def title_pre_processing(title):\n",
    "    title = title.lower()  # lowercase\n",
    "    #title = re.sub(r'\\.txt$', '', title)  # remove .txt extension\n",
    "    punctuation = r'[-.?!,\";/]'\n",
    "    title = re.sub(punctuation, \"\", title)\n",
    "    title = re.sub(r'[\\(\\[].*?[\\)\\]]', '', title)\n",
    "    title = title.strip()\n",
    "    return title"
   ]
  },
  {
   "attachments": {},
   "cell_type": "markdown",
   "id": "6a8832dc",
   "metadata": {},
   "source": [
    "Let's vizualize the data"
   ]
  },
  {
   "cell_type": "code",
   "execution_count": 1168,
   "id": "01f3fc80",
   "metadata": {
    "tags": []
   },
   "outputs": [],
   "source": [
    "data = []\n",
    "for i in range(len(x)):\n",
    "    song = x[i]\n",
    "    point = list(pre_processing(song))\n",
    "    point.append(song)\n",
    "    t = title_pre_processing(titles[i])\n",
    "    point.append(t)\n",
    "    point.append(y[i])\n",
    "    data.append(point)\n",
    "    "
   ]
  },
  {
   "cell_type": "code",
   "execution_count": 1169,
   "id": "b2e50564",
   "metadata": {
    "tags": []
   },
   "outputs": [
    {
     "data": {
      "text/html": [
       "<div>\n",
       "<style scoped>\n",
       "    .dataframe tbody tr th:only-of-type {\n",
       "        vertical-align: middle;\n",
       "    }\n",
       "\n",
       "    .dataframe tbody tr th {\n",
       "        vertical-align: top;\n",
       "    }\n",
       "\n",
       "    .dataframe thead th {\n",
       "        text-align: right;\n",
       "    }\n",
       "</style>\n",
       "<table border=\"1\" class=\"dataframe\">\n",
       "  <thead>\n",
       "    <tr style=\"text-align: right;\">\n",
       "      <th></th>\n",
       "      <th>Lyrics</th>\n",
       "      <th>Nb_Lines</th>\n",
       "      <th>Nb_Words</th>\n",
       "      <th>Raw_Lyrics</th>\n",
       "      <th>Title</th>\n",
       "      <th>Artist</th>\n",
       "    </tr>\n",
       "  </thead>\n",
       "  <tbody>\n",
       "    <tr>\n",
       "      <th>0</th>\n",
       "      <td>[[i, can't, get, no, satisfact], [i, can't, ge...</td>\n",
       "      <td>44</td>\n",
       "      <td>291</td>\n",
       "      <td>\\nI can't get no satisfaction\\nI can't get no ...</td>\n",
       "      <td>satisfaction</td>\n",
       "      <td>0</td>\n",
       "    </tr>\n",
       "    <tr>\n",
       "      <th>1</th>\n",
       "      <td>[[to, the, bag, pack, first, love, leaver], [t...</td>\n",
       "      <td>39</td>\n",
       "      <td>291</td>\n",
       "      <td>\\nTo the bag packed, first love leaver\\nThe he...</td>\n",
       "      <td>a little dive bar in dahlonega</td>\n",
       "      <td>0</td>\n",
       "    </tr>\n",
       "    <tr>\n",
       "      <th>2</th>\n",
       "      <td>[[check, my, lipstick, in, your, aviat], [like...</td>\n",
       "      <td>27</td>\n",
       "      <td>235</td>\n",
       "      <td>\\nChecking my lipstick in your aviators\\nLike ...</td>\n",
       "      <td>american scandal</td>\n",
       "      <td>0</td>\n",
       "    </tr>\n",
       "    <tr>\n",
       "      <th>3</th>\n",
       "      <td>[[you, drink, my, whiskey, without, ask], [you...</td>\n",
       "      <td>45</td>\n",
       "      <td>300</td>\n",
       "      <td>\\nYou drink my whiskey without asking\\nYou put...</td>\n",
       "      <td>andy</td>\n",
       "      <td>0</td>\n",
       "    </tr>\n",
       "    <tr>\n",
       "      <th>4</th>\n",
       "      <td>[[row, and, row, of, black, and, yellow, in, t...</td>\n",
       "      <td>24</td>\n",
       "      <td>192</td>\n",
       "      <td>\\nRows and rows of blacks and yellows in the t...</td>\n",
       "      <td>arkansas</td>\n",
       "      <td>0</td>\n",
       "    </tr>\n",
       "  </tbody>\n",
       "</table>\n",
       "</div>"
      ],
      "text/plain": [
       "                                              Lyrics  Nb_Lines  Nb_Words   \n",
       "0  [[i, can't, get, no, satisfact], [i, can't, ge...        44       291  \\\n",
       "1  [[to, the, bag, pack, first, love, leaver], [t...        39       291   \n",
       "2  [[check, my, lipstick, in, your, aviat], [like...        27       235   \n",
       "3  [[you, drink, my, whiskey, without, ask], [you...        45       300   \n",
       "4  [[row, and, row, of, black, and, yellow, in, t...        24       192   \n",
       "\n",
       "                                          Raw_Lyrics   \n",
       "0  \\nI can't get no satisfaction\\nI can't get no ...  \\\n",
       "1  \\nTo the bag packed, first love leaver\\nThe he...   \n",
       "2  \\nChecking my lipstick in your aviators\\nLike ...   \n",
       "3  \\nYou drink my whiskey without asking\\nYou put...   \n",
       "4  \\nRows and rows of blacks and yellows in the t...   \n",
       "\n",
       "                            Title  Artist  \n",
       "0                    satisfaction       0  \n",
       "1  a little dive bar in dahlonega       0  \n",
       "2                american scandal       0  \n",
       "3                            andy       0  \n",
       "4                        arkansas       0  "
      ]
     },
     "execution_count": 1169,
     "metadata": {},
     "output_type": "execute_result"
    }
   ],
   "source": [
    "df = pd.DataFrame(data, columns=['Lyrics', 'Nb_Lines', 'Nb_Words', 'Raw_Lyrics', 'Title', 'Artist'])\n",
    "df.head()"
   ]
  },
  {
   "cell_type": "code",
   "execution_count": 1170,
   "id": "2cfb7a5c",
   "metadata": {
    "tags": []
   },
   "outputs": [],
   "source": [
    "def plot_box_graph(features):\n",
    "    \n",
    "    nb_graphs = len(features)\n",
    "    if nb_graphs == 1:\n",
    "        feature = features[0]\n",
    "        to_plot = []\n",
    "        for art in sample:\n",
    "            d1 = df.loc[df['Artist'] == art, feature]\n",
    "            to_plot.append(d1.tolist())\n",
    "        plt.boxplot(to_plot)\n",
    "        xtick_labels = [arts_dict_op[i] for i in sample]\n",
    "        plt.gca().set_xticklabels(xtick_labels, rotation='vertical', fontsize=8)\n",
    "        plt.title(feature)\n",
    "\n",
    "        plt.show()\n",
    "    else:\n",
    "        fig, graphs = plt.subplots(1, nb_graphs, figsize=(10, 4), gridspec_kw={'wspace': 0.3})\n",
    "    \n",
    "        plots = [[] for _ in range(nb_graphs)]\n",
    "\n",
    "        for art in sample:\n",
    "            for i in range(len(features)):\n",
    "                feature = features[i]\n",
    "                d = df.loc[df['Artist'] == art, feature]\n",
    "                plots[i].append(d)\n",
    "        \n",
    "        for i in range(len(plots)):\n",
    "            graphs[i].boxplot(plots[i])\n",
    "\n",
    "        xtick_labels = [arts_dict_op[i] for i in sample]\n",
    "        \n",
    "        for i in range(len(features)):\n",
    "            feature = features[i]\n",
    "            graphs[i].set_xticklabels(xtick_labels, rotation='vertical', fontsize=8)\n",
    "            graphs[i].set_title(feature)\n",
    "\n",
    "        \n",
    "        plt.show()\n",
    "        \n",
    "def plot_bar_graph(feature):\n",
    "    \n",
    "    to_plot = []\n",
    "    for art in sample:\n",
    "        d1 = df.loc[df['Artist'] == art, feature]\n",
    "        to_plot.append(d1.mean())\n",
    "\n",
    "    plt.bar(np.arange(len(to_plot)), to_plot) \n",
    "    xtick_labels = [arts_dict_op[i] for i in sample]\n",
    "    plt.xticks(np.arange(len(to_plot)), xtick_labels, rotation='vertical', fontsize=8)  \n",
    "    plt.title(feature)\n",
    "\n",
    "    plt.show()"
   ]
  },
  {
   "cell_type": "code",
   "execution_count": 1171,
   "id": "1ed95c57",
   "metadata": {
    "tags": []
   },
   "outputs": [],
   "source": [
    "#let's add the RID columns\n",
    "def RID_dict(text):\n",
    "    text = text.split(\"\\n\")\n",
    "    text = [re.findall(r'\\d+(?:\\.\\d+)?|\\D+', t) for t in text]\n",
    "    #text = [t.split(' ') for t in text if len(t)!=0 and t[0].isupper()]\n",
    "    text = [[word.strip() for word in t if re.match(r'^[A-Z0-9.]', word)] for t in text]\n",
    "    text = [arr for arr in text if len(arr) != 0]\n",
    "    summary = text[-4:-1]\n",
    "    details = text[:-4]\n",
    "    lenght = text[-1][0]\n",
    "    details = [ [word.replace(' ', ':') for word in line] for line in details]\n",
    "    summary = [ [s.replace(':', '').strip() for s in line] for line in summary]\n",
    "    summary = [ [s.replace(':', '').strip() for s in line] for line in summary]\n",
    "\n",
    "    details = {d[0] : (int(d[1]))/(int(lenght)) for d in details}\n",
    "    #details = {d[0] : int(d[1]) for d in details}\n",
    "    summary = {d[0] : float(d[1]) for d in summary}\n",
    "    \n",
    "    return details, summary\n",
    "\n",
    "RID_DETAILS = {}\n",
    "RID_SUMMARY = {'RID_PRIMARY': [], 'RID_SECONDARY' : [], 'RID_EMOTIONS' : []}\n",
    "\n",
    "#first let's get the labels\n",
    "for rid in RID_features:\n",
    "    d, s = RID_dict(rid)\n",
    "    for key in d.keys():\n",
    "        if key not in RID_DETAILS.keys():\n",
    "            RID_DETAILS['RID_'+key] = []\n",
    "\n",
    "#now fill in the values\n",
    "for rid in RID_features:\n",
    "    d, s = RID_dict(rid)\n",
    "    for key in RID_DETAILS.keys():\n",
    "        if key[4:] in d.keys():\n",
    "            RID_DETAILS[key].append(d[key[4:]])\n",
    "        else:\n",
    "            RID_DETAILS[key].append(0)\n",
    "    for key in s.keys():\n",
    "        RID_SUMMARY['RID_'+key].append(s[key])\n"
   ]
  },
  {
   "cell_type": "code",
   "execution_count": 1172,
   "id": "f7a8c967",
   "metadata": {
    "tags": []
   },
   "outputs": [
    {
     "data": {
      "text/html": [
       "<div>\n",
       "<style scoped>\n",
       "    .dataframe tbody tr th:only-of-type {\n",
       "        vertical-align: middle;\n",
       "    }\n",
       "\n",
       "    .dataframe tbody tr th {\n",
       "        vertical-align: top;\n",
       "    }\n",
       "\n",
       "    .dataframe thead th {\n",
       "        text-align: right;\n",
       "    }\n",
       "</style>\n",
       "<table border=\"1\" class=\"dataframe\">\n",
       "  <thead>\n",
       "    <tr style=\"text-align: right;\">\n",
       "      <th></th>\n",
       "      <th>Lyrics</th>\n",
       "      <th>Nb_Lines</th>\n",
       "      <th>Nb_Words</th>\n",
       "      <th>Raw_Lyrics</th>\n",
       "      <th>Title</th>\n",
       "      <th>Artist</th>\n",
       "      <th>RID_SECONDARY:INSTRUMENTAL:BEHAVIOR</th>\n",
       "      <th>RID_SECONDARY:SOCIAL:BEHAVIOR</th>\n",
       "      <th>RID_SECONDARY:ABSTRACTION</th>\n",
       "      <th>RID_EMOTIONS:POSITIVE:AFFECT</th>\n",
       "      <th>...</th>\n",
       "      <th>RID_EMOTIONS:SADNESS</th>\n",
       "      <th>RID_PRIMARY:SENSATION:TASTE</th>\n",
       "      <th>RID_SECONDARY:ORDER</th>\n",
       "      <th>RID_PRIMARY:SENSATION:ODOR</th>\n",
       "      <th>RID_PRIMARY:REGRESSIVE:COGNITION:UNKNOWN</th>\n",
       "      <th>RID_PRIMARY:SENSATION:TOUCH</th>\n",
       "      <th>RID_PRIMARY:REGRESSIVE:COGNITION:TIMELESSNESS</th>\n",
       "      <th>RID_PRIMARY</th>\n",
       "      <th>RID_SECONDARY</th>\n",
       "      <th>RID_EMOTIONS</th>\n",
       "    </tr>\n",
       "  </thead>\n",
       "  <tbody>\n",
       "    <tr>\n",
       "      <th>0</th>\n",
       "      <td>[[i, can't, get, no, satisfact], [i, can't, ge...</td>\n",
       "      <td>44</td>\n",
       "      <td>291</td>\n",
       "      <td>\\nI can't get no satisfaction\\nI can't get no ...</td>\n",
       "      <td>satisfaction</td>\n",
       "      <td>0</td>\n",
       "      <td>0.042169</td>\n",
       "      <td>0.021084</td>\n",
       "      <td>0.018072</td>\n",
       "      <td>0.015060</td>\n",
       "      <td>...</td>\n",
       "      <td>0.0</td>\n",
       "      <td>0.0</td>\n",
       "      <td>0.0</td>\n",
       "      <td>0.0</td>\n",
       "      <td>0.0</td>\n",
       "      <td>0.0</td>\n",
       "      <td>0.0</td>\n",
       "      <td>20.000000</td>\n",
       "      <td>68.888889</td>\n",
       "      <td>11.111111</td>\n",
       "    </tr>\n",
       "    <tr>\n",
       "      <th>1</th>\n",
       "      <td>[[to, the, bag, pack, first, love, leaver], [t...</td>\n",
       "      <td>39</td>\n",
       "      <td>291</td>\n",
       "      <td>\\nTo the bag packed, first love leaver\\nThe he...</td>\n",
       "      <td>a little dive bar in dahlonega</td>\n",
       "      <td>0</td>\n",
       "      <td>0.019108</td>\n",
       "      <td>0.003185</td>\n",
       "      <td>0.000000</td>\n",
       "      <td>0.000000</td>\n",
       "      <td>...</td>\n",
       "      <td>0.0</td>\n",
       "      <td>0.0</td>\n",
       "      <td>0.0</td>\n",
       "      <td>0.0</td>\n",
       "      <td>0.0</td>\n",
       "      <td>0.0</td>\n",
       "      <td>0.0</td>\n",
       "      <td>49.333333</td>\n",
       "      <td>20.000000</td>\n",
       "      <td>30.666667</td>\n",
       "    </tr>\n",
       "    <tr>\n",
       "      <th>2</th>\n",
       "      <td>[[check, my, lipstick, in, your, aviat], [like...</td>\n",
       "      <td>27</td>\n",
       "      <td>235</td>\n",
       "      <td>\\nChecking my lipstick in your aviators\\nLike ...</td>\n",
       "      <td>american scandal</td>\n",
       "      <td>0</td>\n",
       "      <td>0.000000</td>\n",
       "      <td>0.019305</td>\n",
       "      <td>0.019305</td>\n",
       "      <td>0.000000</td>\n",
       "      <td>...</td>\n",
       "      <td>0.0</td>\n",
       "      <td>0.0</td>\n",
       "      <td>0.0</td>\n",
       "      <td>0.0</td>\n",
       "      <td>0.0</td>\n",
       "      <td>0.0</td>\n",
       "      <td>0.0</td>\n",
       "      <td>37.500000</td>\n",
       "      <td>26.785714</td>\n",
       "      <td>35.714286</td>\n",
       "    </tr>\n",
       "    <tr>\n",
       "      <th>3</th>\n",
       "      <td>[[you, drink, my, whiskey, without, ask], [you...</td>\n",
       "      <td>45</td>\n",
       "      <td>300</td>\n",
       "      <td>\\nYou drink my whiskey without asking\\nYou put...</td>\n",
       "      <td>andy</td>\n",
       "      <td>0</td>\n",
       "      <td>0.006024</td>\n",
       "      <td>0.030120</td>\n",
       "      <td>0.033133</td>\n",
       "      <td>0.009036</td>\n",
       "      <td>...</td>\n",
       "      <td>0.0</td>\n",
       "      <td>0.0</td>\n",
       "      <td>0.0</td>\n",
       "      <td>0.0</td>\n",
       "      <td>0.0</td>\n",
       "      <td>0.0</td>\n",
       "      <td>0.0</td>\n",
       "      <td>34.722222</td>\n",
       "      <td>47.222222</td>\n",
       "      <td>18.055556</td>\n",
       "    </tr>\n",
       "    <tr>\n",
       "      <th>4</th>\n",
       "      <td>[[row, and, row, of, black, and, yellow, in, t...</td>\n",
       "      <td>24</td>\n",
       "      <td>192</td>\n",
       "      <td>\\nRows and rows of blacks and yellows in the t...</td>\n",
       "      <td>arkansas</td>\n",
       "      <td>0</td>\n",
       "      <td>0.004902</td>\n",
       "      <td>0.009804</td>\n",
       "      <td>0.019608</td>\n",
       "      <td>0.000000</td>\n",
       "      <td>...</td>\n",
       "      <td>0.0</td>\n",
       "      <td>0.0</td>\n",
       "      <td>0.0</td>\n",
       "      <td>0.0</td>\n",
       "      <td>0.0</td>\n",
       "      <td>0.0</td>\n",
       "      <td>0.0</td>\n",
       "      <td>48.936170</td>\n",
       "      <td>36.170213</td>\n",
       "      <td>14.893617</td>\n",
       "    </tr>\n",
       "  </tbody>\n",
       "</table>\n",
       "<p>5 rows × 52 columns</p>\n",
       "</div>"
      ],
      "text/plain": [
       "                                              Lyrics  Nb_Lines  Nb_Words   \n",
       "0  [[i, can't, get, no, satisfact], [i, can't, ge...        44       291  \\\n",
       "1  [[to, the, bag, pack, first, love, leaver], [t...        39       291   \n",
       "2  [[check, my, lipstick, in, your, aviat], [like...        27       235   \n",
       "3  [[you, drink, my, whiskey, without, ask], [you...        45       300   \n",
       "4  [[row, and, row, of, black, and, yellow, in, t...        24       192   \n",
       "\n",
       "                                          Raw_Lyrics   \n",
       "0  \\nI can't get no satisfaction\\nI can't get no ...  \\\n",
       "1  \\nTo the bag packed, first love leaver\\nThe he...   \n",
       "2  \\nChecking my lipstick in your aviators\\nLike ...   \n",
       "3  \\nYou drink my whiskey without asking\\nYou put...   \n",
       "4  \\nRows and rows of blacks and yellows in the t...   \n",
       "\n",
       "                            Title  Artist   \n",
       "0                    satisfaction       0  \\\n",
       "1  a little dive bar in dahlonega       0   \n",
       "2                american scandal       0   \n",
       "3                            andy       0   \n",
       "4                        arkansas       0   \n",
       "\n",
       "   RID_SECONDARY:INSTRUMENTAL:BEHAVIOR  RID_SECONDARY:SOCIAL:BEHAVIOR   \n",
       "0                             0.042169                       0.021084  \\\n",
       "1                             0.019108                       0.003185   \n",
       "2                             0.000000                       0.019305   \n",
       "3                             0.006024                       0.030120   \n",
       "4                             0.004902                       0.009804   \n",
       "\n",
       "   RID_SECONDARY:ABSTRACTION  RID_EMOTIONS:POSITIVE:AFFECT  ...   \n",
       "0                   0.018072                      0.015060  ...  \\\n",
       "1                   0.000000                      0.000000  ...   \n",
       "2                   0.019305                      0.000000  ...   \n",
       "3                   0.033133                      0.009036  ...   \n",
       "4                   0.019608                      0.000000  ...   \n",
       "\n",
       "   RID_EMOTIONS:SADNESS  RID_PRIMARY:SENSATION:TASTE  RID_SECONDARY:ORDER   \n",
       "0                   0.0                          0.0                  0.0  \\\n",
       "1                   0.0                          0.0                  0.0   \n",
       "2                   0.0                          0.0                  0.0   \n",
       "3                   0.0                          0.0                  0.0   \n",
       "4                   0.0                          0.0                  0.0   \n",
       "\n",
       "   RID_PRIMARY:SENSATION:ODOR  RID_PRIMARY:REGRESSIVE:COGNITION:UNKNOWN   \n",
       "0                         0.0                                       0.0  \\\n",
       "1                         0.0                                       0.0   \n",
       "2                         0.0                                       0.0   \n",
       "3                         0.0                                       0.0   \n",
       "4                         0.0                                       0.0   \n",
       "\n",
       "   RID_PRIMARY:SENSATION:TOUCH  RID_PRIMARY:REGRESSIVE:COGNITION:TIMELESSNESS   \n",
       "0                          0.0                                            0.0  \\\n",
       "1                          0.0                                            0.0   \n",
       "2                          0.0                                            0.0   \n",
       "3                          0.0                                            0.0   \n",
       "4                          0.0                                            0.0   \n",
       "\n",
       "   RID_PRIMARY  RID_SECONDARY  RID_EMOTIONS  \n",
       "0    20.000000      68.888889     11.111111  \n",
       "1    49.333333      20.000000     30.666667  \n",
       "2    37.500000      26.785714     35.714286  \n",
       "3    34.722222      47.222222     18.055556  \n",
       "4    48.936170      36.170213     14.893617  \n",
       "\n",
       "[5 rows x 52 columns]"
      ]
     },
     "execution_count": 1172,
     "metadata": {},
     "output_type": "execute_result"
    }
   ],
   "source": [
    "df = df.assign(**RID_DETAILS)\n",
    "df = df.assign(**RID_SUMMARY)\n",
    "df.head()"
   ]
  },
  {
   "cell_type": "code",
   "execution_count": 1173,
   "id": "81703e24",
   "metadata": {
    "tags": []
   },
   "outputs": [
    {
     "name": "stdout",
     "output_type": "stream",
     "text": [
      "Dropped 71 duplicates\n"
     ]
    }
   ],
   "source": [
    "s1 = df.shape[0]\n",
    "df = df.drop_duplicates(subset=['Title', 'Artist'])\n",
    "s2 = df.shape[0]\n",
    "print(f'Dropped {s1 - s2} duplicates')\n",
    "\n",
    "raw_songs = df[\"Raw_Lyrics\"].to_list()"
   ]
  },
  {
   "cell_type": "code",
   "execution_count": 1174,
   "id": "967fc8e0-3186-47de-870c-26b981cc1697",
   "metadata": {
    "tags": []
   },
   "outputs": [],
   "source": [
    "#FUNCTIONS TO MEASURE SIMILARITY\n",
    "\n",
    "def levenshtein_similarity(text1, text2):\n",
    "    distance = Levenshtein.distance(text1, text2)\n",
    "    max_length = max(len(text1), len(text2))\n",
    "    similarity = (max_length - distance) / (max_length + 1)\n",
    "    return similarity\n",
    "\n",
    "def jaccard_similarity(text1, text2):\n",
    "    set1 = set(text1)\n",
    "    set2 = set(text2)\n",
    "    intersection = len(set1.intersection(set2))\n",
    "    union = len(set1.union(set2))\n",
    "    similarity = intersection / (union + 1)\n",
    "    return similarity"
   ]
  },
  {
   "cell_type": "code",
   "execution_count": 1175,
   "id": "508dc672-b9aa-407a-a7b6-6da8c545d28c",
   "metadata": {
    "tags": []
   },
   "outputs": [
    {
     "name": "stdout",
     "output_type": "stream",
     "text": [
      "Dropped 14 covers\n"
     ]
    }
   ],
   "source": [
    "# Create a mask to identify the rows to drop\n",
    "mask = np.zeros(len(df), dtype=bool)\n",
    "\n",
    "\n",
    "for idx1, row1 in df.iterrows():\n",
    "    song1 = row1[\"Raw_Lyrics\"]\n",
    "    title1 = row1[\"Title\"]\n",
    "    artist1 = row1[\"Artist\"]\n",
    "    \n",
    "    # Filter rows with the same title but different artist\n",
    "    duplicate_rows = df[(df[\"Title\"] == title1) & (df[\"Artist\"] != artist1)]\n",
    "    \n",
    "    \n",
    "    # Calculate similarity scores between song1 and duplicate rows\n",
    "    similarity_scores_lev = duplicate_rows[\"Raw_Lyrics\"].apply(lambda x: levenshtein_similarity(song1, x))\n",
    "    \n",
    "    # Identify rows with similarity scores above 0.8\n",
    "    similar_rows_lev = duplicate_rows[similarity_scores_lev > 0.8]\n",
    "\n",
    "    \n",
    "    \n",
    "    df.drop(similar_rows_lev.index, inplace=True)\n",
    "\n",
    "# Drop the marked rows using the mask\n",
    "#df.drop(df.index[mask], inplace=True)\n",
    "\n",
    "s3 = df.shape[0]\n",
    "print(f'Dropped {s2 - s3} covers')"
   ]
  },
  {
   "cell_type": "code",
   "execution_count": 1176,
   "id": "78036b4c-f23f-402d-9aa1-b6aed9a616a4",
   "metadata": {
    "tags": []
   },
   "outputs": [
    {
     "name": "stdout",
     "output_type": "stream",
     "text": [
      "Dropped 66 songs that were too short\n",
      "Dropped 7 intros and outros\n"
     ]
    }
   ],
   "source": [
    "df = df[df['Nb_Words'] >= 50]\n",
    "s4 = df.shape[0]\n",
    "\n",
    "print(f'Dropped {s3 - s4} songs that were too short')\n",
    "\n",
    "df = df[~df['Title'].str.contains('intro', case=False)]\n",
    "df = df[~df['Title'].str.contains('outro', case=False)]\n",
    "s5 = df.shape[0]\n",
    "\n",
    "print(f'Dropped {s4 - s5} intros and outros')"
   ]
  },
  {
   "cell_type": "code",
   "execution_count": 1177,
   "id": "a5e3756c-0073-44fd-8cc0-f419330d4423",
   "metadata": {
    "tags": []
   },
   "outputs": [],
   "source": [
    "def dropping_artists():\n",
    "    # Compute the count of instances for each artist\n",
    "    artist_counts = df['Artist'].value_counts()\n",
    "\n",
    "    # Identify artists with counts less than 50\n",
    "    artists_to_drop = artist_counts[artist_counts < 50].index\n",
    "\n",
    "    # Create a boolean mask indicating rows to be dropped\n",
    "    mask = df['Artist'].isin(artists_to_drop)\n",
    "\n",
    "    # Filter and drop the corresponding rows from the DataFrame\n",
    "    df.drop(df[mask].index, inplace=True)\n",
    "\n",
    "    l1 = len(artists)\n",
    "    # Remove the artists from the artists array\n",
    "    new_artists = [art for art in artists if arts_dict[art] not in artists_to_drop]\n",
    "    dropped_artists = [art for art in artists if arts_dict[art] in artists_to_drop]\n",
    "    for art in dropped_artists:\n",
    "        del arts_dict_op[arts_dict[art]]\n",
    "        del arts_dict[art]\n",
    "\n",
    "    l2 = len(new_artists)\n",
    "\n",
    "\n",
    "    s6 = df.shape[0]\n",
    "    print(f'Dropped {l1 - l2} artists that had too few songs : -{s5 - s6} songs')"
   ]
  },
  {
   "cell_type": "code",
   "execution_count": 1178,
   "id": "64ab5476-dced-43ae-bf74-b8cf61e936f2",
   "metadata": {
    "tags": []
   },
   "outputs": [
    {
     "name": "stdout",
     "output_type": "stream",
     "text": [
      "Artist with the most songs: Merle Haggard (150 songs)\n",
      "Artist with the least songs: Harry Styles (11 songs)\n"
     ]
    }
   ],
   "source": [
    "artist_counts = df['Artist'].value_counts()\n",
    "\n",
    "artist_most_songs = artist_counts.idxmax()\n",
    "most_songs_count = artist_counts.max()\n",
    "\n",
    "artist_least_songs = artist_counts.idxmin()\n",
    "least_songs_count = artist_counts.min()\n",
    "\n",
    "print(f\"Artist with the most songs: {artists[artist_most_songs]} ({most_songs_count} songs)\")\n",
    "print(f\"Artist with the least songs: {artists[artist_least_songs]} ({least_songs_count} songs)\")"
   ]
  },
  {
   "cell_type": "code",
   "execution_count": 1179,
   "id": "d0c1e4da-7f3b-404b-96a8-551e1c56c479",
   "metadata": {
    "tags": []
   },
   "outputs": [],
   "source": [
    "def undersampling():\n",
    "    # Identify artists with a total number of songs greater than 130\n",
    "    artists_above_threshold = artist_counts[artist_counts > 130].index\n",
    "\n",
    "   \n",
    "    for artist in artists_above_threshold:\n",
    "        # Get the indices of songs by the current artist\n",
    "        artist_indices = df[df['Artist'] == artist].index\n",
    "\n",
    "        # Calculate the number of songs to be dropped\n",
    "        songs_to_drop = len(artist_indices) - 130\n",
    "\n",
    "        # Randomly select and drop songs until count reaches 130\n",
    "        songs_to_keep = np.random.choice(artist_indices, size=130, replace=False)\n",
    "        df.drop(artist_indices.difference(songs_to_keep), inplace=True)\n",
    "\n",
    "    s7 = df.shape[0]\n",
    "    print(f'Dropped {s6 - s7} songs from undersampling too represented artists')"
   ]
  },
  {
   "cell_type": "code",
   "execution_count": 1180,
   "id": "3c85102e-9aa7-4e30-b9d6-2fccb604a041",
   "metadata": {
    "tags": []
   },
   "outputs": [
    {
     "name": "stdout",
     "output_type": "stream",
     "text": [
      "AFTER CLEANING\n",
      "\n",
      "Number of songs : 4012\n",
      "Number of artists : 50\n",
      "Average number of songs per artist : 80\n"
     ]
    }
   ],
   "source": [
    "print(\"AFTER CLEANING\\n\")\n",
    "\n",
    "print(f'Number of songs : {df.shape[0]}')\n",
    "print(f'Number of artists : {len(arts_dict)}')\n",
    "print(f'Average number of songs per artist : {int((df.shape[0])/len(arts_dict))}')"
   ]
  },
  {
   "cell_type": "code",
   "execution_count": 1181,
   "id": "9d003ed2-cd4d-4b04-8f5d-bdb607deee20",
   "metadata": {
    "tags": []
   },
   "outputs": [],
   "source": [
    "if NUMBER_OF_ARTISTS > 10:\n",
    "    sample = random.sample(list(arts_dict_op.keys()), 10)\n",
    "else:\n",
    "    sample = random.sample(list(arts_dict_op.keys()), NUMBER_OF_ARTISTS)"
   ]
  },
  {
   "cell_type": "code",
   "execution_count": 1182,
   "id": "6cc134cd",
   "metadata": {
    "tags": []
   },
   "outputs": [
    {
     "data": {
      "image/png": "[encoded data removed]",
      "text/plain": [
       "<Figure size 1000x400 with 2 Axes>"
      ]
     },
     "metadata": {},
     "output_type": "display_data"
    }
   ],
   "source": [
    "plot_box_graph([\"RID_PRIMARY\", \"RID_EMOTIONS\"])"
   ]
  },
  {
   "cell_type": "code",
   "execution_count": 1183,
   "id": "87676540",
   "metadata": {
    "tags": []
   },
   "outputs": [
    {
     "data": {
      "text/html": [
       "<div>\n",
       "<style scoped>\n",
       "    .dataframe tbody tr th:only-of-type {\n",
       "        vertical-align: middle;\n",
       "    }\n",
       "\n",
       "    .dataframe tbody tr th {\n",
       "        vertical-align: top;\n",
       "    }\n",
       "\n",
       "    .dataframe thead th {\n",
       "        text-align: right;\n",
       "    }\n",
       "</style>\n",
       "<table border=\"1\" class=\"dataframe\">\n",
       "  <thead>\n",
       "    <tr style=\"text-align: right;\">\n",
       "      <th></th>\n",
       "      <th>RID_SECONDARY:INSTRUMENTAL:BEHAVIOR</th>\n",
       "      <th>RID_SECONDARY:SOCIAL:BEHAVIOR</th>\n",
       "      <th>RID_SECONDARY:ABSTRACTION</th>\n",
       "      <th>RID_EMOTIONS:POSITIVE:AFFECT</th>\n",
       "      <th>RID_SECONDARY:TEMPORAL:REFERENCES</th>\n",
       "      <th>RID_PRIMARY:SENSATION:VISION</th>\n",
       "      <th>RID_PRIMARY:DEFENSIVE:SYMBOLIZATION:VOYAGE</th>\n",
       "      <th>RID_PRIMARY:ICARIAN:IMAGERY:FIRE</th>\n",
       "      <th>RID_PRIMARY:REGRESSIVE:COGNITION:CONCRETENESS</th>\n",
       "      <th>RID_EMOTIONS:AGGRESSION</th>\n",
       "      <th>...</th>\n",
       "      <th>RID_EMOTIONS:SADNESS</th>\n",
       "      <th>RID_PRIMARY:SENSATION:TASTE</th>\n",
       "      <th>RID_SECONDARY:ORDER</th>\n",
       "      <th>RID_PRIMARY:SENSATION:ODOR</th>\n",
       "      <th>RID_PRIMARY:REGRESSIVE:COGNITION:UNKNOWN</th>\n",
       "      <th>RID_PRIMARY:SENSATION:TOUCH</th>\n",
       "      <th>RID_PRIMARY:REGRESSIVE:COGNITION:TIMELESSNESS</th>\n",
       "      <th>RID_PRIMARY</th>\n",
       "      <th>RID_SECONDARY</th>\n",
       "      <th>RID_EMOTIONS</th>\n",
       "    </tr>\n",
       "  </thead>\n",
       "  <tbody>\n",
       "    <tr>\n",
       "      <th>0</th>\n",
       "      <td>0.042169</td>\n",
       "      <td>0.021084</td>\n",
       "      <td>0.018072</td>\n",
       "      <td>0.015060</td>\n",
       "      <td>0.012048</td>\n",
       "      <td>0.009036</td>\n",
       "      <td>0.006024</td>\n",
       "      <td>0.006024</td>\n",
       "      <td>0.006024</td>\n",
       "      <td>0.000000</td>\n",
       "      <td>...</td>\n",
       "      <td>0.000000</td>\n",
       "      <td>0.0</td>\n",
       "      <td>0.0</td>\n",
       "      <td>0.000000</td>\n",
       "      <td>0.000000</td>\n",
       "      <td>0.0</td>\n",
       "      <td>0.000000</td>\n",
       "      <td>20.000000</td>\n",
       "      <td>68.888889</td>\n",
       "      <td>11.111111</td>\n",
       "    </tr>\n",
       "    <tr>\n",
       "      <th>1</th>\n",
       "      <td>0.019108</td>\n",
       "      <td>0.003185</td>\n",
       "      <td>0.000000</td>\n",
       "      <td>0.000000</td>\n",
       "      <td>0.006369</td>\n",
       "      <td>0.015924</td>\n",
       "      <td>0.000000</td>\n",
       "      <td>0.009554</td>\n",
       "      <td>0.025478</td>\n",
       "      <td>0.047771</td>\n",
       "      <td>...</td>\n",
       "      <td>0.000000</td>\n",
       "      <td>0.0</td>\n",
       "      <td>0.0</td>\n",
       "      <td>0.000000</td>\n",
       "      <td>0.000000</td>\n",
       "      <td>0.0</td>\n",
       "      <td>0.000000</td>\n",
       "      <td>49.333333</td>\n",
       "      <td>20.000000</td>\n",
       "      <td>30.666667</td>\n",
       "    </tr>\n",
       "    <tr>\n",
       "      <th>2</th>\n",
       "      <td>0.000000</td>\n",
       "      <td>0.019305</td>\n",
       "      <td>0.019305</td>\n",
       "      <td>0.000000</td>\n",
       "      <td>0.019305</td>\n",
       "      <td>0.015444</td>\n",
       "      <td>0.000000</td>\n",
       "      <td>0.000000</td>\n",
       "      <td>0.000000</td>\n",
       "      <td>0.003861</td>\n",
       "      <td>...</td>\n",
       "      <td>0.000000</td>\n",
       "      <td>0.0</td>\n",
       "      <td>0.0</td>\n",
       "      <td>0.000000</td>\n",
       "      <td>0.000000</td>\n",
       "      <td>0.0</td>\n",
       "      <td>0.000000</td>\n",
       "      <td>37.500000</td>\n",
       "      <td>26.785714</td>\n",
       "      <td>35.714286</td>\n",
       "    </tr>\n",
       "    <tr>\n",
       "      <th>3</th>\n",
       "      <td>0.006024</td>\n",
       "      <td>0.030120</td>\n",
       "      <td>0.033133</td>\n",
       "      <td>0.009036</td>\n",
       "      <td>0.024096</td>\n",
       "      <td>0.012048</td>\n",
       "      <td>0.003012</td>\n",
       "      <td>0.000000</td>\n",
       "      <td>0.030120</td>\n",
       "      <td>0.009036</td>\n",
       "      <td>...</td>\n",
       "      <td>0.000000</td>\n",
       "      <td>0.0</td>\n",
       "      <td>0.0</td>\n",
       "      <td>0.000000</td>\n",
       "      <td>0.000000</td>\n",
       "      <td>0.0</td>\n",
       "      <td>0.000000</td>\n",
       "      <td>34.722222</td>\n",
       "      <td>47.222222</td>\n",
       "      <td>18.055556</td>\n",
       "    </tr>\n",
       "    <tr>\n",
       "      <th>4</th>\n",
       "      <td>0.004902</td>\n",
       "      <td>0.009804</td>\n",
       "      <td>0.019608</td>\n",
       "      <td>0.000000</td>\n",
       "      <td>0.034314</td>\n",
       "      <td>0.009804</td>\n",
       "      <td>0.000000</td>\n",
       "      <td>0.000000</td>\n",
       "      <td>0.029412</td>\n",
       "      <td>0.004902</td>\n",
       "      <td>...</td>\n",
       "      <td>0.000000</td>\n",
       "      <td>0.0</td>\n",
       "      <td>0.0</td>\n",
       "      <td>0.000000</td>\n",
       "      <td>0.000000</td>\n",
       "      <td>0.0</td>\n",
       "      <td>0.000000</td>\n",
       "      <td>48.936170</td>\n",
       "      <td>36.170213</td>\n",
       "      <td>14.893617</td>\n",
       "    </tr>\n",
       "    <tr>\n",
       "      <th>...</th>\n",
       "      <td>...</td>\n",
       "      <td>...</td>\n",
       "      <td>...</td>\n",
       "      <td>...</td>\n",
       "      <td>...</td>\n",
       "      <td>...</td>\n",
       "      <td>...</td>\n",
       "      <td>...</td>\n",
       "      <td>...</td>\n",
       "      <td>...</td>\n",
       "      <td>...</td>\n",
       "      <td>...</td>\n",
       "      <td>...</td>\n",
       "      <td>...</td>\n",
       "      <td>...</td>\n",
       "      <td>...</td>\n",
       "      <td>...</td>\n",
       "      <td>...</td>\n",
       "      <td>...</td>\n",
       "      <td>...</td>\n",
       "      <td>...</td>\n",
       "    </tr>\n",
       "    <tr>\n",
       "      <th>4165</th>\n",
       "      <td>0.000000</td>\n",
       "      <td>0.010417</td>\n",
       "      <td>0.026042</td>\n",
       "      <td>0.020833</td>\n",
       "      <td>0.072917</td>\n",
       "      <td>0.005208</td>\n",
       "      <td>0.000000</td>\n",
       "      <td>0.000000</td>\n",
       "      <td>0.057292</td>\n",
       "      <td>0.031250</td>\n",
       "      <td>...</td>\n",
       "      <td>0.000000</td>\n",
       "      <td>0.0</td>\n",
       "      <td>0.0</td>\n",
       "      <td>0.005208</td>\n",
       "      <td>0.000000</td>\n",
       "      <td>0.0</td>\n",
       "      <td>0.000000</td>\n",
       "      <td>38.235294</td>\n",
       "      <td>36.764706</td>\n",
       "      <td>25.000000</td>\n",
       "    </tr>\n",
       "    <tr>\n",
       "      <th>4166</th>\n",
       "      <td>0.027778</td>\n",
       "      <td>0.055556</td>\n",
       "      <td>0.000000</td>\n",
       "      <td>0.000000</td>\n",
       "      <td>0.055556</td>\n",
       "      <td>0.000000</td>\n",
       "      <td>0.000000</td>\n",
       "      <td>0.013889</td>\n",
       "      <td>0.027778</td>\n",
       "      <td>0.013889</td>\n",
       "      <td>...</td>\n",
       "      <td>0.027778</td>\n",
       "      <td>0.0</td>\n",
       "      <td>0.0</td>\n",
       "      <td>0.000000</td>\n",
       "      <td>0.041667</td>\n",
       "      <td>0.0</td>\n",
       "      <td>0.027778</td>\n",
       "      <td>32.352941</td>\n",
       "      <td>35.294118</td>\n",
       "      <td>32.352941</td>\n",
       "    </tr>\n",
       "    <tr>\n",
       "      <th>4167</th>\n",
       "      <td>0.000000</td>\n",
       "      <td>0.022814</td>\n",
       "      <td>0.011407</td>\n",
       "      <td>0.000000</td>\n",
       "      <td>0.019011</td>\n",
       "      <td>0.007605</td>\n",
       "      <td>0.000000</td>\n",
       "      <td>0.000000</td>\n",
       "      <td>0.057034</td>\n",
       "      <td>0.003802</td>\n",
       "      <td>...</td>\n",
       "      <td>0.003802</td>\n",
       "      <td>0.0</td>\n",
       "      <td>0.0</td>\n",
       "      <td>0.007605</td>\n",
       "      <td>0.003802</td>\n",
       "      <td>0.0</td>\n",
       "      <td>0.000000</td>\n",
       "      <td>67.857143</td>\n",
       "      <td>26.785714</td>\n",
       "      <td>5.357143</td>\n",
       "    </tr>\n",
       "    <tr>\n",
       "      <th>4168</th>\n",
       "      <td>0.005780</td>\n",
       "      <td>0.017341</td>\n",
       "      <td>0.005780</td>\n",
       "      <td>0.000000</td>\n",
       "      <td>0.057803</td>\n",
       "      <td>0.000000</td>\n",
       "      <td>0.000000</td>\n",
       "      <td>0.000000</td>\n",
       "      <td>0.017341</td>\n",
       "      <td>0.011561</td>\n",
       "      <td>...</td>\n",
       "      <td>0.000000</td>\n",
       "      <td>0.0</td>\n",
       "      <td>0.0</td>\n",
       "      <td>0.005780</td>\n",
       "      <td>0.005780</td>\n",
       "      <td>0.0</td>\n",
       "      <td>0.011561</td>\n",
       "      <td>50.000000</td>\n",
       "      <td>37.500000</td>\n",
       "      <td>12.500000</td>\n",
       "    </tr>\n",
       "    <tr>\n",
       "      <th>4169</th>\n",
       "      <td>0.038462</td>\n",
       "      <td>0.000000</td>\n",
       "      <td>0.028846</td>\n",
       "      <td>0.000000</td>\n",
       "      <td>0.038462</td>\n",
       "      <td>0.000000</td>\n",
       "      <td>0.009615</td>\n",
       "      <td>0.019231</td>\n",
       "      <td>0.019231</td>\n",
       "      <td>0.009615</td>\n",
       "      <td>...</td>\n",
       "      <td>0.009615</td>\n",
       "      <td>0.0</td>\n",
       "      <td>0.0</td>\n",
       "      <td>0.000000</td>\n",
       "      <td>0.000000</td>\n",
       "      <td>0.0</td>\n",
       "      <td>0.000000</td>\n",
       "      <td>50.000000</td>\n",
       "      <td>37.500000</td>\n",
       "      <td>12.500000</td>\n",
       "    </tr>\n",
       "  </tbody>\n",
       "</table>\n",
       "<p>4012 rows × 46 columns</p>\n",
       "</div>"
      ],
      "text/plain": [
       "      RID_SECONDARY:INSTRUMENTAL:BEHAVIOR  RID_SECONDARY:SOCIAL:BEHAVIOR   \n",
       "0                                0.042169                       0.021084  \\\n",
       "1                                0.019108                       0.003185   \n",
       "2                                0.000000                       0.019305   \n",
       "3                                0.006024                       0.030120   \n",
       "4                                0.004902                       0.009804   \n",
       "...                                   ...                            ...   \n",
       "4165                             0.000000                       0.010417   \n",
       "4166                             0.027778                       0.055556   \n",
       "4167                             0.000000                       0.022814   \n",
       "4168                             0.005780                       0.017341   \n",
       "4169                             0.038462                       0.000000   \n",
       "\n",
       "      RID_SECONDARY:ABSTRACTION  RID_EMOTIONS:POSITIVE:AFFECT   \n",
       "0                      0.018072                      0.015060  \\\n",
       "1                      0.000000                      0.000000   \n",
       "2                      0.019305                      0.000000   \n",
       "3                      0.033133                      0.009036   \n",
       "4                      0.019608                      0.000000   \n",
       "...                         ...                           ...   \n",
       "4165                   0.026042                      0.020833   \n",
       "4166                   0.000000                      0.000000   \n",
       "4167                   0.011407                      0.000000   \n",
       "4168                   0.005780                      0.000000   \n",
       "4169                   0.028846                      0.000000   \n",
       "\n",
       "      RID_SECONDARY:TEMPORAL:REFERENCES  RID_PRIMARY:SENSATION:VISION   \n",
       "0                              0.012048                      0.009036  \\\n",
       "1                              0.006369                      0.015924   \n",
       "2                              0.019305                      0.015444   \n",
       "3                              0.024096                      0.012048   \n",
       "4                              0.034314                      0.009804   \n",
       "...                                 ...                           ...   \n",
       "4165                           0.072917                      0.005208   \n",
       "4166                           0.055556                      0.000000   \n",
       "4167                           0.019011                      0.007605   \n",
       "4168                           0.057803                      0.000000   \n",
       "4169                           0.038462                      0.000000   \n",
       "\n",
       "      RID_PRIMARY:DEFENSIVE:SYMBOLIZATION:VOYAGE   \n",
       "0                                       0.006024  \\\n",
       "1                                       0.000000   \n",
       "2                                       0.000000   \n",
       "3                                       0.003012   \n",
       "4                                       0.000000   \n",
       "...                                          ...   \n",
       "4165                                    0.000000   \n",
       "4166                                    0.000000   \n",
       "4167                                    0.000000   \n",
       "4168                                    0.000000   \n",
       "4169                                    0.009615   \n",
       "\n",
       "      RID_PRIMARY:ICARIAN:IMAGERY:FIRE   \n",
       "0                             0.006024  \\\n",
       "1                             0.009554   \n",
       "2                             0.000000   \n",
       "3                             0.000000   \n",
       "4                             0.000000   \n",
       "...                                ...   \n",
       "4165                          0.000000   \n",
       "4166                          0.013889   \n",
       "4167                          0.000000   \n",
       "4168                          0.000000   \n",
       "4169                          0.019231   \n",
       "\n",
       "      RID_PRIMARY:REGRESSIVE:COGNITION:CONCRETENESS  RID_EMOTIONS:AGGRESSION   \n",
       "0                                          0.006024                 0.000000  \\\n",
       "1                                          0.025478                 0.047771   \n",
       "2                                          0.000000                 0.003861   \n",
       "3                                          0.030120                 0.009036   \n",
       "4                                          0.029412                 0.004902   \n",
       "...                                             ...                      ...   \n",
       "4165                                       0.057292                 0.031250   \n",
       "4166                                       0.027778                 0.013889   \n",
       "4167                                       0.057034                 0.003802   \n",
       "4168                                       0.017341                 0.011561   \n",
       "4169                                       0.019231                 0.009615   \n",
       "\n",
       "      ...  RID_EMOTIONS:SADNESS  RID_PRIMARY:SENSATION:TASTE   \n",
       "0     ...              0.000000                          0.0  \\\n",
       "1     ...              0.000000                          0.0   \n",
       "2     ...              0.000000                          0.0   \n",
       "3     ...              0.000000                          0.0   \n",
       "4     ...              0.000000                          0.0   \n",
       "...   ...                   ...                          ...   \n",
       "4165  ...              0.000000                          0.0   \n",
       "4166  ...              0.027778                          0.0   \n",
       "4167  ...              0.003802                          0.0   \n",
       "4168  ...              0.000000                          0.0   \n",
       "4169  ...              0.009615                          0.0   \n",
       "\n",
       "      RID_SECONDARY:ORDER  RID_PRIMARY:SENSATION:ODOR   \n",
       "0                     0.0                    0.000000  \\\n",
       "1                     0.0                    0.000000   \n",
       "2                     0.0                    0.000000   \n",
       "3                     0.0                    0.000000   \n",
       "4                     0.0                    0.000000   \n",
       "...                   ...                         ...   \n",
       "4165                  0.0                    0.005208   \n",
       "4166                  0.0                    0.000000   \n",
       "4167                  0.0                    0.007605   \n",
       "4168                  0.0                    0.005780   \n",
       "4169                  0.0                    0.000000   \n",
       "\n",
       "      RID_PRIMARY:REGRESSIVE:COGNITION:UNKNOWN  RID_PRIMARY:SENSATION:TOUCH   \n",
       "0                                     0.000000                          0.0  \\\n",
       "1                                     0.000000                          0.0   \n",
       "2                                     0.000000                          0.0   \n",
       "3                                     0.000000                          0.0   \n",
       "4                                     0.000000                          0.0   \n",
       "...                                        ...                          ...   \n",
       "4165                                  0.000000                          0.0   \n",
       "4166                                  0.041667                          0.0   \n",
       "4167                                  0.003802                          0.0   \n",
       "4168                                  0.005780                          0.0   \n",
       "4169                                  0.000000                          0.0   \n",
       "\n",
       "      RID_PRIMARY:REGRESSIVE:COGNITION:TIMELESSNESS  RID_PRIMARY   \n",
       "0                                          0.000000    20.000000  \\\n",
       "1                                          0.000000    49.333333   \n",
       "2                                          0.000000    37.500000   \n",
       "3                                          0.000000    34.722222   \n",
       "4                                          0.000000    48.936170   \n",
       "...                                             ...          ...   \n",
       "4165                                       0.000000    38.235294   \n",
       "4166                                       0.027778    32.352941   \n",
       "4167                                       0.000000    67.857143   \n",
       "4168                                       0.011561    50.000000   \n",
       "4169                                       0.000000    50.000000   \n",
       "\n",
       "      RID_SECONDARY  RID_EMOTIONS  \n",
       "0         68.888889     11.111111  \n",
       "1         20.000000     30.666667  \n",
       "2         26.785714     35.714286  \n",
       "3         47.222222     18.055556  \n",
       "4         36.170213     14.893617  \n",
       "...             ...           ...  \n",
       "4165      36.764706     25.000000  \n",
       "4166      35.294118     32.352941  \n",
       "4167      26.785714      5.357143  \n",
       "4168      37.500000     12.500000  \n",
       "4169      37.500000     12.500000  \n",
       "\n",
       "[4012 rows x 46 columns]"
      ]
     },
     "execution_count": 1183,
     "metadata": {},
     "output_type": "execute_result"
    }
   ],
   "source": [
    "df_rid = df.filter(regex=r'^RID')\n",
    "df_rid"
   ]
  },
  {
   "cell_type": "code",
   "execution_count": 1184,
   "id": "8ea8efe2",
   "metadata": {
    "tags": []
   },
   "outputs": [
    {
     "data": {
      "text/plain": [
       "Index(['RID_SECONDARY:INSTRUMENTAL:BEHAVIOR', 'RID_SECONDARY:SOCIAL:BEHAVIOR',\n",
       "       'RID_SECONDARY:ABSTRACTION', 'RID_EMOTIONS:POSITIVE:AFFECT',\n",
       "       'RID_SECONDARY:TEMPORAL:REFERENCES', 'RID_PRIMARY:SENSATION:VISION',\n",
       "       'RID_PRIMARY:DEFENSIVE:SYMBOLIZATION:VOYAGE',\n",
       "       'RID_PRIMARY:ICARIAN:IMAGERY:FIRE',\n",
       "       'RID_PRIMARY:REGRESSIVE:COGNITION:CONCRETENESS',\n",
       "       'RID_EMOTIONS:AGGRESSION'],\n",
       "      dtype='object')"
      ]
     },
     "execution_count": 1184,
     "metadata": {},
     "output_type": "execute_result"
    }
   ],
   "source": [
    "# Instantiate PCA with the number of components set to the total number of features\n",
    "pca = PCA(n_components=len(df_rid.columns))\n",
    "\n",
    "# Fit PCA on the standardized features\n",
    "pca.fit(df_rid)\n",
    "\n",
    "# Get the explained variance ratio of each principal component\n",
    "explained_variance_ratio = pca.explained_variance_ratio_\n",
    "\n",
    "# Sort the variance ratios in descending order\n",
    "sorted_variance_ratio = sorted(explained_variance_ratio, reverse=True)\n",
    "\n",
    "# Get the indices of the top 10 features with the most variance\n",
    "top_10_indices = np.argsort(explained_variance_ratio)[::-1][:10]\n",
    "\n",
    "# Keep only the top 10 features in the DataFrame\n",
    "df_top_10 = df_rid.iloc[:, top_10_indices]\n",
    "df_top_10.columns"
   ]
  },
  {
   "cell_type": "code",
   "execution_count": 1185,
   "id": "8d84a7c9",
   "metadata": {
    "tags": []
   },
   "outputs": [
    {
     "data": {
      "image/png": "[encoded data removed]",
      "text/plain": [
       "<Figure size 1000x400 with 2 Axes>"
      ]
     },
     "metadata": {},
     "output_type": "display_data"
    }
   ],
   "source": [
    "plot_box_graph([\"Nb_Lines\", \"Nb_Words\"])"
   ]
  },
  {
   "cell_type": "code",
   "execution_count": 1186,
   "id": "71f3aa6a",
   "metadata": {
    "tags": []
   },
   "outputs": [],
   "source": [
    "df[\"Nb_Words_Per_Line\"] = df[\"Nb_Words\"]/df[\"Nb_Lines\"]"
   ]
  },
  {
   "cell_type": "code",
   "execution_count": 1187,
   "id": "14686b3f",
   "metadata": {
    "tags": []
   },
   "outputs": [
    {
     "data": {
      "image/png": "[encoded data removed]",
      "text/plain": [
       "<Figure size 640x480 with 1 Axes>"
      ]
     },
     "metadata": {},
     "output_type": "display_data"
    }
   ],
   "source": [
    "plot_box_graph([\"Nb_Words_Per_Line\"])"
   ]
  },
  {
   "attachments": {},
   "cell_type": "markdown",
   "id": "63db1788",
   "metadata": {},
   "source": [
    "We add a new feature: Type-Token ratio. It shows how repetitive a song is."
   ]
  },
  {
   "cell_type": "code",
   "execution_count": 1188,
   "id": "324a5b65",
   "metadata": {
    "tags": []
   },
   "outputs": [],
   "source": [
    "songs = df[\"Lyrics\"].to_list()\n",
    "songs_flatten = [[word for line in song for word in line] for song in songs]\n",
    "nb_words = df[\"Nb_Words\"].to_list()\n",
    "\n",
    "#unique word means appears only once in the song\n",
    "TTR = []\n",
    "for song, l in zip(songs_flatten, nb_words):\n",
    "    dic = {word: 0 for word in song}\n",
    "    non_unique_words = set()\n",
    "    for word in song:\n",
    "        dic[word] += 1\n",
    "        if dic[word] > 1: #if it appeared more than once, add it\n",
    "            non_unique_words.add(word)\n",
    "    nb_unique_words = l - len(non_unique_words)\n",
    "    ttr = nb_unique_words / l\n",
    "    TTR.append(ttr)\n",
    "    \n",
    "df['TTR'] = TTR"
   ]
  },
  {
   "cell_type": "code",
   "execution_count": 1189,
   "id": "4174184b",
   "metadata": {
    "tags": []
   },
   "outputs": [
    {
     "data": {
      "image/png": "[encoded data removed]",
      "text/plain": [
       "<Figure size 640x480 with 1 Axes>"
      ]
     },
     "metadata": {},
     "output_type": "display_data"
    }
   ],
   "source": [
    "plot_box_graph([\"TTR\"])"
   ]
  },
  {
   "cell_type": "code",
   "execution_count": 1190,
   "id": "aec84283-d73f-491c-8e11-fc7b37b7446e",
   "metadata": {
    "tags": []
   },
   "outputs": [],
   "source": [
    "import itertools\n",
    "\n",
    "raw_songs = df[\"Raw_Lyrics\"].to_list()\n",
    "nb_lines = df[\"Nb_Lines\"].to_list()\n",
    "\n",
    "raw_songs_by_lines = [split_in_lines(song) for song in raw_songs]\n",
    "\n",
    "lines_similarity_jacc = []\n",
    "#lines_similarity_lev= []\n",
    "\n",
    "examples = []\n",
    "\n",
    "for song, num_lines in zip(songs, nb_lines):\n",
    "    line_similarity_count_jacc = 0\n",
    "    \n",
    "    for line1, line2 in itertools.combinations(song, 2):\n",
    "        similarity_jacc = jaccard_similarity(line1, line2)\n",
    "        \n",
    "        \n",
    "        if  similarity_jacc > 0.5:  # Adjust the threshold as needed\n",
    "            line_similarity_count_jacc += 1\n",
    "            examples.append([line1, line2])\n",
    "    \n",
    "    lines_similarity_jacc.append(line_similarity_count_jacc)\n",
    "    \n",
    "\n",
    "df[\"Lines_similarity\"] = lines_similarity_jacc"
   ]
  },
  {
   "cell_type": "code",
   "execution_count": 1191,
   "id": "94b291fd-ff60-436c-ad31-10150697da50",
   "metadata": {
    "tags": []
   },
   "outputs": [
    {
     "name": "stdout",
     "output_type": "stream",
     "text": [
      "['bitch', \"don't\", 'kill', 'my', 'vibe']\n",
      "['bitch', \"don't\", 'kill', 'my', 'vibe']\n",
      "\n",
      "\n",
      "['baton', 'roug', 'lsu']\n",
      "['baton', 'roug', 'lsu']\n",
      "\n",
      "\n",
      "['time', 'will', 'tell', 'time', 'will', 'tell']\n",
      "['time', 'alon', 'will', 'tell']\n",
      "\n",
      "\n",
      "[\"'caus\", 'i', 'found', 'you']\n",
      "[\"'caus\", 'i', 'found', 'you']\n",
      "\n",
      "\n",
      "['live', 'my', 'life', 'in', 'tokyo', 'live', 'my', 'life', 'in']\n",
      "['tokyo', 'live', 'my', 'life', 'in', 'tokyo']\n",
      "\n",
      "\n"
     ]
    }
   ],
   "source": [
    "reduced_examples = random.choices(examples, k=5)\n",
    "for ex in reduced_examples:\n",
    "    for l in ex:\n",
    "        print(l)\n",
    "    print(\"\\n\")"
   ]
  },
  {
   "cell_type": "code",
   "execution_count": 1192,
   "id": "007bc8df-01df-4df3-9c39-1d2406576060",
   "metadata": {
    "tags": []
   },
   "outputs": [
    {
     "data": {
      "image/png": "[encoded data removed]",
      "text/plain": [
       "<Figure size 640x480 with 1 Axes>"
      ]
     },
     "metadata": {},
     "output_type": "display_data"
    }
   ],
   "source": [
    "plot_box_graph([\"Lines_similarity\"])"
   ]
  },
  {
   "cell_type": "code",
   "execution_count": 1193,
   "id": "c735fe43-2529-49f9-a8b1-bdc86c3a2ae2",
   "metadata": {
    "tags": []
   },
   "outputs": [],
   "source": [
    "filtered_df = df.loc[df[\"Lines_similarity\"] > 1000]"
   ]
  },
  {
   "cell_type": "code",
   "execution_count": 1194,
   "id": "e6a983fb",
   "metadata": {
    "tags": []
   },
   "outputs": [],
   "source": [
    "supertags_dict = {\n",
    "    'VB': 'V', 'VBD': 'V', 'VBG': 'V', 'VBN': 'V', 'VBP': 'V', 'VBZ': 'V', #verbs\n",
    "    'NN': 'N', 'NNS': 'N', 'NNP': 'N', 'NNPS': 'N', #nouns\n",
    "    'RB': 'ADV', 'RBR': 'ADV', 'RBS': 'ADV', 'WRB': 'ADV', #adverbs\n",
    "    'JJ': 'ADJ', 'JJR': 'ADJ', 'JJS': 'ADJ', #adjectives\n",
    "    'DT': 'DET', 'PDT': 'DET', 'WDT': 'DET', #determinents\n",
    "    'PRP': 'PRON', 'PRP$': 'PRON', 'WP': 'PRON', 'WP$': 'PRON'} #pronouns\n",
    "\n",
    "supertags = ['N', 'V', 'ADV', 'ADJ', 'DET', 'PRON']\n",
    "chunk_tags = ['GPE', 'PERSON', 'ORGANIZATION', 'LOCATION', 'FACILITY', 'GSP']\n",
    "\n",
    "#'GPE': 'Geopolitical Entity: Refers to countries, cities, states, or regions.',\n",
    "#'PERSON': 'Person: Refers to individuals or groups of people.',\n",
    "#'ORGANIZATION': 'Organization: Refers to named entities representing companies, institutions, or groups.',\n",
    "#'LOCATION': 'Location: Refers to specific places or locations.',\n",
    "#'FACILITY': 'Facility: Refers to buildings, structures, or other physical facilities.',\n",
    "#'GSP': 'General Single Purpose: Refers to a general chunk tag with a single-purpose label.'\n",
    "\n",
    "def split_sentences(text):\n",
    "\n",
    "    text = re.sub(r'\\([^()]*\\)', ' ', text)\n",
    "    text = text.replace('(', ' ')\n",
    "    text = text.replace(')', ' ')\n",
    "    text = text.replace('  ', ' ')\n",
    "    sentences = re.split(r'(?:[.!?])|\\n\\n', text)\n",
    "    sentences = [s.strip() for s in sentences if len(s)!=0]\n",
    "    return sentences"
   ]
  },
  {
   "cell_type": "code",
   "execution_count": 1195,
   "id": "c0b4814c",
   "metadata": {
    "tags": []
   },
   "outputs": [],
   "source": [
    "def pos_chunk(text):\n",
    "    # Tokenize into sentences and words\n",
    "    sentences = split_sentences(text)\n",
    "    words = [nltk.word_tokenize(sent) for sent in sentences]\n",
    "    \n",
    "    # POS tagging\n",
    "    pos_tags = [nltk.pos_tag(sent) for sent in words]\n",
    "    \n",
    "    # Chunking\n",
    "    chunked_sentences = [nltk.ne_chunk(pos_tag_sent) for pos_tag_sent in pos_tags]\n",
    "\n",
    "    # Calculate POS tag distribution\n",
    "    pos_tag_distribution = {suptag: 0 for suptag in supertags}\n",
    "    for sent in pos_tags:\n",
    "        pos_tag_distribution.update({supertags_dict[tag]: pos_tag_distribution.get(supertags_dict[tag], 0) + 1\n",
    "                                     for _, tag in sent if tag in supertags_dict})\n",
    "\n",
    "    # Calculate chunk tag distribution\n",
    "    chunk_tag_distribution = {chunk_tag: 0 for chunk_tag in chunk_tags}\n",
    "    for sent in chunked_sentences:\n",
    "        chunk_tag_distribution.update({chunk.label(): chunk_tag_distribution.get(chunk.label(), 0) + 1\n",
    "                                       for chunk in sent if hasattr(chunk, 'label') and chunk.label() in chunk_tags})\n",
    "\n",
    "    return pos_tag_distribution, chunk_tag_distribution\n"
   ]
  },
  {
   "cell_type": "code",
   "execution_count": 1196,
   "id": "1597d962",
   "metadata": {
    "tags": []
   },
   "outputs": [],
   "source": [
    "raw_songs = df[\"Raw_Lyrics\"].to_list()\n",
    "#df = df.drop(\"Raw_Lyrics\", axis = 1)\n",
    "nb_words = df[\"Nb_Words\"].to_list()"
   ]
  },
  {
   "cell_type": "code",
   "execution_count": 1197,
   "id": "22d81c3d",
   "metadata": {
    "tags": []
   },
   "outputs": [],
   "source": [
    "\n",
    "POS = {'POS_'+key : [] for key in supertags}\n",
    "\n",
    "CHUNK = {'CHUNK_'+key : [] for key in chunk_tags}\n",
    "\n",
    "for raw, l in zip(raw_songs, nb_words):\n",
    "    pos, chunk = pos_chunk(raw)\n",
    "    for key in pos.keys():\n",
    "        POS['POS_'+key].append(pos[key] / l)\n",
    "        \n",
    "    for key in chunk.keys():\n",
    "        CHUNK['CHUNK_'+key].append(chunk[key] / l)"
   ]
  },
  {
   "cell_type": "code",
   "execution_count": 1198,
   "id": "f0cee47d",
   "metadata": {
    "tags": []
   },
   "outputs": [
    {
     "data": {
      "text/html": [
       "<div>\n",
       "<style scoped>\n",
       "    .dataframe tbody tr th:only-of-type {\n",
       "        vertical-align: middle;\n",
       "    }\n",
       "\n",
       "    .dataframe tbody tr th {\n",
       "        vertical-align: top;\n",
       "    }\n",
       "\n",
       "    .dataframe thead th {\n",
       "        text-align: right;\n",
       "    }\n",
       "</style>\n",
       "<table border=\"1\" class=\"dataframe\">\n",
       "  <thead>\n",
       "    <tr style=\"text-align: right;\">\n",
       "      <th></th>\n",
       "      <th>Lyrics</th>\n",
       "      <th>Nb_Lines</th>\n",
       "      <th>Nb_Words</th>\n",
       "      <th>Raw_Lyrics</th>\n",
       "      <th>Title</th>\n",
       "      <th>Artist</th>\n",
       "      <th>RID_SECONDARY:INSTRUMENTAL:BEHAVIOR</th>\n",
       "      <th>RID_SECONDARY:SOCIAL:BEHAVIOR</th>\n",
       "      <th>RID_SECONDARY:ABSTRACTION</th>\n",
       "      <th>RID_EMOTIONS:POSITIVE:AFFECT</th>\n",
       "      <th>...</th>\n",
       "      <th>POS_ADV</th>\n",
       "      <th>POS_ADJ</th>\n",
       "      <th>POS_DET</th>\n",
       "      <th>POS_PRON</th>\n",
       "      <th>CHUNK_GPE</th>\n",
       "      <th>CHUNK_PERSON</th>\n",
       "      <th>CHUNK_ORGANIZATION</th>\n",
       "      <th>CHUNK_LOCATION</th>\n",
       "      <th>CHUNK_FACILITY</th>\n",
       "      <th>CHUNK_GSP</th>\n",
       "    </tr>\n",
       "  </thead>\n",
       "  <tbody>\n",
       "    <tr>\n",
       "      <th>0</th>\n",
       "      <td>[[i, can't, get, no, satisfact], [i, can't, ge...</td>\n",
       "      <td>44</td>\n",
       "      <td>291</td>\n",
       "      <td>\\nI can't get no satisfaction\\nI can't get no ...</td>\n",
       "      <td>satisfaction</td>\n",
       "      <td>0</td>\n",
       "      <td>0.042169</td>\n",
       "      <td>0.021084</td>\n",
       "      <td>0.018072</td>\n",
       "      <td>0.015060</td>\n",
       "      <td>...</td>\n",
       "      <td>0.024055</td>\n",
       "      <td>0.013746</td>\n",
       "      <td>0.024055</td>\n",
       "      <td>0.024055</td>\n",
       "      <td>0.000000</td>\n",
       "      <td>0.003436</td>\n",
       "      <td>0.0</td>\n",
       "      <td>0.0</td>\n",
       "      <td>0.0</td>\n",
       "      <td>0.0</td>\n",
       "    </tr>\n",
       "    <tr>\n",
       "      <th>1</th>\n",
       "      <td>[[to, the, bag, pack, first, love, leaver], [t...</td>\n",
       "      <td>39</td>\n",
       "      <td>291</td>\n",
       "      <td>\\nTo the bag packed, first love leaver\\nThe he...</td>\n",
       "      <td>a little dive bar in dahlonega</td>\n",
       "      <td>0</td>\n",
       "      <td>0.019108</td>\n",
       "      <td>0.003185</td>\n",
       "      <td>0.000000</td>\n",
       "      <td>0.000000</td>\n",
       "      <td>...</td>\n",
       "      <td>0.020619</td>\n",
       "      <td>0.020619</td>\n",
       "      <td>0.024055</td>\n",
       "      <td>0.017182</td>\n",
       "      <td>0.013746</td>\n",
       "      <td>0.013746</td>\n",
       "      <td>0.0</td>\n",
       "      <td>0.0</td>\n",
       "      <td>0.0</td>\n",
       "      <td>0.0</td>\n",
       "    </tr>\n",
       "    <tr>\n",
       "      <th>2</th>\n",
       "      <td>[[check, my, lipstick, in, your, aviat], [like...</td>\n",
       "      <td>27</td>\n",
       "      <td>235</td>\n",
       "      <td>\\nChecking my lipstick in your aviators\\nLike ...</td>\n",
       "      <td>american scandal</td>\n",
       "      <td>0</td>\n",
       "      <td>0.000000</td>\n",
       "      <td>0.019305</td>\n",
       "      <td>0.019305</td>\n",
       "      <td>0.000000</td>\n",
       "      <td>...</td>\n",
       "      <td>0.029787</td>\n",
       "      <td>0.017021</td>\n",
       "      <td>0.021277</td>\n",
       "      <td>0.038298</td>\n",
       "      <td>0.012766</td>\n",
       "      <td>0.021277</td>\n",
       "      <td>0.0</td>\n",
       "      <td>0.0</td>\n",
       "      <td>0.0</td>\n",
       "      <td>0.0</td>\n",
       "    </tr>\n",
       "    <tr>\n",
       "      <th>3</th>\n",
       "      <td>[[you, drink, my, whiskey, without, ask], [you...</td>\n",
       "      <td>45</td>\n",
       "      <td>300</td>\n",
       "      <td>\\nYou drink my whiskey without asking\\nYou put...</td>\n",
       "      <td>andy</td>\n",
       "      <td>0</td>\n",
       "      <td>0.006024</td>\n",
       "      <td>0.030120</td>\n",
       "      <td>0.033133</td>\n",
       "      <td>0.009036</td>\n",
       "      <td>...</td>\n",
       "      <td>0.023333</td>\n",
       "      <td>0.020000</td>\n",
       "      <td>0.023333</td>\n",
       "      <td>0.023333</td>\n",
       "      <td>0.003333</td>\n",
       "      <td>0.000000</td>\n",
       "      <td>0.0</td>\n",
       "      <td>0.0</td>\n",
       "      <td>0.0</td>\n",
       "      <td>0.0</td>\n",
       "    </tr>\n",
       "    <tr>\n",
       "      <th>4</th>\n",
       "      <td>[[row, and, row, of, black, and, yellow, in, t...</td>\n",
       "      <td>24</td>\n",
       "      <td>192</td>\n",
       "      <td>\\nRows and rows of blacks and yellows in the t...</td>\n",
       "      <td>arkansas</td>\n",
       "      <td>0</td>\n",
       "      <td>0.004902</td>\n",
       "      <td>0.009804</td>\n",
       "      <td>0.019608</td>\n",
       "      <td>0.000000</td>\n",
       "      <td>...</td>\n",
       "      <td>0.020833</td>\n",
       "      <td>0.026042</td>\n",
       "      <td>0.020833</td>\n",
       "      <td>0.031250</td>\n",
       "      <td>0.005208</td>\n",
       "      <td>0.010417</td>\n",
       "      <td>0.0</td>\n",
       "      <td>0.0</td>\n",
       "      <td>0.0</td>\n",
       "      <td>0.0</td>\n",
       "    </tr>\n",
       "  </tbody>\n",
       "</table>\n",
       "<p>5 rows × 67 columns</p>\n",
       "</div>"
      ],
      "text/plain": [
       "                                              Lyrics  Nb_Lines  Nb_Words   \n",
       "0  [[i, can't, get, no, satisfact], [i, can't, ge...        44       291  \\\n",
       "1  [[to, the, bag, pack, first, love, leaver], [t...        39       291   \n",
       "2  [[check, my, lipstick, in, your, aviat], [like...        27       235   \n",
       "3  [[you, drink, my, whiskey, without, ask], [you...        45       300   \n",
       "4  [[row, and, row, of, black, and, yellow, in, t...        24       192   \n",
       "\n",
       "                                          Raw_Lyrics   \n",
       "0  \\nI can't get no satisfaction\\nI can't get no ...  \\\n",
       "1  \\nTo the bag packed, first love leaver\\nThe he...   \n",
       "2  \\nChecking my lipstick in your aviators\\nLike ...   \n",
       "3  \\nYou drink my whiskey without asking\\nYou put...   \n",
       "4  \\nRows and rows of blacks and yellows in the t...   \n",
       "\n",
       "                            Title  Artist   \n",
       "0                    satisfaction       0  \\\n",
       "1  a little dive bar in dahlonega       0   \n",
       "2                american scandal       0   \n",
       "3                            andy       0   \n",
       "4                        arkansas       0   \n",
       "\n",
       "   RID_SECONDARY:INSTRUMENTAL:BEHAVIOR  RID_SECONDARY:SOCIAL:BEHAVIOR   \n",
       "0                             0.042169                       0.021084  \\\n",
       "1                             0.019108                       0.003185   \n",
       "2                             0.000000                       0.019305   \n",
       "3                             0.006024                       0.030120   \n",
       "4                             0.004902                       0.009804   \n",
       "\n",
       "   RID_SECONDARY:ABSTRACTION  RID_EMOTIONS:POSITIVE:AFFECT  ...   POS_ADV   \n",
       "0                   0.018072                      0.015060  ...  0.024055  \\\n",
       "1                   0.000000                      0.000000  ...  0.020619   \n",
       "2                   0.019305                      0.000000  ...  0.029787   \n",
       "3                   0.033133                      0.009036  ...  0.023333   \n",
       "4                   0.019608                      0.000000  ...  0.020833   \n",
       "\n",
       "    POS_ADJ   POS_DET  POS_PRON  CHUNK_GPE  CHUNK_PERSON  CHUNK_ORGANIZATION   \n",
       "0  0.013746  0.024055  0.024055   0.000000      0.003436                 0.0  \\\n",
       "1  0.020619  0.024055  0.017182   0.013746      0.013746                 0.0   \n",
       "2  0.017021  0.021277  0.038298   0.012766      0.021277                 0.0   \n",
       "3  0.020000  0.023333  0.023333   0.003333      0.000000                 0.0   \n",
       "4  0.026042  0.020833  0.031250   0.005208      0.010417                 0.0   \n",
       "\n",
       "   CHUNK_LOCATION  CHUNK_FACILITY  CHUNK_GSP  \n",
       "0             0.0             0.0        0.0  \n",
       "1             0.0             0.0        0.0  \n",
       "2             0.0             0.0        0.0  \n",
       "3             0.0             0.0        0.0  \n",
       "4             0.0             0.0        0.0  \n",
       "\n",
       "[5 rows x 67 columns]"
      ]
     },
     "execution_count": 1198,
     "metadata": {},
     "output_type": "execute_result"
    }
   ],
   "source": [
    "df = df.assign(**POS)\n",
    "df = df.assign(**CHUNK)\n",
    "df.head()"
   ]
  },
  {
   "cell_type": "code",
   "execution_count": 1199,
   "id": "19b8f5e6",
   "metadata": {
    "tags": []
   },
   "outputs": [
    {
     "data": {
      "image/png": "[encoded data removed]",
      "text/plain": [
       "<Figure size 1000x400 with 2 Axes>"
      ]
     },
     "metadata": {},
     "output_type": "display_data"
    }
   ],
   "source": [
    "plot_box_graph([\"POS_N\", \"POS_V\"])"
   ]
  },
  {
   "cell_type": "code",
   "execution_count": 1200,
   "id": "be19d104",
   "metadata": {
    "tags": []
   },
   "outputs": [
    {
     "data": {
      "image/png": "[encoded data removed]",
      "text/plain": [
       "<Figure size 1000x400 with 2 Axes>"
      ]
     },
     "metadata": {},
     "output_type": "display_data"
    }
   ],
   "source": [
    "plot_box_graph([\"CHUNK_PERSON\", \"CHUNK_GPE\"])"
   ]
  },
  {
   "attachments": {},
   "cell_type": "markdown",
   "id": "0c2729bd",
   "metadata": {},
   "source": [
    "Now we analyze prononces. We count the frequencies of 1st, 2nd, 3rd person pronons and the ratio of 1st person to 2d person to detect dialogue and interpersonal relations."
   ]
  },
  {
   "cell_type": "code",
   "execution_count": 1201,
   "id": "3172da56",
   "metadata": {
    "tags": []
   },
   "outputs": [],
   "source": [
    "path_to_dicts = os.path.join(os.getcwd(), \"Dictionaries\")\n",
    "\n",
    "path = os.path.join(path_to_dicts, \"rare-filtered.txt\")\n",
    "rare = read_file(path)\n",
    "rare = rare.split(\"\\n\")\n",
    "rare = rare[:-1]\n",
    "\n",
    "path = os.path.join(path_to_dicts, \"slang-filtered.txt\")\n",
    "slang = read_file(path)\n",
    "slang = slang.split(\"\\n\")\n",
    "slang = slang[:-1]\n",
    "\n",
    "slang = set(slang)\n",
    "rare = set(rare)\n",
    "\n",
    "rare_use = []\n",
    "slang_use = []\n",
    "\n",
    "songs_flatten = [flatten(song) for song in songs] \n",
    "                 \n",
    "for song in songs_flatten:\n",
    "    \n",
    "    count_r = 0\n",
    "    count_s = 0\n",
    "    l = len(song)\n",
    "    for w in song:\n",
    "        if w in slang:\n",
    "            count_s += 1\n",
    "        if w in rare:\n",
    "            count_r +=1\n",
    "    slang_use.append(count_s/l)\n",
    "    rare_use.append(count_r/l)\n",
    "    \n",
    "\n",
    "df['Slang'] = slang_use\n",
    "df['Rare'] = rare_use"
   ]
  },
  {
   "cell_type": "code",
   "execution_count": 1202,
   "id": "54753de2",
   "metadata": {
    "tags": []
   },
   "outputs": [
    {
     "data": {
      "image/png": "[encoded data removed]",
      "text/plain": [
       "<Figure size 640x480 with 1 Axes>"
      ]
     },
     "metadata": {},
     "output_type": "display_data"
    }
   ],
   "source": [
    "plot_box_graph([\"Rare\"])"
   ]
  },
  {
   "cell_type": "code",
   "execution_count": 1203,
   "id": "5e55fc9e",
   "metadata": {
    "tags": []
   },
   "outputs": [
    {
     "data": {
      "image/png": "[encoded data removed]",
      "text/plain": [
       "<Figure size 640x480 with 1 Axes>"
      ]
     },
     "metadata": {},
     "output_type": "display_data"
    }
   ],
   "source": [
    "plot_bar_graph(\"Slang\")"
   ]
  },
  {
   "cell_type": "code",
   "execution_count": 1204,
   "id": "602b2f99",
   "metadata": {
    "tags": []
   },
   "outputs": [],
   "source": [
    "first_pers = []\n",
    "second_pers = []\n",
    "third_pers = []\n",
    "\n",
    "for song in songs_flatten:\n",
    "    first_pers_count = 0\n",
    "    second_pers_count = 0\n",
    "    third_pers_count = 0\n",
    "\n",
    "    for word in song:\n",
    "        if word in  {\"i\", \"we\"}:\n",
    "            first_pers_count += 1\n",
    "        if word == \"you\":\n",
    "            second_pers_count += 1\n",
    "        if word in  {\"he\", \"she\", \"they\"}:\n",
    "            third_pers_count += 1\n",
    "    \n",
    "    song_len = len(song)\n",
    "    first_pers.append(first_pers_count/song_len)\n",
    "    second_pers.append(second_pers_count/song_len)\n",
    "    third_pers.append(third_pers_count/song_len)\n",
    "    \n",
    "#df['FP_Freq'] = first_pers\n",
    "#df['SP_Freq'] = second_pers\n",
    "#df['TP_Freq'] = third_pers\n",
    "\n",
    "#df[\"SR\"] = df['FP_Freq']/(1 + df['SP_Freq'] + df['TP_Freq'])"
   ]
  },
  {
   "cell_type": "code",
   "execution_count": null,
   "id": "d2e8868b",
   "metadata": {
    "tags": []
   },
   "outputs": [],
   "source": [
    "#plot_bar_graph(\"SR\")"
   ]
  },
  {
   "attachments": {},
   "cell_type": "markdown",
   "id": "60c669fd",
   "metadata": {},
   "source": [
    "Now we check whether or not the title appears in the song."
   ]
  },
  {
   "cell_type": "code",
   "execution_count": 1205,
   "id": "39145513",
   "metadata": {
    "tags": []
   },
   "outputs": [],
   "source": [
    "ttls = df[\"Title\"].to_list()\n",
    "\n",
    "title_in_song = []\n",
    "\n",
    "raw_songs = [s.lower() for s in raw_songs]\n",
    "\n",
    "\n",
    "for song, title, art in zip(raw_songs, ttls, df[\"Artist\"].to_list()):\n",
    "    pattern = re.escape(title)  # Escape special characters in the title\n",
    "    if re.search(pattern, song):\n",
    "        flag = True\n",
    "    else:\n",
    "        flag = False\n",
    "    title_in_song.append(flag)\n",
    "\n",
    "\n",
    "df['Title_In_Song'] = title_in_song\n",
    "                "
   ]
  },
  {
   "cell_type": "code",
   "execution_count": 1206,
   "id": "73e97812",
   "metadata": {
    "tags": []
   },
   "outputs": [
    {
     "data": {
      "image/png": "[encoded data removed]",
      "text/plain": [
       "<Figure size 640x480 with 1 Axes>"
      ]
     },
     "metadata": {},
     "output_type": "display_data"
    }
   ],
   "source": [
    "t_in = []\n",
    "t_not_in = []\n",
    "total_songs = []\n",
    "\n",
    "for art in sample:\n",
    "    songs_by_artist = df.loc[df['Artist'] == art, 'Title_In_Song'].tolist()\n",
    "    tr = songs_by_artist.count(True)\n",
    "    fa = songs_by_artist.count(False)\n",
    "    total_songs.append(len(songs_by_artist))\n",
    "    t_in.append(tr)\n",
    "    t_not_in.append(fa)\n",
    "\n",
    "xtick_labels = [arts_dict_op[i] for i in sample]\n",
    "\n",
    "X_axis = np.arange(len(xtick_labels))\n",
    "\n",
    "t_in = np.array(t_in)\n",
    "t_not_in = np.array(t_not_in)\n",
    "total_songs = np.array(total_songs)\n",
    "\n",
    "\n",
    "plt.bar(X_axis - 0.2, t_in/total_songs, 0.4, label='Title in lyrics')\n",
    "plt.bar(X_axis + 0.2, t_not_in/total_songs, 0.4, label='Title not in lyrics')\n",
    "\n",
    "plt.xticks(X_axis, xtick_labels, rotation='vertical')\n",
    "plt.title('Proportion of songs with the title in the lyrics')\n",
    "plt.legend()\n",
    "plt.show()\n",
    "    "
   ]
  },
  {
   "cell_type": "code",
   "execution_count": 1207,
   "id": "51355259",
   "metadata": {
    "tags": []
   },
   "outputs": [],
   "source": [
    "sub = []\n",
    "pol = []\n",
    "for song in raw_songs:\n",
    "    scores = TextBlob(song)\n",
    "    pol.append(scores.sentiment.polarity)\n",
    "    sub.append(scores.sentiment.subjectivity)\n",
    "    \n",
    "df[\"Polarity\"] = pol\n",
    "df[\"Subjectivity\"] = sub"
   ]
  },
  {
   "cell_type": "code",
   "execution_count": 1208,
   "id": "76315949",
   "metadata": {
    "tags": []
   },
   "outputs": [
    {
     "data": {
      "image/png": "[encoded data removed]",
      "text/plain": [
       "<Figure size 1000x400 with 2 Axes>"
      ]
     },
     "metadata": {},
     "output_type": "display_data"
    }
   ],
   "source": [
    "plot_box_graph([\"Polarity\", \"Subjectivity\"])"
   ]
  },
  {
   "attachments": {},
   "cell_type": "markdown",
   "id": "96b600db-1056-4307-9118-fae27c0c5ea1",
   "metadata": {},
   "source": [
    "# SPLIT INTO TRAIN AND TEST"
   ]
  },
  {
   "cell_type": "code",
   "execution_count": 1209,
   "id": "a6c8fdec-074c-4a1d-8f0e-54f24220720a",
   "metadata": {
    "tags": []
   },
   "outputs": [
    {
     "name": "stdout",
     "output_type": "stream",
     "text": [
      "Training size : 3420\n",
      "Testing size : 604\n"
     ]
    }
   ],
   "source": [
    "artists = new_df['Artist'].unique()\n",
    "\n",
    "train_df, test_df = train_test_split(new_df, test_size=0.15, stratify=new_df['Artist'])\n",
    "\n",
    "print(f'Training size : {train_df.shape[0]}')\n",
    "print(f'Testing size : {test_df.shape[0]}')"
   ]
  },
  {
   "cell_type": "code",
   "execution_count": 1210,
   "id": "278d42e9-ec7e-4407-afb0-2186aa857833",
   "metadata": {
    "tags": []
   },
   "outputs": [],
   "source": [
    "train_indices = train_df.index\n",
    "test_indices = test_df.index"
   ]
  },
  {
   "attachments": {},
   "cell_type": "markdown",
   "id": "61e20f3b-e4ef-47cf-b6bd-52a3e540c1a4",
   "metadata": {},
   "source": [
    "# TDIDF"
   ]
  },
  {
   "cell_type": "code",
   "execution_count": 1211,
   "id": "04455b31",
   "metadata": {
    "tags": []
   },
   "outputs": [
    {
     "data": {
      "text/html": [
       "<div>\n",
       "<style scoped>\n",
       "    .dataframe tbody tr th:only-of-type {\n",
       "        vertical-align: middle;\n",
       "    }\n",
       "\n",
       "    .dataframe tbody tr th {\n",
       "        vertical-align: top;\n",
       "    }\n",
       "\n",
       "    .dataframe thead th {\n",
       "        text-align: right;\n",
       "    }\n",
       "</style>\n",
       "<table border=\"1\" class=\"dataframe\">\n",
       "  <thead>\n",
       "    <tr style=\"text-align: right;\">\n",
       "      <th></th>\n",
       "      <th>All_Lyrics</th>\n",
       "      <th>Artist</th>\n",
       "    </tr>\n",
       "  </thead>\n",
       "  <tbody>\n",
       "    <tr>\n",
       "      <th>0</th>\n",
       "      <td>ten gold chain wood grain propan sell a whole ...</td>\n",
       "      <td>0</td>\n",
       "    </tr>\n",
       "    <tr>\n",
       "      <th>1</th>\n",
       "      <td>how can one becom so bound by choic that someb...</td>\n",
       "      <td>1</td>\n",
       "    </tr>\n",
       "    <tr>\n",
       "      <th>2</th>\n",
       "      <td>spend my day thinkin' 'bout you girl be here w...</td>\n",
       "      <td>2</td>\n",
       "    </tr>\n",
       "    <tr>\n",
       "      <th>3</th>\n",
       "      <td>anytim i'm alon i can't help think about you a...</td>\n",
       "      <td>3</td>\n",
       "    </tr>\n",
       "    <tr>\n",
       "      <th>4</th>\n",
       "      <td>i'm the one i'm the one who want you i'm the o...</td>\n",
       "      <td>4</td>\n",
       "    </tr>\n",
       "  </tbody>\n",
       "</table>\n",
       "</div>"
      ],
      "text/plain": [
       "                                          All_Lyrics  Artist\n",
       "0  ten gold chain wood grain propan sell a whole ...       0\n",
       "1  how can one becom so bound by choic that someb...       1\n",
       "2  spend my day thinkin' 'bout you girl be here w...       2\n",
       "3  anytim i'm alon i can't help think about you a...       3\n",
       "4  i'm the one i'm the one who want you i'm the o...       4"
      ]
     },
     "execution_count": 1211,
     "metadata": {},
     "output_type": "execute_result"
    }
   ],
   "source": [
    "documents = []\n",
    "for i in range(len(arts_dict_op)):\n",
    "    d = train_df.loc[train_df['Artist'] == i, 'Lyrics'].tolist()\n",
    "    d = [flatten(song) for song in d]\n",
    "    d = flatten(d)\n",
    "    documents.append(d)\n",
    "    \n",
    "    \n",
    "documents = [' '.join(doc) for doc in documents]\n",
    "\n",
    "df_docs_train = pd.DataFrame({\"All_Lyrics\" : documents, \n",
    "                        \"Artist\" : np.arange(len(arts_dict_op))})\n",
    "\n",
    "df_docs_train.head()"
   ]
  },
  {
   "attachments": {},
   "cell_type": "markdown",
   "id": "1e44244f",
   "metadata": {},
   "source": [
    "At this point we need to seperate train and test sets."
   ]
  },
  {
   "cell_type": "code",
   "execution_count": 1212,
   "id": "db1d160c",
   "metadata": {
    "tags": []
   },
   "outputs": [
    {
     "data": {
      "text/html": [
       "<div>\n",
       "<style scoped>\n",
       "    .dataframe tbody tr th:only-of-type {\n",
       "        vertical-align: middle;\n",
       "    }\n",
       "\n",
       "    .dataframe tbody tr th {\n",
       "        vertical-align: top;\n",
       "    }\n",
       "\n",
       "    .dataframe thead th {\n",
       "        text-align: right;\n",
       "    }\n",
       "</style>\n",
       "<table border=\"1\" class=\"dataframe\">\n",
       "  <thead>\n",
       "    <tr style=\"text-align: right;\">\n",
       "      <th></th>\n",
       "      <th>word</th>\n",
       "      <th>weight</th>\n",
       "    </tr>\n",
       "  </thead>\n",
       "  <tbody>\n",
       "    <tr>\n",
       "      <th>10596</th>\n",
       "      <td>onli</td>\n",
       "      <td>1.0</td>\n",
       "    </tr>\n",
       "    <tr>\n",
       "      <th>16033</th>\n",
       "      <td>up</td>\n",
       "      <td>1.0</td>\n",
       "    </tr>\n",
       "    <tr>\n",
       "      <th>277</th>\n",
       "      <td>about</td>\n",
       "      <td>1.0</td>\n",
       "    </tr>\n",
       "    <tr>\n",
       "      <th>8873</th>\n",
       "      <td>long</td>\n",
       "      <td>1.0</td>\n",
       "    </tr>\n",
       "    <tr>\n",
       "      <th>9977</th>\n",
       "      <td>my</td>\n",
       "      <td>1.0</td>\n",
       "    </tr>\n",
       "  </tbody>\n",
       "</table>\n",
       "</div>"
      ],
      "text/plain": [
       "        word  weight\n",
       "10596   onli     1.0\n",
       "16033     up     1.0\n",
       "277    about     1.0\n",
       "8873    long     1.0\n",
       "9977      my     1.0"
      ]
     },
     "execution_count": 1212,
     "metadata": {},
     "output_type": "execute_result"
    }
   ],
   "source": [
    "docs = df_docs_train[\"All_Lyrics\"].to_list()\n",
    "\n",
    "cv = CountVectorizer()\n",
    "stem_count_vector = cv.fit_transform(docs)\n",
    "#stem_count_vector = cv.fit_transform(documents)\n",
    "\n",
    "tfidf_transformer = TfidfTransformer()\n",
    "tfidf_transformer.fit_transform(stem_count_vector)\n",
    "\n",
    "# Get the feature names and IDF weights\n",
    "feature_names = cv.get_feature_names_out()\n",
    "idf_weights = tfidf_transformer.idf_\n",
    "\n",
    "df_words_weights = pd.DataFrame({'word': cv.get_feature_names_out(), 'weight': tfidf_transformer.idf_})\n",
    " \n",
    "df_words_weights.sort_values('weight').head()"
   ]
  },
  {
   "cell_type": "code",
   "execution_count": 1213,
   "id": "c5909069-cc0b-4b4e-b3e4-587bc623b999",
   "metadata": {
    "tags": []
   },
   "outputs": [
    {
     "data": {
      "text/html": [
       "<div>\n",
       "<style scoped>\n",
       "    .dataframe tbody tr th:only-of-type {\n",
       "        vertical-align: middle;\n",
       "    }\n",
       "\n",
       "    .dataframe tbody tr th {\n",
       "        vertical-align: top;\n",
       "    }\n",
       "\n",
       "    .dataframe thead th {\n",
       "        text-align: right;\n",
       "    }\n",
       "</style>\n",
       "<table border=\"1\" class=\"dataframe\">\n",
       "  <thead>\n",
       "    <tr style=\"text-align: right;\">\n",
       "      <th></th>\n",
       "      <th>word</th>\n",
       "      <th>weight</th>\n",
       "    </tr>\n",
       "  </thead>\n",
       "  <tbody>\n",
       "    <tr>\n",
       "      <th>0</th>\n",
       "      <td>00</td>\n",
       "      <td>4.238678</td>\n",
       "    </tr>\n",
       "    <tr>\n",
       "      <th>9601</th>\n",
       "      <td>minneapoli</td>\n",
       "      <td>4.238678</td>\n",
       "    </tr>\n",
       "    <tr>\n",
       "      <th>9583</th>\n",
       "      <td>minefield</td>\n",
       "      <td>4.238678</td>\n",
       "    </tr>\n",
       "    <tr>\n",
       "      <th>9584</th>\n",
       "      <td>mineohmin</td>\n",
       "      <td>4.238678</td>\n",
       "    </tr>\n",
       "    <tr>\n",
       "      <th>9589</th>\n",
       "      <td>miniblind</td>\n",
       "      <td>4.238678</td>\n",
       "    </tr>\n",
       "  </tbody>\n",
       "</table>\n",
       "</div>"
      ],
      "text/plain": [
       "            word    weight\n",
       "0             00  4.238678\n",
       "9601  minneapoli  4.238678\n",
       "9583   minefield  4.238678\n",
       "9584   mineohmin  4.238678\n",
       "9589   miniblind  4.238678"
      ]
     },
     "execution_count": 1213,
     "metadata": {},
     "output_type": "execute_result"
    }
   ],
   "source": [
    "df_words_weights.sort_values('weight', ascending=False).head()"
   ]
  },
  {
   "cell_type": "code",
   "execution_count": 1214,
   "id": "2791386e-18d5-48a1-b778-3b6a5e0acbe4",
   "metadata": {
    "tags": []
   },
   "outputs": [
    {
     "data": {
      "text/plain": [
       "17064"
      ]
     },
     "execution_count": 1214,
     "metadata": {},
     "output_type": "execute_result"
    }
   ],
   "source": [
    "df_word_weights.shape[0]"
   ]
  },
  {
   "cell_type": "code",
   "execution_count": 1215,
   "id": "fd2f43e1-8505-4c26-8c5f-b6a8347d78ee",
   "metadata": {
    "tags": []
   },
   "outputs": [
    {
     "data": {
      "text/plain": [
       "4012"
      ]
     },
     "execution_count": 1215,
     "metadata": {},
     "output_type": "execute_result"
    }
   ],
   "source": [
    "df.shape[0]"
   ]
  },
  {
   "cell_type": "code",
   "execution_count": 1222,
   "id": "ec394d15-075d-4312-ad38-852f71a38b6a",
   "metadata": {},
   "outputs": [],
   "source": [
    "def tdif_features(songs):\n",
    "    \n",
    "    song_features_list = []\n",
    "\n",
    "    # Process each song\n",
    "    for i, song in enumerate(songs):\n",
    "\n",
    "        # Convert the song to a string\n",
    "        song_text = ' '.join(song)\n",
    "\n",
    "        # Transform the song text to a count vector\n",
    "        song_counts = cv.transform([song_text])\n",
    "\n",
    "        # Compute the TF-IDF features for the song\n",
    "        song_features = tfidf_transformer.transform(song_counts)\n",
    "\n",
    "        # Convert the sparse matrix to a dataframe\n",
    "        song_features_df = pd.DataFrame(song_features.toarray(), columns=feature_names)\n",
    "\n",
    "        # Append the song features to the list\n",
    "        song_features_list.append(song_features_df)\n",
    "\n",
    "    song_features_list = np.array(song_features_list)\n",
    "    song_features_list = song_features_list.reshape((song_features_list.shape[0], song_features_list.shape[2]))\n",
    "    df_tfidf = pd.DataFrame(song_features_list, columns=feature_names)\n",
    "    df_tfidf['Artist'] = df['Artist'].to_list()\n",
    "    \n",
    "    return df_tfidf"
   ]
  },
  {
   "cell_type": "code",
   "execution_count": 1223,
   "id": "17607a52-43fc-40fd-af20-f6ac7b42dc3c",
   "metadata": {},
   "outputs": [
    {
     "name": "stdout",
     "output_type": "stream",
     "text": [
      "(4012, 1, 17224)\n"
     ]
    }
   ],
   "source": [
    "df_tfidf = tdif_features(songs_flatten)"
   ]
  },
  {
   "cell_type": "code",
   "execution_count": 1224,
   "id": "b66361d0-2011-46e2-aceb-1d7484e1c871",
   "metadata": {
    "tags": []
   },
   "outputs": [
    {
     "data": {
      "text/plain": [
       "(4012, 17225)"
      ]
     },
     "execution_count": 1224,
     "metadata": {},
     "output_type": "execute_result"
    }
   ],
   "source": [
    "df_tfidf.shape"
   ]
  },
  {
   "cell_type": "code",
   "execution_count": 1225,
   "id": "7de3b70e",
   "metadata": {
    "tags": []
   },
   "outputs": [],
   "source": [
    "valid_columns = df_tfidf.iloc[:, :-1].select_dtypes(include=np.number)\n",
    "# Calculate the sum of each row\n",
    "sum_array = np.array(valid_columns.sum(axis=1))\n",
    "\n",
    "# Add the sum_array as a new column in the DataFrame\n",
    "df[\"TF_IDF_Score\"] = sum_array"
   ]
  },
  {
   "cell_type": "code",
   "execution_count": 1226,
   "id": "66f74210",
   "metadata": {
    "tags": []
   },
   "outputs": [
    {
     "data": {
      "image/png": "[encoded data removed]",
      "text/plain": [
       "<Figure size 640x480 with 1 Axes>"
      ]
     },
     "metadata": {},
     "output_type": "display_data"
    }
   ],
   "source": [
    "plot_box_graph([\"TF_IDF_Score\"])"
   ]
  },
  {
   "cell_type": "code",
   "execution_count": 1227,
   "id": "a75eb045",
   "metadata": {
    "tags": []
   },
   "outputs": [],
   "source": [
    "to_keep = df_words_weights.iloc[:1000][\"word\"].tolist()"
   ]
  },
  {
   "cell_type": "code",
   "execution_count": 1228,
   "id": "1da5b671",
   "metadata": {
    "tags": []
   },
   "outputs": [
    {
     "data": {
      "text/html": [
       "<div>\n",
       "<style scoped>\n",
       "    .dataframe tbody tr th:only-of-type {\n",
       "        vertical-align: middle;\n",
       "    }\n",
       "\n",
       "    .dataframe tbody tr th {\n",
       "        vertical-align: top;\n",
       "    }\n",
       "\n",
       "    .dataframe thead th {\n",
       "        text-align: right;\n",
       "    }\n",
       "</style>\n",
       "<table border=\"1\" class=\"dataframe\">\n",
       "  <thead>\n",
       "    <tr style=\"text-align: right;\">\n",
       "      <th></th>\n",
       "      <th>00</th>\n",
       "      <th>007</th>\n",
       "      <th>03</th>\n",
       "      <th>06</th>\n",
       "      <th>07</th>\n",
       "      <th>08</th>\n",
       "      <th>09</th>\n",
       "      <th>10</th>\n",
       "      <th>100</th>\n",
       "      <th>1000</th>\n",
       "      <th>...</th>\n",
       "      <th>astray</th>\n",
       "      <th>astro</th>\n",
       "      <th>astronaut</th>\n",
       "      <th>astronomya</th>\n",
       "      <th>astuari</th>\n",
       "      <th>astud</th>\n",
       "      <th>astyl</th>\n",
       "      <th>asund</th>\n",
       "      <th>asylum</th>\n",
       "      <th>at</th>\n",
       "    </tr>\n",
       "  </thead>\n",
       "  <tbody>\n",
       "    <tr>\n",
       "      <th>0</th>\n",
       "      <td>0.0</td>\n",
       "      <td>0.0</td>\n",
       "      <td>0.0</td>\n",
       "      <td>0.0</td>\n",
       "      <td>0.0</td>\n",
       "      <td>0.0</td>\n",
       "      <td>0.0</td>\n",
       "      <td>0.0</td>\n",
       "      <td>0.0</td>\n",
       "      <td>0.0</td>\n",
       "      <td>...</td>\n",
       "      <td>0.0</td>\n",
       "      <td>0.0</td>\n",
       "      <td>0.0</td>\n",
       "      <td>0.0</td>\n",
       "      <td>0.0</td>\n",
       "      <td>0.0</td>\n",
       "      <td>0.0</td>\n",
       "      <td>0.0</td>\n",
       "      <td>0.0</td>\n",
       "      <td>0.000000</td>\n",
       "    </tr>\n",
       "    <tr>\n",
       "      <th>1</th>\n",
       "      <td>0.0</td>\n",
       "      <td>0.0</td>\n",
       "      <td>0.0</td>\n",
       "      <td>0.0</td>\n",
       "      <td>0.0</td>\n",
       "      <td>0.0</td>\n",
       "      <td>0.0</td>\n",
       "      <td>0.0</td>\n",
       "      <td>0.0</td>\n",
       "      <td>0.0</td>\n",
       "      <td>...</td>\n",
       "      <td>0.0</td>\n",
       "      <td>0.0</td>\n",
       "      <td>0.0</td>\n",
       "      <td>0.0</td>\n",
       "      <td>0.0</td>\n",
       "      <td>0.0</td>\n",
       "      <td>0.0</td>\n",
       "      <td>0.0</td>\n",
       "      <td>0.0</td>\n",
       "      <td>0.023088</td>\n",
       "    </tr>\n",
       "    <tr>\n",
       "      <th>2</th>\n",
       "      <td>0.0</td>\n",
       "      <td>0.0</td>\n",
       "      <td>0.0</td>\n",
       "      <td>0.0</td>\n",
       "      <td>0.0</td>\n",
       "      <td>0.0</td>\n",
       "      <td>0.0</td>\n",
       "      <td>0.0</td>\n",
       "      <td>0.0</td>\n",
       "      <td>0.0</td>\n",
       "      <td>...</td>\n",
       "      <td>0.0</td>\n",
       "      <td>0.0</td>\n",
       "      <td>0.0</td>\n",
       "      <td>0.0</td>\n",
       "      <td>0.0</td>\n",
       "      <td>0.0</td>\n",
       "      <td>0.0</td>\n",
       "      <td>0.0</td>\n",
       "      <td>0.0</td>\n",
       "      <td>0.000000</td>\n",
       "    </tr>\n",
       "    <tr>\n",
       "      <th>3</th>\n",
       "      <td>0.0</td>\n",
       "      <td>0.0</td>\n",
       "      <td>0.0</td>\n",
       "      <td>0.0</td>\n",
       "      <td>0.0</td>\n",
       "      <td>0.0</td>\n",
       "      <td>0.0</td>\n",
       "      <td>0.0</td>\n",
       "      <td>0.0</td>\n",
       "      <td>0.0</td>\n",
       "      <td>...</td>\n",
       "      <td>0.0</td>\n",
       "      <td>0.0</td>\n",
       "      <td>0.0</td>\n",
       "      <td>0.0</td>\n",
       "      <td>0.0</td>\n",
       "      <td>0.0</td>\n",
       "      <td>0.0</td>\n",
       "      <td>0.0</td>\n",
       "      <td>0.0</td>\n",
       "      <td>0.000000</td>\n",
       "    </tr>\n",
       "    <tr>\n",
       "      <th>4</th>\n",
       "      <td>0.0</td>\n",
       "      <td>0.0</td>\n",
       "      <td>0.0</td>\n",
       "      <td>0.0</td>\n",
       "      <td>0.0</td>\n",
       "      <td>0.0</td>\n",
       "      <td>0.0</td>\n",
       "      <td>0.0</td>\n",
       "      <td>0.0</td>\n",
       "      <td>0.0</td>\n",
       "      <td>...</td>\n",
       "      <td>0.0</td>\n",
       "      <td>0.0</td>\n",
       "      <td>0.0</td>\n",
       "      <td>0.0</td>\n",
       "      <td>0.0</td>\n",
       "      <td>0.0</td>\n",
       "      <td>0.0</td>\n",
       "      <td>0.0</td>\n",
       "      <td>0.0</td>\n",
       "      <td>0.033555</td>\n",
       "    </tr>\n",
       "  </tbody>\n",
       "</table>\n",
       "<p>5 rows × 1000 columns</p>\n",
       "</div>"
      ],
      "text/plain": [
       "    00  007   03   06   07   08   09   10  100  1000  ...  astray  astro   \n",
       "0  0.0  0.0  0.0  0.0  0.0  0.0  0.0  0.0  0.0   0.0  ...     0.0    0.0  \\\n",
       "1  0.0  0.0  0.0  0.0  0.0  0.0  0.0  0.0  0.0   0.0  ...     0.0    0.0   \n",
       "2  0.0  0.0  0.0  0.0  0.0  0.0  0.0  0.0  0.0   0.0  ...     0.0    0.0   \n",
       "3  0.0  0.0  0.0  0.0  0.0  0.0  0.0  0.0  0.0   0.0  ...     0.0    0.0   \n",
       "4  0.0  0.0  0.0  0.0  0.0  0.0  0.0  0.0  0.0   0.0  ...     0.0    0.0   \n",
       "\n",
       "   astronaut  astronomya  astuari  astud  astyl  asund  asylum        at  \n",
       "0        0.0         0.0      0.0    0.0    0.0    0.0     0.0  0.000000  \n",
       "1        0.0         0.0      0.0    0.0    0.0    0.0     0.0  0.023088  \n",
       "2        0.0         0.0      0.0    0.0    0.0    0.0     0.0  0.000000  \n",
       "3        0.0         0.0      0.0    0.0    0.0    0.0     0.0  0.000000  \n",
       "4        0.0         0.0      0.0    0.0    0.0    0.0     0.0  0.033555  \n",
       "\n",
       "[5 rows x 1000 columns]"
      ]
     },
     "execution_count": 1228,
     "metadata": {},
     "output_type": "execute_result"
    }
   ],
   "source": [
    "df_tfidf_reduced = pd.concat([df_tfidf[column] for column in to_keep], axis=1)\n",
    "\n",
    "# Display the new DataFrame\n",
    "df_tfidf_reduced.head()"
   ]
  },
  {
   "cell_type": "code",
   "execution_count": 1229,
   "id": "5f925e9c",
   "metadata": {
    "tags": []
   },
   "outputs": [
    {
     "data": {
      "image/png": "[encoded data removed]",
      "text/plain": [
       "<Figure size 640x480 with 1 Axes>"
      ]
     },
     "metadata": {},
     "output_type": "display_data"
    }
   ],
   "source": [
    "# Perform PCA\n",
    "pca = PCA()\n",
    "pca.fit(df_tfidf_reduced)\n",
    "df_transformed = pca.transform(df_tfidf_reduced)\n",
    "\n",
    "# Calculate explained variance ratio\n",
    "explained_variance_ratio = pca.explained_variance_ratio_\n",
    "\n",
    "plt.axhline(y=0.001, color='r', linestyle='--', label='0.001 Ev ratio')\n",
    "\n",
    "# Create scree plot\n",
    "plt.plot(range(1, len(explained_variance_ratio) + 1), explained_variance_ratio, marker='', linestyle='-')\n",
    "\n",
    "# Find the index of intersection\n",
    "intersection_index = -1\n",
    "for i in range(len(explained_variance_ratio)):\n",
    "    if explained_variance_ratio[i] <= 0.001:\n",
    "        intersection_index = i\n",
    "        break\n",
    "\n",
    "# Add a vertical line at the intersection point\n",
    "plt.axvline(x=intersection_index + 1, color='g', linestyle='--')\n",
    "plt.text(intersection_index - 50, 0.01, f'{intersection_index + 1}', ha='center')\n",
    "\n",
    "plt.xlabel('Principal Component')\n",
    "plt.ylabel('Explained Variance Ratio')\n",
    "plt.title('Scree Plot')\n",
    "plt.legend(loc='center left', bbox_to_anchor=(1, 0.5))\n",
    "\n",
    "# Plot the index of intersection on the x-axis\n",
    "plt.show()"
   ]
  },
  {
   "cell_type": "code",
   "execution_count": 1234,
   "id": "65b311ba",
   "metadata": {
    "tags": []
   },
   "outputs": [
    {
     "data": {
      "image/png": "[encoded data removed]",
      "text/plain": [
       "<Figure size 640x480 with 1 Axes>"
      ]
     },
     "metadata": {},
     "output_type": "display_data"
    }
   ],
   "source": [
    "# Calculate cumulative explained variance\n",
    "cumulative_variance = explained_variance_ratio.cumsum()\n",
    "# Create total variance explained plot with a line\n",
    "plt.plot(range(1, len(cumulative_variance) + 1), cumulative_variance, marker='', linestyle='-')\n",
    "plt.xlabel('Number of Principal Components')\n",
    "plt.ylabel('Cumulative Explained Variance')\n",
    "plt.title('Total Variance Explained')\n",
    "# Add a line at 80% cumulative explained variance\n",
    "plt.axhline(y=0.9, color='r', linestyle='--', label='90% Variance Explained')\n",
    "plt.legend()\n",
    "# Find the index where cumulative variance exceeds 90%\n",
    "idx = next(x for x, value in enumerate(cumulative_variance) if value >= 0.9)\n",
    "# Add a vertical line at the intersection point\n",
    "plt.axvline(x=idx + 1, color='g', linestyle='--')\n",
    "plt.legend(loc='center left', bbox_to_anchor=(1, 0.5))\n",
    "\n",
    "# Plot the index of intersection on the x-axis\n",
    "plt.text(idx + 1, 0.1, f'{idx + 1}', ha='left', va='center')\n",
    "\n",
    "plt.show()"
   ]
  },
  {
   "cell_type": "code",
   "execution_count": null,
   "id": "baa9ef88",
   "metadata": {
    "tags": []
   },
   "outputs": [],
   "source": [
    "n_comp = 300\n",
    "pca = PCA(n_components=n_comp)\n",
    "df_tfidf_pca = pca.fit_transform(df_tfidf_reduced)\n",
    "\n",
    "df_filtered_pca = pd.DataFrame(df_tfidf_pca, columns=[f'PC{i}' for i in range(1, n_comp+1)])\n",
    "\n",
    "df_filtered_pca.head()"
   ]
  },
  {
   "cell_type": "code",
   "execution_count": null,
   "id": "bd3ffc9d",
   "metadata": {
    "tags": []
   },
   "outputs": [],
   "source": [
    "#############\n",
    "# new data frame containing all the numerical features\n",
    "############\n",
    "new_df = pd.concat([df.reset_index(drop=True), df_filtered_pca.reset_index(drop=True)], axis = 1)\n",
    "new_df = new_df.reset_index(drop=True)\n",
    "new_df.head()"
   ]
  },
  {
   "cell_type": "code",
   "execution_count": null,
   "id": "ff3fca02",
   "metadata": {
    "tags": []
   },
   "outputs": [],
   "source": [
    "from sklearn.preprocessing import StandardScaler\n",
    "\n",
    "numerical_df = new_df.drop(['Artist', 'Lyrics', 'Title', 'Raw_Lyrics'], axis=1)\n",
    "numerical_df.head()"
   ]
  },
  {
   "cell_type": "code",
   "execution_count": null,
   "id": "dcc55e75-6b40-4935-92d9-08001703b32b",
   "metadata": {
    "tags": []
   },
   "outputs": [],
   "source": [
    "y = new_df[\"Artist\"].to_list()\n",
    "y = np.array([int(yy) for yy in y])\n",
    "\n",
    "\n",
    "scaler = StandardScaler()\n",
    "numerical_df_scaled = scaler.fit_transform(numerical_df)\n",
    "\n",
    "pca = PCA(n_components=2).fit(numerical_df_scaled)\n",
    "data2D = pca.transform(numerical_df_scaled)\n",
    "\n",
    "artist_labels = [arts_dict_op[i] for i in sample]\n",
    "\n",
    "# Create separate scatter plots for each unique label\n",
    "colors = plt.cm.rainbow(np.linspace(0, 1, len(sample)))  # Generate a range of colors\n",
    "\n",
    "fig, ax = plt.subplots(figsize=(8, 6))\n",
    "\n",
    "for label, art, color in zip(sample, artist_labels, colors):\n",
    "    mask = (y == label)\n",
    "    scatter = ax.scatter(data2D[:, 0][mask], data2D[:, 1][mask], c=[color], label=art)\n",
    "\n",
    "ax.legend(loc='center left', bbox_to_anchor=(1, 0.5))\n",
    "ax.set_xlabel('First principal component')\n",
    "ax.set_ylabel('Second principal component')\n",
    "\n",
    "# Save the plot as an image\n",
    "save_path = os.path.join(save_dir, 'PCA_all_feat.png')\n",
    "#plt.savefig(save_path, bbox_inches='tight', bbox_extra_artists=[ax.legend_])\n",
    "\n",
    "plt.show()"
   ]
  },
  {
   "cell_type": "code",
   "execution_count": null,
   "id": "c37a3c7c-1e61-4d08-8131-e858430d01f4",
   "metadata": {
    "tags": []
   },
   "outputs": [],
   "source": [
    "scaler = StandardScaler()\n",
    "numerical_df_scaled = scaler.fit_transform(numerical_df)\n",
    "\n",
    "pca = PCA(n_components=2).fit(numerical_df_scaled)\n",
    "data2D = pca.transform(numerical_df_scaled)\n",
    "\n",
    "import itertools\n",
    "import random\n",
    "\n",
    "# Define the sampled indices and artist labels for each graph\n",
    "combinations = list(itertools.combinations(arts_dict_op.keys(), 2))\n",
    "random.shuffle(combinations)\n",
    "sampled_indices = combinations[:4]\n",
    "artist_labels_list = [[arts_dict_op[i] for i in indices] for indices in sampled_indices]\n"
   ]
  },
  {
   "cell_type": "code",
   "execution_count": null,
   "id": "522ad3d8-d717-445d-aa3d-788e3ad1f389",
   "metadata": {
    "tags": []
   },
   "outputs": [],
   "source": [
    "# Assign red and yellow to the first and second labels, respectively\n",
    "colors_list = ['yellow', 'black']\n",
    "\n",
    "# Plot the graphs using a loop\n",
    "plt.figure(figsize=(10, 8))\n",
    "\n",
    "for i, indices in enumerate(sampled_indices):\n",
    "    plt.subplot(2, 2, i + 1)\n",
    "    for j, label in enumerate(indices):\n",
    "        mask = (y == label)\n",
    "        color = colors_list[j % 2]  # Alternate between red and yellow\n",
    "        scatter = plt.scatter(data2D[:, 0][mask], data2D[:, 1][mask], c=color, label=artist_labels_list[i][j])\n",
    "    plt.xlabel('First principal component')\n",
    "    plt.ylabel('Second principal component')\n",
    "    plt.legend()\n",
    "    save_path = os.path.join(save_dir, f'plot_2arts_PCA2.png')\n",
    "    plt.savefig(save_path)\n",
    "\n",
    "plt.tight_layout()\n",
    "plt.show()"
   ]
  },
  {
   "cell_type": "code",
   "execution_count": null,
   "id": "5efdd3fb-f39a-4b3c-8c2b-139e52651244",
   "metadata": {
    "tags": []
   },
   "outputs": [],
   "source": [
    "train_df = new_df.iloc[train_indices]\n",
    "test_df = new_df.iloc[test_indices]"
   ]
  },
  {
   "attachments": {},
   "cell_type": "markdown",
   "id": "cff20051-42f6-4a72-a218-49702373eb39",
   "metadata": {},
   "source": [
    "# GET THE TESTING DATA"
   ]
  },
  {
   "cell_type": "code",
   "execution_count": null,
   "id": "92a965e8-3347-422e-997f-0714b99f5450",
   "metadata": {
    "tags": []
   },
   "outputs": [],
   "source": [
    "scaler = StandardScaler()\n",
    "\n",
    "x_train = train_df.drop(['Artist', 'Lyrics', 'Title', 'Raw_Lyrics'], axis=1)\n",
    "x_train = scaler.fit_transform(x_train)\n",
    "y_train = train_df['Artist']\n",
    "\n",
    "x_test = test_df.drop(['Artist', 'Lyrics', 'Title', 'Raw_Lyrics'], axis=1)\n",
    "x_test = scaler.fit_transform(x_test)\n",
    "y_test = test_df['Artist'].to_numpy()"
   ]
  },
  {
   "attachments": {},
   "cell_type": "markdown",
   "id": "0849e9ff-712d-422b-97fe-1d15a6b651ed",
   "metadata": {},
   "source": [
    "# KNN STARTS"
   ]
  },
  {
   "cell_type": "code",
   "execution_count": null,
   "id": "7b49e53d-2ed2-4925-83b0-6aea10e35ae9",
   "metadata": {
    "tags": []
   },
   "outputs": [],
   "source": [
    "def learn_knn(**kwargs):\n",
    "    \n",
    "    model = neighbors.KNeighborsClassifier(**kwargs)\n",
    "    model.fit(x_train, y_train)\n",
    "    y_pred = model.predict(x_test)\n",
    "    acc = metrics.accuracy_score(y_test, y_pred)\n",
    "\n",
    "    return acc"
   ]
  },
  {
   "cell_type": "code",
   "execution_count": null,
   "id": "6069041c-24d3-4e5b-a9ee-b58df1e63c2e",
   "metadata": {
    "tags": []
   },
   "outputs": [],
   "source": [
    "def run_knn():\n",
    "    w_accu=[]\n",
    "    nw_accu=[]\n",
    "    l1_nw_accu=[]\n",
    "    l1_w_accu=[]\n",
    "    max_nei = 50\n",
    "    big = (0,0,0)\n",
    "\n",
    "    for i in range(1,max_nei):\n",
    "\n",
    "        w_accu.append(learn_knn(n_neighbors=i, weights='distance'))\n",
    "        nw_accu.append(learn_knn(n_neighbors=i))\n",
    "        l1_w_accu.append(learn_knn(n_neighbors=i, weights='distance', p=1))\n",
    "        l1_nw_accu.append(learn_knn(n_neighbors=i, p=1))\n",
    "\n",
    "        if w_accu[-1] > big[0]:\n",
    "            big = (w_accu[-1], i, 0)\n",
    "\n",
    "        if nw_accu[-1] > big[0]:\n",
    "            big = (nw_accu[-1], i, 1)\n",
    "\n",
    "        if l1_w_accu[-1] > big[0]:\n",
    "            big = (l1_w_accu[-1], i, 2)\n",
    "\n",
    "        if l1_nw_accu[-1] > big[0]:\n",
    "            big = (l1_nw_accu[-1], i, 3)\n",
    "\n",
    "    best_acc = big[0]\n",
    "    best_nei = big[1]\n",
    "    best_param = big[2]\n",
    "\n",
    "    if best_param == 0:\n",
    "        best_param = \"weighted\"\n",
    "    elif best_param == 1:\n",
    "        best_param = \"not weighted\"\n",
    "    elif best_param == 2:\n",
    "        best_param = \"weighted, L1 distance\"\n",
    "    elif best_param == 3:\n",
    "        best_param = \"not weighted, L1 distance\"\n",
    "\n",
    "    print(f'Best accuracy: {best_acc}\\nWith: {best_nei} neighbors, parameters: {best_param}')"
   ]
  },
  {
   "cell_type": "code",
   "execution_count": null,
   "id": "d42998b0-2802-4cb7-b237-22c9c8fbd2af",
   "metadata": {},
   "outputs": [],
   "source": [
    "def plot_knn():\n",
    "    # Create a list of x-values for the parameter variations (e.g., parameter values from 1 to 30)\n",
    "    x_values = list(range(1, max_nei))\n",
    "\n",
    "    # Plot the accuracies\n",
    "    plt.plot(x_values, nw_accu, marker='', label = 'not weighted')\n",
    "    plt.plot(x_values, w_accu, marker = '', label = 'weighted')\n",
    "    plt.plot(x_values, l1_nw_accu, marker='', label = 'not weighted, L1 distance')\n",
    "    plt.plot(x_values, l1_w_accu, marker = '', label = 'weighted, L1 distance')\n",
    "\n",
    "    # Add labels and title to the plot\n",
    "    plt.xlabel('Number of neighbours')\n",
    "    plt.ylabel('Accuracy')\n",
    "    plt.legend(loc='center left', bbox_to_anchor=(1, 0.5))\n",
    "\n",
    "    # Show the plot\n",
    "    plt.show()"
   ]
  },
  {
   "cell_type": "code",
   "execution_count": null,
   "id": "d08448f0-fe7d-4d5a-ad72-1f4a0e099434",
   "metadata": {},
   "outputs": [],
   "source": [
    "def test_knn():\n",
    "    model = neighbors.KNeighborsClassifier(n_neighbors=best_nei, weights= 'distance', p=1)\n",
    "    model.fit(x_train, y_train)\n",
    "    scores = cross_val_score(model, x_train, y_train, cv=5)\n",
    "    print(\"Accuracy scores:\", scores)"
   ]
  },
  {
   "cell_type": "code",
   "execution_count": null,
   "id": "25dfe8cc-08c7-46fc-bcb5-f131758ed9f0",
   "metadata": {},
   "outputs": [],
   "source": [
    "#y_pred = model.predict(x_test)\n",
    "#accuracy = sklearn.metrics.accuracy_score(y_test, y_pred)\n",
    "#print(accuracy)"
   ]
  },
  {
   "cell_type": "code",
   "execution_count": null,
   "id": "ca41866c-c5d0-4b9c-9fce-aaf71364e9b0",
   "metadata": {
    "tags": []
   },
   "outputs": [],
   "source": [
    "def confusion_matrix(y_test, y_pred):\n",
    "    \n",
    "     \n",
    "    y_test_labels = [arts_dict_op[y] for y in y_test]\n",
    "    y_pred_labels = [arts_dict_op[y] for y in y_pred]\n",
    "    \n",
    "    \n",
    "    confusion_matrix = metrics.confusion_matrix(y_true=y_test_labels, y_pred=y_pred_labels)\n",
    "    \n",
    "    #index_labels = list(map(lambda artist: 'actual ' + artist, artists))\n",
    "    index_labels = list(map(lambda artist: artist, arts_dict_op.keys()))\n",
    "\n",
    "    #column_labels = list(map(lambda artist: 'predicted ' + artist, artists))\n",
    "    column_labels = list(map(lambda artist: artist, arts_dict_op.keys()))\n",
    "\n",
    "    df = pd.DataFrame(data=confusion_matrix, index=index_labels, columns=column_labels)\n",
    "    \n",
    "    \n",
    "    df.style.set_properties(**{'width':'6em', 'text-align':'center'}).set_table_styles([dict(selector=\"th\", props=[('text-align', 'center')])])\n",
    "   \n",
    "    return df\n"
   ]
  },
  {
   "attachments": {},
   "cell_type": "markdown",
   "id": "86aef3f6-2f52-4982-9a83-f3ba2ec10411",
   "metadata": {},
   "source": [
    "# LOGISTIC REGRESSION STARTS"
   ]
  },
  {
   "cell_type": "code",
   "execution_count": null,
   "id": "4a8abfa8",
   "metadata": {},
   "outputs": [],
   "source": [
    "def n_sets_func(df, nsets):    \n",
    "    df2 = df.drop(df.columns[[0, 3, 4]], axis=1)\n",
    "    Pcarray = df_filtered_pca.to_numpy()\n",
    "    df2.reset_index(drop=True, inplace=True)\n",
    "    df2['PCA'] = pd.Series(Pcarray.tolist())\n",
    "    df2 = df2[df2['Artist'] < nsets]\n",
    "    n_art = nsets\n",
    "    pos_w = (n_art-1)/n_art\n",
    "    neg_w = 1/n_art\n",
    "    fts = df2.columns\n",
    "    return df2, fts, pos_w, neg_w\n"
   ]
  },
  {
   "cell_type": "code",
   "execution_count": null,
   "id": "43d74cfe",
   "metadata": {},
   "outputs": [],
   "source": [
    "def mean_of_arrays(matrix):\n",
    "    mean_values = np.mean(matrix, axis=0)\n",
    "    return mean_values.tolist()"
   ]
  },
  {
   "cell_type": "code",
   "execution_count": null,
   "id": "c114cfc0",
   "metadata": {},
   "outputs": [],
   "source": [
    "def artist_df(artist, df2):\n",
    "    \"\"\"\n",
    "    takes the aritst number and the training dataframe\n",
    "    returns the mean and std devaition for all somgs of that artist in that dataframe\n",
    "    \"\"\"\n",
    "    art_data = df2[df2['Artist'] == artist]\n",
    "    arrays = art_data['PCA'].values\n",
    "    # Convert the arrays into a matrix\n",
    "    matrix = np.stack(arrays)\n",
    "    mean = np.array(mean_of_arrays(matrix))\n",
    "    # Calculate the average features for artist number 4\n",
    "    average_features_artist = art_data.mean(numeric_only=True)\n",
    "    # Calculate the standard deviation of features for artist number 4\n",
    "    std_features_artist = art_data.std(numeric_only=True)\n",
    "    k= ((pd.DataFrame({'Average': average_features_artist, 'Standard Deviation': std_features_artist})).transpose()).drop(\"Artist\", axis=1)\n",
    "    return k,mean\n"
   ]
  },
  {
   "cell_type": "code",
   "execution_count": null,
   "id": "8fdf0470",
   "metadata": {},
   "outputs": [],
   "source": [
    "def cosine_angle(vector1, vector2):\n",
    "    \"\"\"\n",
    "    Similarity between 2 vectors between 0 and 1. To be used for PCAd TFIDF components.\n",
    "    \"\"\"\n",
    "    dot_prod = np.dot(vector1, vector2)\n",
    "    mag1 = np.linalg.norm(vector1)\n",
    "    mag2 = np.linalg.norm(vector2)\n",
    "    if(mag1 *mag2 !=0):\n",
    "        return dot_prod / (mag1 * mag2)\n",
    "    return 0\n",
    "    "
   ]
  },
  {
   "cell_type": "code",
   "execution_count": null,
   "id": "db9eda20",
   "metadata": {},
   "outputs": [],
   "source": [
    "def std_rows(df):\n",
    "    \"\"\"\n",
    "    Takes a dataframe with the first 2 rows belonging to an artist and the following rows representing songs.\n",
    "    Returns the dataframe to be trained for that artist.\n",
    "    \"\"\"\n",
    "    art_pca = df.iloc[0, -1]\n",
    "\n",
    "    for i in range(2, len(df)):\n",
    "        df.iloc[i, -1] = cosine_angle(art_pca, df.iloc[i, -1])\n",
    "\n",
    "    first_row = df.iloc[0, :-1]\n",
    "    s_row = df.iloc[1, :-1]\n",
    "\n",
    "    mask = s_row != 0  # Create a mask to avoid division by zero\n",
    "    df.iloc[2:, :-1] = (first_row - df.iloc[2:, :-1]) / np.where(mask, s_row, 1)\n",
    "\n",
    "    df = df.iloc[2:].reset_index(drop=True)\n",
    "    return df\n"
   ]
  },
  {
   "cell_type": "code",
   "execution_count": null,
   "id": "0ad8061c",
   "metadata": {},
   "outputs": [],
   "source": [
    "#### WIll make the dataframe of songs for any artist\n",
    "def df_maker(artist, df, df2):\n",
    "    \"\"\" \n",
    "    INPUTS\n",
    "    artist- aritst number, int\n",
    "    df- dataframe with songs and their features\n",
    "    output- dataframe with featurs of the song wrt the aritst\n",
    "    \"\"\"\n",
    "    art_df, meanpca = artist_df(artist, df2=df2)\n",
    "    art_df[\"PCA\"] = [meanpca, None]\n",
    "    comb_df = pd.concat([art_df, df])\n",
    "    return (std_rows(comb_df))"
   ]
  },
  {
   "cell_type": "code",
   "execution_count": null,
   "id": "44109b0e",
   "metadata": {},
   "outputs": [],
   "source": [
    "def top_K_accs(y_test, arr):\n",
    "    \n",
    "    y_test = np.array(y_test)\n",
    "    l = len(y_test)\n",
    "    top_accs=[]\n",
    "    for max_indices in arr:\n",
    "        s=0\n",
    "        for i in range(0,l):\n",
    "            if y_test[i] in max_indices[i]:\n",
    "                s+=1\n",
    "        top_accs.append(100*s/l)\n",
    "    return(top_accs)"
   ]
  },
  {
   "cell_type": "code",
   "execution_count": null,
   "id": "59c76981",
   "metadata": {},
   "outputs": [],
   "source": [
    "def misclassy(y_test, arr, l):\n",
    "    misclassified_numbers = Counter()\n",
    "\n",
    "    for i, true_value in enumerate(y_test):\n",
    "        if true_value not in arr[i]:\n",
    "            misclassified_numbers[true_value] += 1\n",
    "\n",
    "    total_samples = Counter(y_test)  # Count occurrences of each number in y_test\n",
    "\n",
    "    misclassification_percentages = {\n",
    "        number: count / total_samples[number] * 100\n",
    "        for number, count in misclassified_numbers.items()\n",
    "    }\n",
    "\n",
    "    top_misclassified = sorted(\n",
    "        misclassification_percentages.items(), key=lambda x: x[1], reverse=True\n",
    "    )[:l]\n",
    "\n",
    "    print(f\"The top {l} most misclassified numbers by percentage are:\")\n",
    "    for number, percentage in top_misclassified:\n",
    "        print(f\"Number: {number}, Misclassification percentage: {percentage:.2f}%\")\n",
    "\n"
   ]
  },
  {
   "cell_type": "code",
   "execution_count": null,
   "id": "a23c82cb",
   "metadata": {},
   "outputs": [],
   "source": [
    "def logistic(n_art, df, top):\n",
    "    df2, _, pos_w, neg_w = n_sets_func(df=df, nsets =n_art)\n",
    "    y = df2['Artist']\n",
    "    X = df2.drop('Artist', axis=1)\n",
    "    fts = X.columns\n",
    "    X_train, X_test, y_train, y_test = train_test_split(X, y, test_size=0.2, random_state=42)\n",
    "    probs =[]\n",
    "    coeffs=[]\n",
    "    for i in range(0,n_art):\n",
    "        X2 = df_maker(artist = i,df = X_train, df2 = df2)\n",
    "        X2 = pd.concat([X2.reset_index(drop=True), X_train.iloc[:,:-1].reset_index(drop=True)], axis=1)\n",
    "        X3 = pd.concat([df_maker(artist =i,df = X_test, df2=df2).reset_index(drop=True), X_test.iloc[:, :-1].reset_index(drop=True)], axis =1)\n",
    "        y2 = y_train.apply(lambda x: 1 if x == i else 0)\n",
    "        # Split the data into training and testing sets\n",
    "        logreg = LogisticRegression(max_iter=5000, solver='lbfgs', class_weight={0: neg_w, 1: pos_w})\n",
    "        logreg.fit(X2, y2)\n",
    "        coefficients = logreg.coef_\n",
    "        coeffs.append(coefficients[0])\n",
    "        probs.append(logreg.predict_proba(X3)[:, 1])\n",
    "    coeffs = np.vstack(coeffs)\n",
    "    coeffs= np.mean(coeffs, axis=0)\n",
    "    probs = np.array(probs)\n",
    "    arr=[]\n",
    "    for i in top:\n",
    "        arr.append((np.argsort(probs, axis=0)[-i:, :]).transpose())\n",
    "    print()\n",
    "    # arr contains raw predictions of top k in a list\n",
    "    # brr contains the accuracies\n",
    "    # crr contains the coefficients each time\n",
    "    return arr, top_K_accs(y_test=y_test, arr=arr), coeffs, y_test, fts"
   ]
  },
  {
   "cell_type": "code",
   "execution_count": null,
   "id": "94c7e5f0",
   "metadata": {},
   "outputs": [],
   "source": [
    "# Plot each array of y values\n",
    "def plot_top_tog(brr, nlist, top):\n",
    "    brr2 = brr\n",
    "\n",
    "    max_len = max(len(sublist) for sublist in brr2)\n",
    "    drr = [[] for _ in range(max_len)]\n",
    "\n",
    "    for sublist in brr2:\n",
    "        for i, element in enumerate(sublist):\n",
    "            drr[i].append(element)\n",
    "\n",
    "    brr2=drr\n",
    "\n",
    "    counter=0\n",
    "    for y_values in brr2:\n",
    "        plt.plot(nlist[-len(y_values):], y_values, marker='o', label = \"top \"+str(top[counter])+\" choices\")\n",
    "        counter+=1\n",
    "\n",
    "    # Add labels and title\n",
    "    plt.xlabel('Number of aritsts')\n",
    "    plt.ylabel('Accuracy')\n",
    "    plt.title('Accuracy of n artists with top k choices')\n",
    "    plt.legend(bbox_to_anchor=(1.05, 1), loc='upper left')\n",
    "\n",
    "    # Display the plot\n",
    "    plt.show()"
   ]
  },
  {
   "cell_type": "code",
   "execution_count": null,
   "id": "6f66fbce",
   "metadata": {},
   "outputs": [],
   "source": [
    "def process_data(data, st, name):\n",
    "    features = data['feature']\n",
    "    coefficients = data[name]\n",
    "    \n",
    "    new_features = []\n",
    "    new_coefficients = []\n",
    "    pos_coefficients = []\n",
    "    pos_total = 0.0\n",
    "    \n",
    "    for feature, coefficient in zip(features, coefficients):\n",
    "        if feature.startswith(st):\n",
    "            pos_coefficients.append(coefficient)\n",
    "        else:\n",
    "            new_features.append(feature)\n",
    "            new_coefficients.append(coefficient)\n",
    "    \n",
    "    if pos_coefficients:\n",
    "        pos_total = sum(pos_coefficients)\n",
    "        new_features.append(st)\n",
    "        new_coefficients.append(pos_total)\n",
    "    \n",
    "    processed_data = {\n",
    "        'feature': new_features,\n",
    "        name: new_coefficients\n",
    "    }\n",
    "    \n",
    "    return processed_data"
   ]
  },
  {
   "cell_type": "code",
   "execution_count": null,
   "id": "badd25cf",
   "metadata": {},
   "outputs": [],
   "source": [
    "def plotter(data, name):\n",
    "    feature_importance_df = pd.DataFrame(data)\n",
    "    fig = px.bar(feature_importance_df.sort_values(name), x='feature', y=name)\n",
    "    fig.show()"
   ]
  },
  {
   "cell_type": "code",
   "execution_count": null,
   "id": "33b8da90",
   "metadata": {
    "tags": []
   },
   "outputs": [],
   "source": [
    "def feature_imp(crr, fts):    \n",
    "    for coeffs in crr:\n",
    "        fts2 = [(element+\" diff normal\") for element in fts if element != 'Artist']\n",
    "        for i in range(0,len(fts2)):\n",
    "            if(fts2[i] == \"PCA diff normal\"):\n",
    "                fts2[i] = \"TF_IDF vector similarity\"\n",
    "        fts3 = [element for element in fts if element != 'Artist' and element !='PCA']\n",
    "        fts2+=fts3\n",
    "        data = {'feature': fts2, 'coefficient': coeffs}\n",
    "        plotter(data, 'coefficient')\n",
    "        coeffs2 = np.absolute(coeffs)\n",
    "        coeffs2 = coeffs2/np.linalg.norm(coeffs2)\n",
    "        data = {'feature': fts2, 'coefficient': coeffs2}\n",
    "        for bruh in fts3:\n",
    "            data = process_data(data, bruh[:3], 'coefficient')\n",
    "        plotter(data, 'coefficient')\n",
    "        coeffs3 = 100*coeffs2/np.sum(coeffs2)\n",
    "        data = {'feature': fts2, 'Percentage': coeffs3}\n",
    "        for bruh in fts3:\n",
    "            data = process_data(data, bruh[0:3], 'Percentage')\n",
    "        plotter(data, 'Percentage')\n"
   ]
  },
  {
   "cell_type": "code",
   "execution_count": null,
   "id": "62a3843f",
   "metadata": {},
   "outputs": [
    {
     "name": "stdout",
     "output_type": "stream",
     "text": [
      "\n",
      "The top 5 most misclassified numbers by percentage are:\n",
      "Number: 0, Misclassification percentage: 46.67%\n",
      "Number: 9, Misclassification percentage: 36.36%\n",
      "Number: 2, Misclassification percentage: 23.53%\n",
      "Number: 6, Misclassification percentage: 23.08%\n",
      "Number: 3, Misclassification percentage: 20.00%\n",
      "\n",
      "The top 5 most misclassified numbers by percentage are:\n",
      "Number: 6, Misclassification percentage: 60.00%\n",
      "Number: 10, Misclassification percentage: 52.63%\n",
      "Number: 11, Misclassification percentage: 50.00%\n",
      "Number: 9, Misclassification percentage: 38.89%\n",
      "Number: 8, Misclassification percentage: 38.89%\n"
     ]
    },
    {
     "data": {
      "image/png": "[encoded data removed]",
      "text/plain": [
       "<Figure size 640x480 with 1 Axes>"
      ]
     },
     "metadata": {},
     "output_type": "display_data"
    },
    {
     "data": {
      "application/vnd.plotly.v1+json": {
       "config": {
        "plotlyServerURL": "https://plot.ly"
       },
       "data": [
        {
         "alignmentgroup": "True",
         "hovertemplate": "feature=%{x}<br>coefficient=%{y}<extra></extra>",
         "legendgroup": "",
         "marker": {
          "color": "#636efa",
          "pattern": {
           "shape": ""
          }
         },
         "name": "",
         "offsetgroup": "",
         "orientation": "v",
         "showlegend": false,
         "textposition": "auto",
         "type": "bar",
         "x": [
          "POS_ADV diff normal",
          "POS_PRON diff normal",
          "TF_IDF_Score diff normal",
          "CHUNK_FACILITY diff normal",
          "RID_SECONDARY:TEMPORAL:REFERENCES diff normal",
          "Slang diff normal",
          "CHUNK_LOCATION diff normal",
          "CHUNK_ORGANIZATION diff normal",
          "Title_In_Song diff normal",
          "RID_SECONDARY:SOCIAL:BEHAVIOR diff normal",
          "RID_PRIMARY:REGRESSIVE:COGNITION:UNKNOWN diff normal",
          "RID_PRIMARY:NEED:SEX diff normal",
          "RID_PRIMARY:SENSATION:VISION diff normal",
          "RID_PRIMARY:REGRESSIVE:COGNITION:CONSCIOUSNESS:ALTERATION diff normal",
          "CHUNK_GPE diff normal",
          "RID_PRIMARY:ICARIAN:IMAGERY:ASCENT diff normal",
          "RID_SECONDARY:ABSTRACTION diff normal",
          "POS_DET diff normal",
          "Polarity diff normal",
          "RID_SECONDARY:RESTRAINT diff normal",
          "RID_PRIMARY:NEED:ANALITY diff normal",
          "RID_SECONDARY",
          "Subjectivity",
          "RID_PRIMARY:REGRESSIVE:COGNITION:NARCISSISM diff normal",
          "RID_EMOTIONS:ANXIETY diff normal",
          "RID_EMOTIONS:POSITIVE:AFFECT diff normal",
          "Title_In_Song",
          "RID_PRIMARY:SENSATION:TASTE diff normal",
          "TTR",
          "Rare",
          "Nb_Words",
          "RID_EMOTIONS:AFFECTION",
          "POS_V",
          "SP_Freq",
          "RID_PRIMARY:DEFENSIVE:SYMBOLIZATION:VOYAGE diff normal",
          "RID_PRIMARY:REGRESSIVE:COGNITION:CONCRETENESS",
          "RID_PRIMARY:REGRESSIVE:COGNITION:TIMELESSNESS",
          "RID_PRIMARY diff normal",
          "FP_Freq diff normal",
          "RID_PRIMARY:SENSATION:TASTE",
          "RID_PRIMARY:SENSATION:TOUCH",
          "RID_PRIMARY:SENSATION:SOUND",
          "RID_PRIMARY:SENSATION:COLD",
          "Nb_Lines",
          "RID_PRIMARY:DEFENSIVE:SYMBOLIZATION:PASSIVITY",
          "RID_PRIMARY:ICARIAN:IMAGERY:DEPTH",
          "RID_PRIMARY:REGRESSIVE:COGNITION:BRINK-PASSAGE",
          "CHUNK_LOCATION",
          "RID_PRIMARY:ICARIAN:IMAGERY:HEIGHT",
          "RID_EMOTIONS:SADNESS",
          "RID_PRIMARY:SENSATION:GENERAL-SENSATION",
          "CHUNK_GSP",
          "RID_SECONDARY:MORAL:IMPERATIVE",
          "CHUNK_FACILITY",
          "POS_ADJ",
          "RID_PRIMARY:SENSATION:ODOR",
          "RID_PRIMARY:DEFENSIVE:SYMBOLIZATION:DIFFUSION",
          "RID_PRIMARY:SENSATION:HARD",
          "RID_PRIMARY:ICARIAN:IMAGERY:DESCENT",
          "RID_PRIMARY:ICARIAN:IMAGERY:WATER",
          "Nb_Words diff normal",
          "RID_PRIMARY:SENSATION:SOFT",
          "RID_PRIMARY:DEFENSIVE:SYMBOLIZATION:RANDOM:MOVEMENT",
          "CHUNK_PERSON",
          "RID_SECONDARY:INSTRUMENTAL:BEHAVIOR",
          "RID_EMOTIONS:AGGRESSION",
          "RID_PRIMARY:ICARIAN:IMAGERY:FIRE",
          "RID_PRIMARY:DEFENSIVE:SYMBOLIZATION:VOYAGE",
          "RID_PRIMARY:DEFENSIVE:SYMBOLIZATION:CHAOS",
          "RID_EMOTIONS:GLORY",
          "RID_EMOTIONS",
          "RID_EMOTIONS diff normal",
          "RID_PRIMARY:REGRESSIVE:COGNITION:UNKNOWN",
          "RID_SECONDARY:ORDER",
          "RID_PRIMARY:NEED:ANALITY",
          "TP_Freq",
          "RID_SECONDARY:RESTRAINT",
          "CHUNK_ORGANIZATION",
          "RID_EMOTIONS:POSITIVE:AFFECT",
          "RID_EMOTIONS:EXPRESSIVE:BEHAVIOR",
          "RID_EMOTIONS:ANXIETY",
          "POS_DET",
          "CHUNK_GPE",
          "RID_SECONDARY:ABSTRACTION",
          "Slang",
          "RID_PRIMARY:NEED:ORALITY",
          "SR",
          "POS_N",
          "RID_PRIMARY:REGRESSIVE:COGNITION:NARCISSISM",
          "FP_Freq",
          "RID_SECONDARY:SOCIAL:BEHAVIOR",
          "Nb_Lines diff normal",
          "RID_PRIMARY:ICARIAN:IMAGERY:ASCENT",
          "RID_PRIMARY:SENSATION:VISION",
          "RID_SECONDARY diff normal",
          "RID_PRIMARY:NEED:SEX",
          "RID_PRIMARY:REGRESSIVE:COGNITION:CONSCIOUSNESS:ALTERATION",
          "SR diff normal",
          "RID_SECONDARY:ORDER diff normal",
          "RID_EMOTIONS:GLORY diff normal",
          "POS_PRON",
          "POS_ADV",
          "RID_SECONDARY:TEMPORAL:REFERENCES",
          "RID_PRIMARY:REGRESSIVE:COGNITION:TIMELESSNESS diff normal",
          "RID_PRIMARY:ICARIAN:IMAGERY:DESCENT diff normal",
          "Polarity",
          "RID_PRIMARY",
          "POS_ADJ diff normal",
          "RID_EMOTIONS:AGGRESSION diff normal",
          "RID_EMOTIONS:EXPRESSIVE:BEHAVIOR diff normal",
          "CHUNK_GSP diff normal",
          "RID_SECONDARY:INSTRUMENTAL:BEHAVIOR diff normal",
          "Nb_Words_Per_Line",
          "RID_PRIMARY:NEED:ORALITY diff normal",
          "Nb_Words_Per_Line diff normal",
          "RID_PRIMARY:DEFENSIVE:SYMBOLIZATION:RANDOM:MOVEMENT diff normal",
          "RID_PRIMARY:SENSATION:SOFT diff normal",
          "RID_PRIMARY:DEFENSIVE:SYMBOLIZATION:DIFFUSION diff normal",
          "CHUNK_PERSON diff normal",
          "TP_Freq diff normal",
          "RID_PRIMARY:DEFENSIVE:SYMBOLIZATION:CHAOS diff normal",
          "RID_PRIMARY:ICARIAN:IMAGERY:FIRE diff normal",
          "RID_EMOTIONS:SADNESS diff normal",
          "RID_SECONDARY:MORAL:IMPERATIVE diff normal",
          "RID_PRIMARY:DEFENSIVE:SYMBOLIZATION:PASSIVITY diff normal",
          "TTR diff normal",
          "Rare diff normal",
          "RID_PRIMARY:SENSATION:SOUND diff normal",
          "POS_N diff normal",
          "RID_PRIMARY:ICARIAN:IMAGERY:WATER diff normal",
          "Subjectivity diff normal",
          "RID_PRIMARY:SENSATION:HARD diff normal",
          "RID_PRIMARY:ICARIAN:IMAGERY:HEIGHT diff normal",
          "RID_PRIMARY:REGRESSIVE:COGNITION:BRINK-PASSAGE diff normal",
          "SP_Freq diff normal",
          "RID_PRIMARY:SENSATION:GENERAL-SENSATION diff normal",
          "RID_PRIMARY:REGRESSIVE:COGNITION:CONCRETENESS diff normal",
          "RID_PRIMARY:ICARIAN:IMAGERY:DEPTH diff normal",
          "RID_PRIMARY:SENSATION:COLD diff normal",
          "RID_EMOTIONS:AFFECTION diff normal",
          "RID_PRIMARY:SENSATION:TOUCH diff normal",
          "RID_PRIMARY:SENSATION:ODOR diff normal",
          "TF_IDF_Score",
          "POS_V diff normal",
          "TF_IDF vector similarity"
         ],
         "xaxis": "x",
         "y": [
          -0.1498710658663303,
          -0.10586209830214281,
          -0.10567471959687927,
          -0.10317666777541763,
          -0.09489502125971194,
          -0.067477049943232,
          -0.059471438652833886,
          -0.051205103363574624,
          -0.05071395954050484,
          -0.04934039708779907,
          -0.040953877734264815,
          -0.03538038226774805,
          -0.02870372733262948,
          -0.026587504396665157,
          -0.026015160221608012,
          -0.02472177153166468,
          -0.022985162027376566,
          -0.021944476343759067,
          -0.021476080201432775,
          -0.020430117459148057,
          -0.013892168290173946,
          -0.012931328963926358,
          -0.011372147024567314,
          -0.005219812973704769,
          -0.004903539620732404,
          -0.004652831690886106,
          -0.004501675910619044,
          -0.003651020202449512,
          -0.0035884527478991374,
          -0.0028468813378961415,
          -0.0025257724097860687,
          -0.0023702926237422713,
          -0.0021404740240625266,
          -0.0016024667293387269,
          -0.0013270634151786754,
          -0.0012405165455844067,
          -0.0012045782155019058,
          -0.0009374584592514744,
          -0.0007670936827892813,
          -0.0006454349232818577,
          -0.0004064963939714061,
          -0.00036626537078440476,
          -0.0003588614455967736,
          -0.00035232540510775833,
          -0.00028437808021708857,
          -0.0002789208304209311,
          -0.00023893978912670303,
          -0.00020634351105279316,
          -0.00012794220082205766,
          -0.00012755936158997488,
          -0.00012257651946961137,
          -0.00010781555475071025,
          -0.00009757933622086957,
          -0.00007427678775268924,
          -0.00007271159606908674,
          -0.000026598429288449717,
          -0.000010089600728613834,
          -0.000009849424226044193,
          0.000014317437545460667,
          0.000017790601885349714,
          0.00004318276098335314,
          0.000049192987701825085,
          0.00005571019056212483,
          0.00005675774996594734,
          0.00006306972817785072,
          0.00006673536471312192,
          0.00008895211202877348,
          0.00012716872366211096,
          0.00012734318993329842,
          0.00013392765051733384,
          0.00022896914590660734,
          0.00025506937951759803,
          0.00030101161339295444,
          0.000341910634253054,
          0.000358285696473971,
          0.00037186480061888983,
          0.00038096232066210905,
          0.00038928284636218375,
          0.0004075949766163741,
          0.00041722732074227984,
          0.0004632048904020983,
          0.0004911035726361593,
          0.000496920876994928,
          0.0005608999042548444,
          0.0006034169497901847,
          0.0006799296957360689,
          0.0007696307812795451,
          0.0007869657606006762,
          0.0008270529410567249,
          0.0008345521422972733,
          0.0008606147204159094,
          0.0008789467220685741,
          0.0009561895430154895,
          0.0010076874752108973,
          0.0010652071296993796,
          0.0011111726396807217,
          0.001175226462351732,
          0.001302366092431062,
          0.001542983387877897,
          0.001603728467605376,
          0.002015565697597256,
          0.002164817437877457,
          0.0036134769377901797,
          0.003746928921957199,
          0.004623556636523557,
          0.005572060703027888,
          0.008882474126300536,
          0.009685741685660849,
          0.015337254415391063,
          0.017599503480062,
          0.01865825821130592,
          0.019171492318667067,
          0.022299197899892258,
          0.02538526390701773,
          0.025431920596382957,
          0.02855842451324615,
          0.028745656951609168,
          0.03148391882730174,
          0.034228108338820076,
          0.03493179983779619,
          0.03638448369702508,
          0.039037655351841186,
          0.04287364301566167,
          0.04391387814464628,
          0.04490276509804224,
          0.050292486956834435,
          0.05327296149416823,
          0.05468591067838189,
          0.05516473793208637,
          0.05678674359872495,
          0.06122612027311267,
          0.06251155520905152,
          0.06669716803323347,
          0.07317058244831168,
          0.07350672886764978,
          0.07720363404847012,
          0.07730977417969222,
          0.07760873079694044,
          0.09140291440279313,
          0.10734455848936394,
          0.11019114891572127,
          0.1229483752522161,
          0.15362305030852744,
          0.16056710486042308,
          0.5774266700987174
         ],
         "yaxis": "y"
        }
       ],
       "layout": {
        "barmode": "relative",
        "legend": {
         "tracegroupgap": 0
        },
        "margin": {
         "t": 60
        },
        "template": {
         "data": {
          "bar": [
           {
            "error_x": {
             "color": "#2a3f5f"
            },
            "error_y": {
             "color": "#2a3f5f"
            },
            "marker": {
             "line": {
              "color": "#E5ECF6",
              "width": 0.5
             },
             "pattern": {
              "fillmode": "overlay",
              "size": 10,
              "solidity": 0.2
             }
            },
            "type": "bar"
           }
          ],
          "barpolar": [
           {
            "marker": {
             "line": {
              "color": "#E5ECF6",
              "width": 0.5
             },
             "pattern": {
              "fillmode": "overlay",
              "size": 10,
              "solidity": 0.2
             }
            },
            "type": "barpolar"
           }
          ],
          "carpet": [
           {
            "aaxis": {
             "endlinecolor": "#2a3f5f",
             "gridcolor": "white",
             "linecolor": "white",
             "minorgridcolor": "white",
             "startlinecolor": "#2a3f5f"
            },
            "baxis": {
             "endlinecolor": "#2a3f5f",
             "gridcolor": "white",
             "linecolor": "white",
             "minorgridcolor": "white",
             "startlinecolor": "#2a3f5f"
            },
            "type": "carpet"
           }
          ],
          "choropleth": [
           {
            "colorbar": {
             "outlinewidth": 0,
             "ticks": ""
            },
            "type": "choropleth"
           }
          ],
          "contour": [
           {
            "colorbar": {
             "outlinewidth": 0,
             "ticks": ""
            },
            "colorscale": [
             [
              0,
              "#0d0887"
             ],
             [
              0.1111111111111111,
              "#46039f"
             ],
             [
              0.2222222222222222,
              "#7201a8"
             ],
             [
              0.3333333333333333,
              "#9c179e"
             ],
             [
              0.4444444444444444,
              "#bd3786"
             ],
             [
              0.5555555555555556,
              "#d8576b"
             ],
             [
              0.6666666666666666,
              "#ed7953"
             ],
             [
              0.7777777777777778,
              "#fb9f3a"
             ],
             [
              0.8888888888888888,
              "#fdca26"
             ],
             [
              1,
              "#f0f921"
             ]
            ],
            "type": "contour"
           }
          ],
          "contourcarpet": [
           {
            "colorbar": {
             "outlinewidth": 0,
             "ticks": ""
            },
            "type": "contourcarpet"
           }
          ],
          "heatmap": [
           {
            "colorbar": {
             "outlinewidth": 0,
             "ticks": ""
            },
            "colorscale": [
             [
              0,
              "#0d0887"
             ],
             [
              0.1111111111111111,
              "#46039f"
             ],
             [
              0.2222222222222222,
              "#7201a8"
             ],
             [
              0.3333333333333333,
              "#9c179e"
             ],
             [
              0.4444444444444444,
              "#bd3786"
             ],
             [
              0.5555555555555556,
              "#d8576b"
             ],
             [
              0.6666666666666666,
              "#ed7953"
             ],
             [
              0.7777777777777778,
              "#fb9f3a"
             ],
             [
              0.8888888888888888,
              "#fdca26"
             ],
             [
              1,
              "#f0f921"
             ]
            ],
            "type": "heatmap"
           }
          ],
          "heatmapgl": [
           {
            "colorbar": {
             "outlinewidth": 0,
             "ticks": ""
            },
            "colorscale": [
             [
              0,
              "#0d0887"
             ],
             [
              0.1111111111111111,
              "#46039f"
             ],
             [
              0.2222222222222222,
              "#7201a8"
             ],
             [
              0.3333333333333333,
              "#9c179e"
             ],
             [
              0.4444444444444444,
              "#bd3786"
             ],
             [
              0.5555555555555556,
              "#d8576b"
             ],
             [
              0.6666666666666666,
              "#ed7953"
             ],
             [
              0.7777777777777778,
              "#fb9f3a"
             ],
             [
              0.8888888888888888,
              "#fdca26"
             ],
             [
              1,
              "#f0f921"
             ]
            ],
            "type": "heatmapgl"
           }
          ],
          "histogram": [
           {
            "marker": {
             "pattern": {
              "fillmode": "overlay",
              "size": 10,
              "solidity": 0.2
             }
            },
            "type": "histogram"
           }
          ],
          "histogram2d": [
           {
            "colorbar": {
             "outlinewidth": 0,
             "ticks": ""
            },
            "colorscale": [
             [
              0,
              "#0d0887"
             ],
             [
              0.1111111111111111,
              "#46039f"
             ],
             [
              0.2222222222222222,
              "#7201a8"
             ],
             [
              0.3333333333333333,
              "#9c179e"
             ],
             [
              0.4444444444444444,
              "#bd3786"
             ],
             [
              0.5555555555555556,
              "#d8576b"
             ],
             [
              0.6666666666666666,
              "#ed7953"
             ],
             [
              0.7777777777777778,
              "#fb9f3a"
             ],
             [
              0.8888888888888888,
              "#fdca26"
             ],
             [
              1,
              "#f0f921"
             ]
            ],
            "type": "histogram2d"
           }
          ],
          "histogram2dcontour": [
           {
            "colorbar": {
             "outlinewidth": 0,
             "ticks": ""
            },
            "colorscale": [
             [
              0,
              "#0d0887"
             ],
             [
              0.1111111111111111,
              "#46039f"
             ],
             [
              0.2222222222222222,
              "#7201a8"
             ],
             [
              0.3333333333333333,
              "#9c179e"
             ],
             [
              0.4444444444444444,
              "#bd3786"
             ],
             [
              0.5555555555555556,
              "#d8576b"
             ],
             [
              0.6666666666666666,
              "#ed7953"
             ],
             [
              0.7777777777777778,
              "#fb9f3a"
             ],
             [
              0.8888888888888888,
              "#fdca26"
             ],
             [
              1,
              "#f0f921"
             ]
            ],
            "type": "histogram2dcontour"
           }
          ],
          "mesh3d": [
           {
            "colorbar": {
             "outlinewidth": 0,
             "ticks": ""
            },
            "type": "mesh3d"
           }
          ],
          "parcoords": [
           {
            "line": {
             "colorbar": {
              "outlinewidth": 0,
              "ticks": ""
             }
            },
            "type": "parcoords"
           }
          ],
          "pie": [
           {
            "automargin": true,
            "type": "pie"
           }
          ],
          "scatter": [
           {
            "fillpattern": {
             "fillmode": "overlay",
             "size": 10,
             "solidity": 0.2
            },
            "type": "scatter"
           }
          ],
          "scatter3d": [
           {
            "line": {
             "colorbar": {
              "outlinewidth": 0,
              "ticks": ""
             }
            },
            "marker": {
             "colorbar": {
              "outlinewidth": 0,
              "ticks": ""
             }
            },
            "type": "scatter3d"
           }
          ],
          "scattercarpet": [
           {
            "marker": {
             "colorbar": {
              "outlinewidth": 0,
              "ticks": ""
             }
            },
            "type": "scattercarpet"
           }
          ],
          "scattergeo": [
           {
            "marker": {
             "colorbar": {
              "outlinewidth": 0,
              "ticks": ""
             }
            },
            "type": "scattergeo"
           }
          ],
          "scattergl": [
           {
            "marker": {
             "colorbar": {
              "outlinewidth": 0,
              "ticks": ""
             }
            },
            "type": "scattergl"
           }
          ],
          "scattermapbox": [
           {
            "marker": {
             "colorbar": {
              "outlinewidth": 0,
              "ticks": ""
             }
            },
            "type": "scattermapbox"
           }
          ],
          "scatterpolar": [
           {
            "marker": {
             "colorbar": {
              "outlinewidth": 0,
              "ticks": ""
             }
            },
            "type": "scatterpolar"
           }
          ],
          "scatterpolargl": [
           {
            "marker": {
             "colorbar": {
              "outlinewidth": 0,
              "ticks": ""
             }
            },
            "type": "scatterpolargl"
           }
          ],
          "scatterternary": [
           {
            "marker": {
             "colorbar": {
              "outlinewidth": 0,
              "ticks": ""
             }
            },
            "type": "scatterternary"
           }
          ],
          "surface": [
           {
            "colorbar": {
             "outlinewidth": 0,
             "ticks": ""
            },
            "colorscale": [
             [
              0,
              "#0d0887"
             ],
             [
              0.1111111111111111,
              "#46039f"
             ],
             [
              0.2222222222222222,
              "#7201a8"
             ],
             [
              0.3333333333333333,
              "#9c179e"
             ],
             [
              0.4444444444444444,
              "#bd3786"
             ],
             [
              0.5555555555555556,
              "#d8576b"
             ],
             [
              0.6666666666666666,
              "#ed7953"
             ],
             [
              0.7777777777777778,
              "#fb9f3a"
             ],
             [
              0.8888888888888888,
              "#fdca26"
             ],
             [
              1,
              "#f0f921"
             ]
            ],
            "type": "surface"
           }
          ],
          "table": [
           {
            "cells": {
             "fill": {
              "color": "#EBF0F8"
             },
             "line": {
              "color": "white"
             }
            },
            "header": {
             "fill": {
              "color": "#C8D4E3"
             },
             "line": {
              "color": "white"
             }
            },
            "type": "table"
           }
          ]
         },
         "layout": {
          "annotationdefaults": {
           "arrowcolor": "#2a3f5f",
           "arrowhead": 0,
           "arrowwidth": 1
          },
          "autotypenumbers": "strict",
          "coloraxis": {
           "colorbar": {
            "outlinewidth": 0,
            "ticks": ""
           }
          },
          "colorscale": {
           "diverging": [
            [
             0,
             "#8e0152"
            ],
            [
             0.1,
             "#c51b7d"
            ],
            [
             0.2,
             "#de77ae"
            ],
            [
             0.3,
             "#f1b6da"
            ],
            [
             0.4,
             "#fde0ef"
            ],
            [
             0.5,
             "#f7f7f7"
            ],
            [
             0.6,
             "#e6f5d0"
            ],
            [
             0.7,
             "#b8e186"
            ],
            [
             0.8,
             "#7fbc41"
            ],
            [
             0.9,
             "#4d9221"
            ],
            [
             1,
             "#276419"
            ]
           ],
           "sequential": [
            [
             0,
             "#0d0887"
            ],
            [
             0.1111111111111111,
             "#46039f"
            ],
            [
             0.2222222222222222,
             "#7201a8"
            ],
            [
             0.3333333333333333,
             "#9c179e"
            ],
            [
             0.4444444444444444,
             "#bd3786"
            ],
            [
             0.5555555555555556,
             "#d8576b"
            ],
            [
             0.6666666666666666,
             "#ed7953"
            ],
            [
             0.7777777777777778,
             "#fb9f3a"
            ],
            [
             0.8888888888888888,
             "#fdca26"
            ],
            [
             1,
             "#f0f921"
            ]
           ],
           "sequentialminus": [
            [
             0,
             "#0d0887"
            ],
            [
             0.1111111111111111,
             "#46039f"
            ],
            [
             0.2222222222222222,
             "#7201a8"
            ],
            [
             0.3333333333333333,
             "#9c179e"
            ],
            [
             0.4444444444444444,
             "#bd3786"
            ],
            [
             0.5555555555555556,
             "#d8576b"
            ],
            [
             0.6666666666666666,
             "#ed7953"
            ],
            [
             0.7777777777777778,
             "#fb9f3a"
            ],
            [
             0.8888888888888888,
             "#fdca26"
            ],
            [
             1,
             "#f0f921"
            ]
           ]
          },
          "colorway": [
           "#636efa",
           "#EF553B",
           "#00cc96",
           "#ab63fa",
           "#FFA15A",
           "#19d3f3",
           "#FF6692",
           "#B6E880",
           "#FF97FF",
           "#FECB52"
          ],
          "font": {
           "color": "#2a3f5f"
          },
          "geo": {
           "bgcolor": "white",
           "lakecolor": "white",
           "landcolor": "#E5ECF6",
           "showlakes": true,
           "showland": true,
           "subunitcolor": "white"
          },
          "hoverlabel": {
           "align": "left"
          },
          "hovermode": "closest",
          "mapbox": {
           "style": "light"
          },
          "paper_bgcolor": "white",
          "plot_bgcolor": "#E5ECF6",
          "polar": {
           "angularaxis": {
            "gridcolor": "white",
            "linecolor": "white",
            "ticks": ""
           },
           "bgcolor": "#E5ECF6",
           "radialaxis": {
            "gridcolor": "white",
            "linecolor": "white",
            "ticks": ""
           }
          },
          "scene": {
           "xaxis": {
            "backgroundcolor": "#E5ECF6",
            "gridcolor": "white",
            "gridwidth": 2,
            "linecolor": "white",
            "showbackground": true,
            "ticks": "",
            "zerolinecolor": "white"
           },
           "yaxis": {
            "backgroundcolor": "#E5ECF6",
            "gridcolor": "white",
            "gridwidth": 2,
            "linecolor": "white",
            "showbackground": true,
            "ticks": "",
            "zerolinecolor": "white"
           },
           "zaxis": {
            "backgroundcolor": "#E5ECF6",
            "gridcolor": "white",
            "gridwidth": 2,
            "linecolor": "white",
            "showbackground": true,
            "ticks": "",
            "zerolinecolor": "white"
           }
          },
          "shapedefaults": {
           "line": {
            "color": "#2a3f5f"
           }
          },
          "ternary": {
           "aaxis": {
            "gridcolor": "white",
            "linecolor": "white",
            "ticks": ""
           },
           "baxis": {
            "gridcolor": "white",
            "linecolor": "white",
            "ticks": ""
           },
           "bgcolor": "#E5ECF6",
           "caxis": {
            "gridcolor": "white",
            "linecolor": "white",
            "ticks": ""
           }
          },
          "title": {
           "x": 0.05
          },
          "xaxis": {
           "automargin": true,
           "gridcolor": "white",
           "linecolor": "white",
           "ticks": "",
           "title": {
            "standoff": 15
           },
           "zerolinecolor": "white",
           "zerolinewidth": 2
          },
          "yaxis": {
           "automargin": true,
           "gridcolor": "white",
           "linecolor": "white",
           "ticks": "",
           "title": {
            "standoff": 15
           },
           "zerolinecolor": "white",
           "zerolinewidth": 2
          }
         }
        },
        "xaxis": {
         "anchor": "y",
         "domain": [
          0,
          1
         ],
         "title": {
          "text": "feature"
         }
        },
        "yaxis": {
         "anchor": "x",
         "domain": [
          0,
          1
         ],
         "title": {
          "text": "coefficient"
         }
        }
       }
      }
     },
     "metadata": {},
     "output_type": "display_data"
    },
    {
     "data": {
      "application/vnd.plotly.v1+json": {
       "config": {
        "plotlyServerURL": "https://plot.ly"
       },
       "data": [
        {
         "alignmentgroup": "True",
         "hovertemplate": "feature=%{x}<br>coefficient=%{y}<extra></extra>",
         "legendgroup": "",
         "marker": {
          "color": "#636efa",
          "pattern": {
           "shape": ""
          }
         },
         "name": "",
         "offsetgroup": "",
         "orientation": "v",
         "showlegend": false,
         "textposition": "auto",
         "type": "bar",
         "x": [
          "FP_ total",
          "SR total",
          "Pol total",
          "TP_ total",
          "Nb_ total",
          "TTR total",
          "Tit total",
          "Rar total",
          "Sla total",
          "Sub total",
          "SP_ total",
          "CHU total",
          "POS total",
          "TF_ total",
          "RID total"
         ],
         "xaxis": "x",
         "y": [
          0.0020836533734935525,
          0.0026955542905635135,
          0.03518814781617697,
          0.045928131406044986,
          0.0670394545554344,
          0.07009614736560354,
          0.07183251332803683,
          0.0730088375378743,
          0.08856895344074946,
          0.09444636398088996,
          0.0977129439822282,
          0.3825899305455847,
          0.6644796750032274,
          1.0885326048940185,
          2.3245817126982358
         ],
         "yaxis": "y"
        }
       ],
       "layout": {
        "barmode": "relative",
        "legend": {
         "tracegroupgap": 0
        },
        "margin": {
         "t": 60
        },
        "template": {
         "data": {
          "bar": [
           {
            "error_x": {
             "color": "#2a3f5f"
            },
            "error_y": {
             "color": "#2a3f5f"
            },
            "marker": {
             "line": {
              "color": "#E5ECF6",
              "width": 0.5
             },
             "pattern": {
              "fillmode": "overlay",
              "size": 10,
              "solidity": 0.2
             }
            },
            "type": "bar"
           }
          ],
          "barpolar": [
           {
            "marker": {
             "line": {
              "color": "#E5ECF6",
              "width": 0.5
             },
             "pattern": {
              "fillmode": "overlay",
              "size": 10,
              "solidity": 0.2
             }
            },
            "type": "barpolar"
           }
          ],
          "carpet": [
           {
            "aaxis": {
             "endlinecolor": "#2a3f5f",
             "gridcolor": "white",
             "linecolor": "white",
             "minorgridcolor": "white",
             "startlinecolor": "#2a3f5f"
            },
            "baxis": {
             "endlinecolor": "#2a3f5f",
             "gridcolor": "white",
             "linecolor": "white",
             "minorgridcolor": "white",
             "startlinecolor": "#2a3f5f"
            },
            "type": "carpet"
           }
          ],
          "choropleth": [
           {
            "colorbar": {
             "outlinewidth": 0,
             "ticks": ""
            },
            "type": "choropleth"
           }
          ],
          "contour": [
           {
            "colorbar": {
             "outlinewidth": 0,
             "ticks": ""
            },
            "colorscale": [
             [
              0,
              "#0d0887"
             ],
             [
              0.1111111111111111,
              "#46039f"
             ],
             [
              0.2222222222222222,
              "#7201a8"
             ],
             [
              0.3333333333333333,
              "#9c179e"
             ],
             [
              0.4444444444444444,
              "#bd3786"
             ],
             [
              0.5555555555555556,
              "#d8576b"
             ],
             [
              0.6666666666666666,
              "#ed7953"
             ],
             [
              0.7777777777777778,
              "#fb9f3a"
             ],
             [
              0.8888888888888888,
              "#fdca26"
             ],
             [
              1,
              "#f0f921"
             ]
            ],
            "type": "contour"
           }
          ],
          "contourcarpet": [
           {
            "colorbar": {
             "outlinewidth": 0,
             "ticks": ""
            },
            "type": "contourcarpet"
           }
          ],
          "heatmap": [
           {
            "colorbar": {
             "outlinewidth": 0,
             "ticks": ""
            },
            "colorscale": [
             [
              0,
              "#0d0887"
             ],
             [
              0.1111111111111111,
              "#46039f"
             ],
             [
              0.2222222222222222,
              "#7201a8"
             ],
             [
              0.3333333333333333,
              "#9c179e"
             ],
             [
              0.4444444444444444,
              "#bd3786"
             ],
             [
              0.5555555555555556,
              "#d8576b"
             ],
             [
              0.6666666666666666,
              "#ed7953"
             ],
             [
              0.7777777777777778,
              "#fb9f3a"
             ],
             [
              0.8888888888888888,
              "#fdca26"
             ],
             [
              1,
              "#f0f921"
             ]
            ],
            "type": "heatmap"
           }
          ],
          "heatmapgl": [
           {
            "colorbar": {
             "outlinewidth": 0,
             "ticks": ""
            },
            "colorscale": [
             [
              0,
              "#0d0887"
             ],
             [
              0.1111111111111111,
              "#46039f"
             ],
             [
              0.2222222222222222,
              "#7201a8"
             ],
             [
              0.3333333333333333,
              "#9c179e"
             ],
             [
              0.4444444444444444,
              "#bd3786"
             ],
             [
              0.5555555555555556,
              "#d8576b"
             ],
             [
              0.6666666666666666,
              "#ed7953"
             ],
             [
              0.7777777777777778,
              "#fb9f3a"
             ],
             [
              0.8888888888888888,
              "#fdca26"
             ],
             [
              1,
              "#f0f921"
             ]
            ],
            "type": "heatmapgl"
           }
          ],
          "histogram": [
           {
            "marker": {
             "pattern": {
              "fillmode": "overlay",
              "size": 10,
              "solidity": 0.2
             }
            },
            "type": "histogram"
           }
          ],
          "histogram2d": [
           {
            "colorbar": {
             "outlinewidth": 0,
             "ticks": ""
            },
            "colorscale": [
             [
              0,
              "#0d0887"
             ],
             [
              0.1111111111111111,
              "#46039f"
             ],
             [
              0.2222222222222222,
              "#7201a8"
             ],
             [
              0.3333333333333333,
              "#9c179e"
             ],
             [
              0.4444444444444444,
              "#bd3786"
             ],
             [
              0.5555555555555556,
              "#d8576b"
             ],
             [
              0.6666666666666666,
              "#ed7953"
             ],
             [
              0.7777777777777778,
              "#fb9f3a"
             ],
             [
              0.8888888888888888,
              "#fdca26"
             ],
             [
              1,
              "#f0f921"
             ]
            ],
            "type": "histogram2d"
           }
          ],
          "histogram2dcontour": [
           {
            "colorbar": {
             "outlinewidth": 0,
             "ticks": ""
            },
            "colorscale": [
             [
              0,
              "#0d0887"
             ],
             [
              0.1111111111111111,
              "#46039f"
             ],
             [
              0.2222222222222222,
              "#7201a8"
             ],
             [
              0.3333333333333333,
              "#9c179e"
             ],
             [
              0.4444444444444444,
              "#bd3786"
             ],
             [
              0.5555555555555556,
              "#d8576b"
             ],
             [
              0.6666666666666666,
              "#ed7953"
             ],
             [
              0.7777777777777778,
              "#fb9f3a"
             ],
             [
              0.8888888888888888,
              "#fdca26"
             ],
             [
              1,
              "#f0f921"
             ]
            ],
            "type": "histogram2dcontour"
           }
          ],
          "mesh3d": [
           {
            "colorbar": {
             "outlinewidth": 0,
             "ticks": ""
            },
            "type": "mesh3d"
           }
          ],
          "parcoords": [
           {
            "line": {
             "colorbar": {
              "outlinewidth": 0,
              "ticks": ""
             }
            },
            "type": "parcoords"
           }
          ],
          "pie": [
           {
            "automargin": true,
            "type": "pie"
           }
          ],
          "scatter": [
           {
            "fillpattern": {
             "fillmode": "overlay",
             "size": 10,
             "solidity": 0.2
            },
            "type": "scatter"
           }
          ],
          "scatter3d": [
           {
            "line": {
             "colorbar": {
              "outlinewidth": 0,
              "ticks": ""
             }
            },
            "marker": {
             "colorbar": {
              "outlinewidth": 0,
              "ticks": ""
             }
            },
            "type": "scatter3d"
           }
          ],
          "scattercarpet": [
           {
            "marker": {
             "colorbar": {
              "outlinewidth": 0,
              "ticks": ""
             }
            },
            "type": "scattercarpet"
           }
          ],
          "scattergeo": [
           {
            "marker": {
             "colorbar": {
              "outlinewidth": 0,
              "ticks": ""
             }
            },
            "type": "scattergeo"
           }
          ],
          "scattergl": [
           {
            "marker": {
             "colorbar": {
              "outlinewidth": 0,
              "ticks": ""
             }
            },
            "type": "scattergl"
           }
          ],
          "scattermapbox": [
           {
            "marker": {
             "colorbar": {
              "outlinewidth": 0,
              "ticks": ""
             }
            },
            "type": "scattermapbox"
           }
          ],
          "scatterpolar": [
           {
            "marker": {
             "colorbar": {
              "outlinewidth": 0,
              "ticks": ""
             }
            },
            "type": "scatterpolar"
           }
          ],
          "scatterpolargl": [
           {
            "marker": {
             "colorbar": {
              "outlinewidth": 0,
              "ticks": ""
             }
            },
            "type": "scatterpolargl"
           }
          ],
          "scatterternary": [
           {
            "marker": {
             "colorbar": {
              "outlinewidth": 0,
              "ticks": ""
             }
            },
            "type": "scatterternary"
           }
          ],
          "surface": [
           {
            "colorbar": {
             "outlinewidth": 0,
             "ticks": ""
            },
            "colorscale": [
             [
              0,
              "#0d0887"
             ],
             [
              0.1111111111111111,
              "#46039f"
             ],
             [
              0.2222222222222222,
              "#7201a8"
             ],
             [
              0.3333333333333333,
              "#9c179e"
             ],
             [
              0.4444444444444444,
              "#bd3786"
             ],
             [
              0.5555555555555556,
              "#d8576b"
             ],
             [
              0.6666666666666666,
              "#ed7953"
             ],
             [
              0.7777777777777778,
              "#fb9f3a"
             ],
             [
              0.8888888888888888,
              "#fdca26"
             ],
             [
              1,
              "#f0f921"
             ]
            ],
            "type": "surface"
           }
          ],
          "table": [
           {
            "cells": {
             "fill": {
              "color": "#EBF0F8"
             },
             "line": {
              "color": "white"
             }
            },
            "header": {
             "fill": {
              "color": "#C8D4E3"
             },
             "line": {
              "color": "white"
             }
            },
            "type": "table"
           }
          ]
         },
         "layout": {
          "annotationdefaults": {
           "arrowcolor": "#2a3f5f",
           "arrowhead": 0,
           "arrowwidth": 1
          },
          "autotypenumbers": "strict",
          "coloraxis": {
           "colorbar": {
            "outlinewidth": 0,
            "ticks": ""
           }
          },
          "colorscale": {
           "diverging": [
            [
             0,
             "#8e0152"
            ],
            [
             0.1,
             "#c51b7d"
            ],
            [
             0.2,
             "#de77ae"
            ],
            [
             0.3,
             "#f1b6da"
            ],
            [
             0.4,
             "#fde0ef"
            ],
            [
             0.5,
             "#f7f7f7"
            ],
            [
             0.6,
             "#e6f5d0"
            ],
            [
             0.7,
             "#b8e186"
            ],
            [
             0.8,
             "#7fbc41"
            ],
            [
             0.9,
             "#4d9221"
            ],
            [
             1,
             "#276419"
            ]
           ],
           "sequential": [
            [
             0,
             "#0d0887"
            ],
            [
             0.1111111111111111,
             "#46039f"
            ],
            [
             0.2222222222222222,
             "#7201a8"
            ],
            [
             0.3333333333333333,
             "#9c179e"
            ],
            [
             0.4444444444444444,
             "#bd3786"
            ],
            [
             0.5555555555555556,
             "#d8576b"
            ],
            [
             0.6666666666666666,
             "#ed7953"
            ],
            [
             0.7777777777777778,
             "#fb9f3a"
            ],
            [
             0.8888888888888888,
             "#fdca26"
            ],
            [
             1,
             "#f0f921"
            ]
           ],
           "sequentialminus": [
            [
             0,
             "#0d0887"
            ],
            [
             0.1111111111111111,
             "#46039f"
            ],
            [
             0.2222222222222222,
             "#7201a8"
            ],
            [
             0.3333333333333333,
             "#9c179e"
            ],
            [
             0.4444444444444444,
             "#bd3786"
            ],
            [
             0.5555555555555556,
             "#d8576b"
            ],
            [
             0.6666666666666666,
             "#ed7953"
            ],
            [
             0.7777777777777778,
             "#fb9f3a"
            ],
            [
             0.8888888888888888,
             "#fdca26"
            ],
            [
             1,
             "#f0f921"
            ]
           ]
          },
          "colorway": [
           "#636efa",
           "#EF553B",
           "#00cc96",
           "#ab63fa",
           "#FFA15A",
           "#19d3f3",
           "#FF6692",
           "#B6E880",
           "#FF97FF",
           "#FECB52"
          ],
          "font": {
           "color": "#2a3f5f"
          },
          "geo": {
           "bgcolor": "white",
           "lakecolor": "white",
           "landcolor": "#E5ECF6",
           "showlakes": true,
           "showland": true,
           "subunitcolor": "white"
          },
          "hoverlabel": {
           "align": "left"
          },
          "hovermode": "closest",
          "mapbox": {
           "style": "light"
          },
          "paper_bgcolor": "white",
          "plot_bgcolor": "#E5ECF6",
          "polar": {
           "angularaxis": {
            "gridcolor": "white",
            "linecolor": "white",
            "ticks": ""
           },
           "bgcolor": "#E5ECF6",
           "radialaxis": {
            "gridcolor": "white",
            "linecolor": "white",
            "ticks": ""
           }
          },
          "scene": {
           "xaxis": {
            "backgroundcolor": "#E5ECF6",
            "gridcolor": "white",
            "gridwidth": 2,
            "linecolor": "white",
            "showbackground": true,
            "ticks": "",
            "zerolinecolor": "white"
           },
           "yaxis": {
            "backgroundcolor": "#E5ECF6",
            "gridcolor": "white",
            "gridwidth": 2,
            "linecolor": "white",
            "showbackground": true,
            "ticks": "",
            "zerolinecolor": "white"
           },
           "zaxis": {
            "backgroundcolor": "#E5ECF6",
            "gridcolor": "white",
            "gridwidth": 2,
            "linecolor": "white",
            "showbackground": true,
            "ticks": "",
            "zerolinecolor": "white"
           }
          },
          "shapedefaults": {
           "line": {
            "color": "#2a3f5f"
           }
          },
          "ternary": {
           "aaxis": {
            "gridcolor": "white",
            "linecolor": "white",
            "ticks": ""
           },
           "baxis": {
            "gridcolor": "white",
            "linecolor": "white",
            "ticks": ""
           },
           "bgcolor": "#E5ECF6",
           "caxis": {
            "gridcolor": "white",
            "linecolor": "white",
            "ticks": ""
           }
          },
          "title": {
           "x": 0.05
          },
          "xaxis": {
           "automargin": true,
           "gridcolor": "white",
           "linecolor": "white",
           "ticks": "",
           "title": {
            "standoff": 15
           },
           "zerolinecolor": "white",
           "zerolinewidth": 2
          },
          "yaxis": {
           "automargin": true,
           "gridcolor": "white",
           "linecolor": "white",
           "ticks": "",
           "title": {
            "standoff": 15
           },
           "zerolinecolor": "white",
           "zerolinewidth": 2
          }
         }
        },
        "xaxis": {
         "anchor": "y",
         "domain": [
          0,
          1
         ],
         "title": {
          "text": "feature"
         }
        },
        "yaxis": {
         "anchor": "x",
         "domain": [
          0,
          1
         ],
         "title": {
          "text": "coefficient"
         }
        }
       }
      }
     },
     "metadata": {},
     "output_type": "display_data"
    },
    {
     "data": {
      "application/vnd.plotly.v1+json": {
       "config": {
        "plotlyServerURL": "https://plot.ly"
       },
       "data": [
        {
         "alignmentgroup": "True",
         "hovertemplate": "feature=%{x}<br>Percentage=%{y}<extra></extra>",
         "legendgroup": "",
         "marker": {
          "color": "#636efa",
          "pattern": {
           "shape": ""
          }
         },
         "name": "",
         "offsetgroup": "",
         "orientation": "v",
         "showlegend": false,
         "textposition": "auto",
         "type": "bar",
         "x": [
          "FP_ total",
          "SR total",
          "Pol total",
          "TP_ total",
          "Nb_ total",
          "TTR total",
          "Tit total",
          "Rar total",
          "Sla total",
          "Sub total",
          "SP_ total",
          "CHU total",
          "POS total",
          "TF_ total",
          "RID total"
         ],
         "xaxis": "x",
         "y": [
          0.04078569614416719,
          0.052763122520085415,
          0.6887772807913606,
          0.8990030855543013,
          1.3122388099438427,
          1.3720709037784293,
          1.4060587519684282,
          1.4290842716636825,
          1.7336599593744646,
          1.848705140811135,
          1.9126455932203643,
          7.488863960557657,
          13.006609670982522,
          21.307075654233625,
          45.501658098455934
         ],
         "yaxis": "y"
        }
       ],
       "layout": {
        "barmode": "relative",
        "legend": {
         "tracegroupgap": 0
        },
        "margin": {
         "t": 60
        },
        "template": {
         "data": {
          "bar": [
           {
            "error_x": {
             "color": "#2a3f5f"
            },
            "error_y": {
             "color": "#2a3f5f"
            },
            "marker": {
             "line": {
              "color": "#E5ECF6",
              "width": 0.5
             },
             "pattern": {
              "fillmode": "overlay",
              "size": 10,
              "solidity": 0.2
             }
            },
            "type": "bar"
           }
          ],
          "barpolar": [
           {
            "marker": {
             "line": {
              "color": "#E5ECF6",
              "width": 0.5
             },
             "pattern": {
              "fillmode": "overlay",
              "size": 10,
              "solidity": 0.2
             }
            },
            "type": "barpolar"
           }
          ],
          "carpet": [
           {
            "aaxis": {
             "endlinecolor": "#2a3f5f",
             "gridcolor": "white",
             "linecolor": "white",
             "minorgridcolor": "white",
             "startlinecolor": "#2a3f5f"
            },
            "baxis": {
             "endlinecolor": "#2a3f5f",
             "gridcolor": "white",
             "linecolor": "white",
             "minorgridcolor": "white",
             "startlinecolor": "#2a3f5f"
            },
            "type": "carpet"
           }
          ],
          "choropleth": [
           {
            "colorbar": {
             "outlinewidth": 0,
             "ticks": ""
            },
            "type": "choropleth"
           }
          ],
          "contour": [
           {
            "colorbar": {
             "outlinewidth": 0,
             "ticks": ""
            },
            "colorscale": [
             [
              0,
              "#0d0887"
             ],
             [
              0.1111111111111111,
              "#46039f"
             ],
             [
              0.2222222222222222,
              "#7201a8"
             ],
             [
              0.3333333333333333,
              "#9c179e"
             ],
             [
              0.4444444444444444,
              "#bd3786"
             ],
             [
              0.5555555555555556,
              "#d8576b"
             ],
             [
              0.6666666666666666,
              "#ed7953"
             ],
             [
              0.7777777777777778,
              "#fb9f3a"
             ],
             [
              0.8888888888888888,
              "#fdca26"
             ],
             [
              1,
              "#f0f921"
             ]
            ],
            "type": "contour"
           }
          ],
          "contourcarpet": [
           {
            "colorbar": {
             "outlinewidth": 0,
             "ticks": ""
            },
            "type": "contourcarpet"
           }
          ],
          "heatmap": [
           {
            "colorbar": {
             "outlinewidth": 0,
             "ticks": ""
            },
            "colorscale": [
             [
              0,
              "#0d0887"
             ],
             [
              0.1111111111111111,
              "#46039f"
             ],
             [
              0.2222222222222222,
              "#7201a8"
             ],
             [
              0.3333333333333333,
              "#9c179e"
             ],
             [
              0.4444444444444444,
              "#bd3786"
             ],
             [
              0.5555555555555556,
              "#d8576b"
             ],
             [
              0.6666666666666666,
              "#ed7953"
             ],
             [
              0.7777777777777778,
              "#fb9f3a"
             ],
             [
              0.8888888888888888,
              "#fdca26"
             ],
             [
              1,
              "#f0f921"
             ]
            ],
            "type": "heatmap"
           }
          ],
          "heatmapgl": [
           {
            "colorbar": {
             "outlinewidth": 0,
             "ticks": ""
            },
            "colorscale": [
             [
              0,
              "#0d0887"
             ],
             [
              0.1111111111111111,
              "#46039f"
             ],
             [
              0.2222222222222222,
              "#7201a8"
             ],
             [
              0.3333333333333333,
              "#9c179e"
             ],
             [
              0.4444444444444444,
              "#bd3786"
             ],
             [
              0.5555555555555556,
              "#d8576b"
             ],
             [
              0.6666666666666666,
              "#ed7953"
             ],
             [
              0.7777777777777778,
              "#fb9f3a"
             ],
             [
              0.8888888888888888,
              "#fdca26"
             ],
             [
              1,
              "#f0f921"
             ]
            ],
            "type": "heatmapgl"
           }
          ],
          "histogram": [
           {
            "marker": {
             "pattern": {
              "fillmode": "overlay",
              "size": 10,
              "solidity": 0.2
             }
            },
            "type": "histogram"
           }
          ],
          "histogram2d": [
           {
            "colorbar": {
             "outlinewidth": 0,
             "ticks": ""
            },
            "colorscale": [
             [
              0,
              "#0d0887"
             ],
             [
              0.1111111111111111,
              "#46039f"
             ],
             [
              0.2222222222222222,
              "#7201a8"
             ],
             [
              0.3333333333333333,
              "#9c179e"
             ],
             [
              0.4444444444444444,
              "#bd3786"
             ],
             [
              0.5555555555555556,
              "#d8576b"
             ],
             [
              0.6666666666666666,
              "#ed7953"
             ],
             [
              0.7777777777777778,
              "#fb9f3a"
             ],
             [
              0.8888888888888888,
              "#fdca26"
             ],
             [
              1,
              "#f0f921"
             ]
            ],
            "type": "histogram2d"
           }
          ],
          "histogram2dcontour": [
           {
            "colorbar": {
             "outlinewidth": 0,
             "ticks": ""
            },
            "colorscale": [
             [
              0,
              "#0d0887"
             ],
             [
              0.1111111111111111,
              "#46039f"
             ],
             [
              0.2222222222222222,
              "#7201a8"
             ],
             [
              0.3333333333333333,
              "#9c179e"
             ],
             [
              0.4444444444444444,
              "#bd3786"
             ],
             [
              0.5555555555555556,
              "#d8576b"
             ],
             [
              0.6666666666666666,
              "#ed7953"
             ],
             [
              0.7777777777777778,
              "#fb9f3a"
             ],
             [
              0.8888888888888888,
              "#fdca26"
             ],
             [
              1,
              "#f0f921"
             ]
            ],
            "type": "histogram2dcontour"
           }
          ],
          "mesh3d": [
           {
            "colorbar": {
             "outlinewidth": 0,
             "ticks": ""
            },
            "type": "mesh3d"
           }
          ],
          "parcoords": [
           {
            "line": {
             "colorbar": {
              "outlinewidth": 0,
              "ticks": ""
             }
            },
            "type": "parcoords"
           }
          ],
          "pie": [
           {
            "automargin": true,
            "type": "pie"
           }
          ],
          "scatter": [
           {
            "fillpattern": {
             "fillmode": "overlay",
             "size": 10,
             "solidity": 0.2
            },
            "type": "scatter"
           }
          ],
          "scatter3d": [
           {
            "line": {
             "colorbar": {
              "outlinewidth": 0,
              "ticks": ""
             }
            },
            "marker": {
             "colorbar": {
              "outlinewidth": 0,
              "ticks": ""
             }
            },
            "type": "scatter3d"
           }
          ],
          "scattercarpet": [
           {
            "marker": {
             "colorbar": {
              "outlinewidth": 0,
              "ticks": ""
             }
            },
            "type": "scattercarpet"
           }
          ],
          "scattergeo": [
           {
            "marker": {
             "colorbar": {
              "outlinewidth": 0,
              "ticks": ""
             }
            },
            "type": "scattergeo"
           }
          ],
          "scattergl": [
           {
            "marker": {
             "colorbar": {
              "outlinewidth": 0,
              "ticks": ""
             }
            },
            "type": "scattergl"
           }
          ],
          "scattermapbox": [
           {
            "marker": {
             "colorbar": {
              "outlinewidth": 0,
              "ticks": ""
             }
            },
            "type": "scattermapbox"
           }
          ],
          "scatterpolar": [
           {
            "marker": {
             "colorbar": {
              "outlinewidth": 0,
              "ticks": ""
             }
            },
            "type": "scatterpolar"
           }
          ],
          "scatterpolargl": [
           {
            "marker": {
             "colorbar": {
              "outlinewidth": 0,
              "ticks": ""
             }
            },
            "type": "scatterpolargl"
           }
          ],
          "scatterternary": [
           {
            "marker": {
             "colorbar": {
              "outlinewidth": 0,
              "ticks": ""
             }
            },
            "type": "scatterternary"
           }
          ],
          "surface": [
           {
            "colorbar": {
             "outlinewidth": 0,
             "ticks": ""
            },
            "colorscale": [
             [
              0,
              "#0d0887"
             ],
             [
              0.1111111111111111,
              "#46039f"
             ],
             [
              0.2222222222222222,
              "#7201a8"
             ],
             [
              0.3333333333333333,
              "#9c179e"
             ],
             [
              0.4444444444444444,
              "#bd3786"
             ],
             [
              0.5555555555555556,
              "#d8576b"
             ],
             [
              0.6666666666666666,
              "#ed7953"
             ],
             [
              0.7777777777777778,
              "#fb9f3a"
             ],
             [
              0.8888888888888888,
              "#fdca26"
             ],
             [
              1,
              "#f0f921"
             ]
            ],
            "type": "surface"
           }
          ],
          "table": [
           {
            "cells": {
             "fill": {
              "color": "#EBF0F8"
             },
             "line": {
              "color": "white"
             }
            },
            "header": {
             "fill": {
              "color": "#C8D4E3"
             },
             "line": {
              "color": "white"
             }
            },
            "type": "table"
           }
          ]
         },
         "layout": {
          "annotationdefaults": {
           "arrowcolor": "#2a3f5f",
           "arrowhead": 0,
           "arrowwidth": 1
          },
          "autotypenumbers": "strict",
          "coloraxis": {
           "colorbar": {
            "outlinewidth": 0,
            "ticks": ""
           }
          },
          "colorscale": {
           "diverging": [
            [
             0,
             "#8e0152"
            ],
            [
             0.1,
             "#c51b7d"
            ],
            [
             0.2,
             "#de77ae"
            ],
            [
             0.3,
             "#f1b6da"
            ],
            [
             0.4,
             "#fde0ef"
            ],
            [
             0.5,
             "#f7f7f7"
            ],
            [
             0.6,
             "#e6f5d0"
            ],
            [
             0.7,
             "#b8e186"
            ],
            [
             0.8,
             "#7fbc41"
            ],
            [
             0.9,
             "#4d9221"
            ],
            [
             1,
             "#276419"
            ]
           ],
           "sequential": [
            [
             0,
             "#0d0887"
            ],
            [
             0.1111111111111111,
             "#46039f"
            ],
            [
             0.2222222222222222,
             "#7201a8"
            ],
            [
             0.3333333333333333,
             "#9c179e"
            ],
            [
             0.4444444444444444,
             "#bd3786"
            ],
            [
             0.5555555555555556,
             "#d8576b"
            ],
            [
             0.6666666666666666,
             "#ed7953"
            ],
            [
             0.7777777777777778,
             "#fb9f3a"
            ],
            [
             0.8888888888888888,
             "#fdca26"
            ],
            [
             1,
             "#f0f921"
            ]
           ],
           "sequentialminus": [
            [
             0,
             "#0d0887"
            ],
            [
             0.1111111111111111,
             "#46039f"
            ],
            [
             0.2222222222222222,
             "#7201a8"
            ],
            [
             0.3333333333333333,
             "#9c179e"
            ],
            [
             0.4444444444444444,
             "#bd3786"
            ],
            [
             0.5555555555555556,
             "#d8576b"
            ],
            [
             0.6666666666666666,
             "#ed7953"
            ],
            [
             0.7777777777777778,
             "#fb9f3a"
            ],
            [
             0.8888888888888888,
             "#fdca26"
            ],
            [
             1,
             "#f0f921"
            ]
           ]
          },
          "colorway": [
           "#636efa",
           "#EF553B",
           "#00cc96",
           "#ab63fa",
           "#FFA15A",
           "#19d3f3",
           "#FF6692",
           "#B6E880",
           "#FF97FF",
           "#FECB52"
          ],
          "font": {
           "color": "#2a3f5f"
          },
          "geo": {
           "bgcolor": "white",
           "lakecolor": "white",
           "landcolor": "#E5ECF6",
           "showlakes": true,
           "showland": true,
           "subunitcolor": "white"
          },
          "hoverlabel": {
           "align": "left"
          },
          "hovermode": "closest",
          "mapbox": {
           "style": "light"
          },
          "paper_bgcolor": "white",
          "plot_bgcolor": "#E5ECF6",
          "polar": {
           "angularaxis": {
            "gridcolor": "white",
            "linecolor": "white",
            "ticks": ""
           },
           "bgcolor": "#E5ECF6",
           "radialaxis": {
            "gridcolor": "white",
            "linecolor": "white",
            "ticks": ""
           }
          },
          "scene": {
           "xaxis": {
            "backgroundcolor": "#E5ECF6",
            "gridcolor": "white",
            "gridwidth": 2,
            "linecolor": "white",
            "showbackground": true,
            "ticks": "",
            "zerolinecolor": "white"
           },
           "yaxis": {
            "backgroundcolor": "#E5ECF6",
            "gridcolor": "white",
            "gridwidth": 2,
            "linecolor": "white",
            "showbackground": true,
            "ticks": "",
            "zerolinecolor": "white"
           },
           "zaxis": {
            "backgroundcolor": "#E5ECF6",
            "gridcolor": "white",
            "gridwidth": 2,
            "linecolor": "white",
            "showbackground": true,
            "ticks": "",
            "zerolinecolor": "white"
           }
          },
          "shapedefaults": {
           "line": {
            "color": "#2a3f5f"
           }
          },
          "ternary": {
           "aaxis": {
            "gridcolor": "white",
            "linecolor": "white",
            "ticks": ""
           },
           "baxis": {
            "gridcolor": "white",
            "linecolor": "white",
            "ticks": ""
           },
           "bgcolor": "#E5ECF6",
           "caxis": {
            "gridcolor": "white",
            "linecolor": "white",
            "ticks": ""
           }
          },
          "title": {
           "x": 0.05
          },
          "xaxis": {
           "automargin": true,
           "gridcolor": "white",
           "linecolor": "white",
           "ticks": "",
           "title": {
            "standoff": 15
           },
           "zerolinecolor": "white",
           "zerolinewidth": 2
          },
          "yaxis": {
           "automargin": true,
           "gridcolor": "white",
           "linecolor": "white",
           "ticks": "",
           "title": {
            "standoff": 15
           },
           "zerolinecolor": "white",
           "zerolinewidth": 2
          }
         }
        },
        "xaxis": {
         "anchor": "y",
         "domain": [
          0,
          1
         ],
         "title": {
          "text": "feature"
         }
        },
        "yaxis": {
         "anchor": "x",
         "domain": [
          0,
          1
         ],
         "title": {
          "text": "Percentage"
         }
        }
       }
      }
     },
     "metadata": {},
     "output_type": "display_data"
    },
    {
     "data": {
      "application/vnd.plotly.v1+json": {
       "config": {
        "plotlyServerURL": "https://plot.ly"
       },
       "data": [
        {
         "alignmentgroup": "True",
         "hovertemplate": "feature=%{x}<br>coefficient=%{y}<extra></extra>",
         "legendgroup": "",
         "marker": {
          "color": "#636efa",
          "pattern": {
           "shape": ""
          }
         },
         "name": "",
         "offsetgroup": "",
         "orientation": "v",
         "showlegend": false,
         "textposition": "auto",
         "type": "bar",
         "x": [
          "TF_IDF_Score diff normal",
          "POS_ADV diff normal",
          "RID_SECONDARY:TEMPORAL:REFERENCES diff normal",
          "RID_SECONDARY:SOCIAL:BEHAVIOR diff normal",
          "CHUNK_FACILITY diff normal",
          "Nb_Words_Per_Line",
          "RID_SECONDARY:ABSTRACTION diff normal",
          "POS_DET diff normal",
          "CHUNK_LOCATION diff normal",
          "Rare diff normal",
          "CHUNK_PERSON diff normal",
          "RID_SECONDARY:RESTRAINT diff normal",
          "RID_PRIMARY:NEED:SEX diff normal",
          "Title_In_Song diff normal",
          "TP_Freq diff normal",
          "CHUNK_ORGANIZATION diff normal",
          "RID_EMOTIONS:ANXIETY diff normal",
          "RID_PRIMARY:REGRESSIVE:COGNITION:TIMELESSNESS diff normal",
          "Polarity diff normal",
          "Slang diff normal",
          "CHUNK_GPE diff normal",
          "POS_PRON diff normal",
          "Nb_Lines",
          "RID_SECONDARY:ORDER diff normal",
          "RID_SECONDARY",
          "RID_PRIMARY:DEFENSIVE:SYMBOLIZATION:VOYAGE diff normal",
          "Subjectivity",
          "POS_ADJ diff normal",
          "FP_Freq diff normal",
          "Title_In_Song",
          "RID_EMOTIONS:POSITIVE:AFFECT diff normal",
          "RID_PRIMARY:SENSATION:SOUND diff normal",
          "TTR",
          "RID_EMOTIONS:AFFECTION",
          "RID_PRIMARY:REGRESSIVE:COGNITION:UNKNOWN",
          "POS_V",
          "RID_PRIMARY:SENSATION:TASTE",
          "RID_PRIMARY:DEFENSIVE:SYMBOLIZATION:PASSIVITY",
          "RID_PRIMARY:ICARIAN:IMAGERY:FIRE",
          "RID_EMOTIONS diff normal",
          "RID_PRIMARY diff normal",
          "RID_PRIMARY:SENSATION:TOUCH",
          "RID_PRIMARY:REGRESSIVE:COGNITION:BRINK-PASSAGE",
          "RID_PRIMARY:REGRESSIVE:COGNITION:TIMELESSNESS",
          "RID_PRIMARY:ICARIAN:IMAGERY:HEIGHT",
          "RID_PRIMARY:SENSATION:COLD diff normal",
          "Slang",
          "CHUNK_GSP",
          "RID_EMOTIONS:SADNESS",
          "RID_SECONDARY:INSTRUMENTAL:BEHAVIOR",
          "CHUNK_LOCATION",
          "CHUNK_FACILITY",
          "Nb_Words",
          "RID_PRIMARY:DEFENSIVE:SYMBOLIZATION:RANDOM:MOVEMENT",
          "RID_PRIMARY:ICARIAN:IMAGERY:DESCENT",
          "POS_ADJ",
          "POS_N",
          "RID_EMOTIONS:AGGRESSION",
          "RID_PRIMARY:SENSATION:ODOR",
          "RID_PRIMARY:DEFENSIVE:SYMBOLIZATION:CHAOS",
          "RID_EMOTIONS:GLORY",
          "RID_PRIMARY:ICARIAN:IMAGERY:DEPTH",
          "RID_PRIMARY:SENSATION:SOFT",
          "RID_PRIMARY:SENSATION:GENERAL-SENSATION",
          "RID_PRIMARY:SENSATION:COLD",
          "RID_PRIMARY:SENSATION:SOUND",
          "RID_PRIMARY:NEED:ANALITY",
          "SP_Freq",
          "RID_PRIMARY:REGRESSIVE:COGNITION:CONCRETENESS",
          "RID_EMOTIONS:EXPRESSIVE:BEHAVIOR",
          "RID_PRIMARY:DEFENSIVE:SYMBOLIZATION:DIFFUSION",
          "RID_PRIMARY:DEFENSIVE:SYMBOLIZATION:VOYAGE",
          "RID_SECONDARY:ORDER",
          "RID_EMOTIONS:POSITIVE:AFFECT",
          "RID_SECONDARY:MORAL:IMPERATIVE",
          "RID_PRIMARY:SENSATION:VISION",
          "SR",
          "CHUNK_ORGANIZATION",
          "RID_SECONDARY:RESTRAINT",
          "POS_PRON",
          "Nb_Words diff normal",
          "RID_PRIMARY:SENSATION:HARD",
          "RID_PRIMARY:ICARIAN:IMAGERY:WATER",
          "RID_PRIMARY:ICARIAN:IMAGERY:ASCENT",
          "RID_PRIMARY:NEED:ORALITY",
          "RID_PRIMARY:REGRESSIVE:COGNITION:NARCISSISM",
          "RID_EMOTIONS:ANXIETY",
          "RID_PRIMARY:REGRESSIVE:COGNITION:CONSCIOUSNESS:ALTERATION",
          "CHUNK_PERSON",
          "FP_Freq",
          "RID_PRIMARY:NEED:SEX",
          "TP_Freq",
          "RID_SECONDARY:ABSTRACTION",
          "POS_DET",
          "CHUNK_GPE",
          "RID_SECONDARY diff normal",
          "RID_SECONDARY:SOCIAL:BEHAVIOR",
          "POS_ADV",
          "RID_PRIMARY:REGRESSIVE:COGNITION:CONSCIOUSNESS:ALTERATION diff normal",
          "SR diff normal",
          "Rare",
          "RID_SECONDARY:TEMPORAL:REFERENCES",
          "Nb_Lines diff normal",
          "RID_PRIMARY:ICARIAN:IMAGERY:WATER diff normal",
          "Polarity",
          "RID_SECONDARY:MORAL:IMPERATIVE diff normal",
          "RID_PRIMARY:SENSATION:HARD diff normal",
          "RID_EMOTIONS:GLORY diff normal",
          "RID_PRIMARY:ICARIAN:IMAGERY:DESCENT diff normal",
          "RID_PRIMARY:SENSATION:GENERAL-SENSATION diff normal",
          "RID_PRIMARY:DEFENSIVE:SYMBOLIZATION:CHAOS diff normal",
          "RID_PRIMARY",
          "SP_Freq diff normal",
          "RID_EMOTIONS",
          "RID_PRIMARY:SENSATION:VISION diff normal",
          "RID_PRIMARY:ICARIAN:IMAGERY:ASCENT diff normal",
          "RID_PRIMARY:REGRESSIVE:COGNITION:UNKNOWN diff normal",
          "RID_SECONDARY:INSTRUMENTAL:BEHAVIOR diff normal",
          "RID_PRIMARY:DEFENSIVE:SYMBOLIZATION:DIFFUSION diff normal",
          "CHUNK_GSP diff normal",
          "RID_PRIMARY:SENSATION:SOFT diff normal",
          "RID_PRIMARY:ICARIAN:IMAGERY:DEPTH diff normal",
          "RID_PRIMARY:NEED:ORALITY diff normal",
          "RID_PRIMARY:NEED:ANALITY diff normal",
          "RID_PRIMARY:ICARIAN:IMAGERY:HEIGHT diff normal",
          "RID_EMOTIONS:AGGRESSION diff normal",
          "RID_PRIMARY:DEFENSIVE:SYMBOLIZATION:RANDOM:MOVEMENT diff normal",
          "RID_PRIMARY:REGRESSIVE:COGNITION:CONCRETENESS diff normal",
          "RID_PRIMARY:REGRESSIVE:COGNITION:NARCISSISM diff normal",
          "RID_PRIMARY:SENSATION:TASTE diff normal",
          "Subjectivity diff normal",
          "RID_EMOTIONS:SADNESS diff normal",
          "TTR diff normal",
          "RID_PRIMARY:REGRESSIVE:COGNITION:BRINK-PASSAGE diff normal",
          "RID_EMOTIONS:EXPRESSIVE:BEHAVIOR diff normal",
          "RID_PRIMARY:DEFENSIVE:SYMBOLIZATION:PASSIVITY diff normal",
          "POS_N diff normal",
          "RID_PRIMARY:ICARIAN:IMAGERY:FIRE diff normal",
          "RID_PRIMARY:SENSATION:ODOR diff normal",
          "Nb_Words_Per_Line diff normal",
          "RID_EMOTIONS:AFFECTION diff normal",
          "POS_V diff normal",
          "RID_PRIMARY:SENSATION:TOUCH diff normal",
          "TF_IDF_Score",
          "TF_IDF vector similarity"
         ],
         "xaxis": "x",
         "y": [
          -0.11032665524563444,
          -0.10373217639233788,
          -0.07736497822991383,
          -0.06663286250948637,
          -0.06173812484225963,
          -0.05845194278362644,
          -0.05422084927064099,
          -0.05122253671511792,
          -0.04633784665647667,
          -0.045330542623688304,
          -0.04425442746902366,
          -0.04201224105385907,
          -0.04118183808465523,
          -0.041118952083331266,
          -0.03943700441798415,
          -0.03692958044512949,
          -0.03294888544490082,
          -0.029439681220231214,
          -0.023964745510044985,
          -0.02133644286066393,
          -0.01602490883587905,
          -0.015681203275777714,
          -0.015434909900147079,
          -0.009638362681378852,
          -0.009255513409320027,
          -0.008973779199368362,
          -0.008679414330369088,
          -0.008011690022334464,
          -0.005723724975978293,
          -0.004597600956234627,
          -0.004512820350202504,
          -0.003995648684623113,
          -0.0032534716691246944,
          -0.0016321600118225758,
          -0.001296264939119087,
          -0.001124817262459296,
          -0.0008760688636380761,
          -0.0007088614924574289,
          -0.0006185454606205574,
          -0.0006006183442496127,
          -0.0005598572198300967,
          -0.0005344738416533165,
          -0.0004071915974537129,
          -0.0003158527712669619,
          -0.00022555161392891971,
          -0.00016580284179843843,
          -0.00013328539523951394,
          -0.00012312569269799824,
          -0.0001122651669046095,
          -0.00010311855532067463,
          -0.00009527680396234239,
          -0.0000510894207249119,
          -0.000045171214773109845,
          0.00002137422856636062,
          0.000023991666129290343,
          0.000029398061286366893,
          0.000053977408597720866,
          0.0000737352247263372,
          0.00009103118890971403,
          0.00009559194812195372,
          0.00012558155302123592,
          0.00013168463213257146,
          0.0001541517496083902,
          0.0001621971366506125,
          0.0001648255530838405,
          0.00016936197306860226,
          0.0001810883846084094,
          0.0001947696716950217,
          0.000270906693619455,
          0.00027697032957526343,
          0.0002952872490534153,
          0.00032626309940834617,
          0.00034802515973880467,
          0.0003785222480066623,
          0.0004071805848758737,
          0.0004110152006118843,
          0.00044319316495892736,
          0.0004495697154317173,
          0.0005115186029740589,
          0.0005365446067041783,
          0.0005596188895972779,
          0.000583873118379239,
          0.000589677424165198,
          0.0005899530181322746,
          0.0005946268671405282,
          0.0006219657872314764,
          0.0006715267652235207,
          0.000678145569255181,
          0.0007222593573120957,
          0.0007450491652897182,
          0.0009523412107068958,
          0.0010674523136293193,
          0.0011326859809201457,
          0.0011756493134759518,
          0.001193938442208346,
          0.0012739832431821964,
          0.0013384045064159715,
          0.0015026653192892032,
          0.001615827133339016,
          0.0019191639067232535,
          0.0031148133624760133,
          0.0032049408920650675,
          0.003217854484133878,
          0.0036672288331945774,
          0.005196112006591491,
          0.005266407864890919,
          0.0062190933933049435,
          0.007564888377456051,
          0.007736878730415735,
          0.009883040623398934,
          0.01000466477067772,
          0.010618903196355507,
          0.010921052493416919,
          0.011975833229114592,
          0.013830978902209459,
          0.021845482588267375,
          0.025049137191488494,
          0.02779655815888184,
          0.030281018385880067,
          0.031697118983115204,
          0.033251733073353724,
          0.03401394640690952,
          0.03479312604579818,
          0.035970232760594516,
          0.04003828605972166,
          0.041854700818733576,
          0.04281745181582441,
          0.04417231400857203,
          0.045601689079281915,
          0.05161418105992763,
          0.054816816206778106,
          0.06118296678118004,
          0.06616085139621919,
          0.06668828383166063,
          0.07638347238032704,
          0.08042036980896787,
          0.08184021719299066,
          0.08199331085650481,
          0.091842970154375,
          0.09589368635805341,
          0.10815396739864823,
          0.1096650806380099,
          0.13164627013413416,
          0.15748183513034641,
          0.5077828733998331
         ],
         "yaxis": "y"
        }
       ],
       "layout": {
        "barmode": "relative",
        "legend": {
         "tracegroupgap": 0
        },
        "margin": {
         "t": 60
        },
        "template": {
         "data": {
          "bar": [
           {
            "error_x": {
             "color": "#2a3f5f"
            },
            "error_y": {
             "color": "#2a3f5f"
            },
            "marker": {
             "line": {
              "color": "#E5ECF6",
              "width": 0.5
             },
             "pattern": {
              "fillmode": "overlay",
              "size": 10,
              "solidity": 0.2
             }
            },
            "type": "bar"
           }
          ],
          "barpolar": [
           {
            "marker": {
             "line": {
              "color": "#E5ECF6",
              "width": 0.5
             },
             "pattern": {
              "fillmode": "overlay",
              "size": 10,
              "solidity": 0.2
             }
            },
            "type": "barpolar"
           }
          ],
          "carpet": [
           {
            "aaxis": {
             "endlinecolor": "#2a3f5f",
             "gridcolor": "white",
             "linecolor": "white",
             "minorgridcolor": "white",
             "startlinecolor": "#2a3f5f"
            },
            "baxis": {
             "endlinecolor": "#2a3f5f",
             "gridcolor": "white",
             "linecolor": "white",
             "minorgridcolor": "white",
             "startlinecolor": "#2a3f5f"
            },
            "type": "carpet"
           }
          ],
          "choropleth": [
           {
            "colorbar": {
             "outlinewidth": 0,
             "ticks": ""
            },
            "type": "choropleth"
           }
          ],
          "contour": [
           {
            "colorbar": {
             "outlinewidth": 0,
             "ticks": ""
            },
            "colorscale": [
             [
              0,
              "#0d0887"
             ],
             [
              0.1111111111111111,
              "#46039f"
             ],
             [
              0.2222222222222222,
              "#7201a8"
             ],
             [
              0.3333333333333333,
              "#9c179e"
             ],
             [
              0.4444444444444444,
              "#bd3786"
             ],
             [
              0.5555555555555556,
              "#d8576b"
             ],
             [
              0.6666666666666666,
              "#ed7953"
             ],
             [
              0.7777777777777778,
              "#fb9f3a"
             ],
             [
              0.8888888888888888,
              "#fdca26"
             ],
             [
              1,
              "#f0f921"
             ]
            ],
            "type": "contour"
           }
          ],
          "contourcarpet": [
           {
            "colorbar": {
             "outlinewidth": 0,
             "ticks": ""
            },
            "type": "contourcarpet"
           }
          ],
          "heatmap": [
           {
            "colorbar": {
             "outlinewidth": 0,
             "ticks": ""
            },
            "colorscale": [
             [
              0,
              "#0d0887"
             ],
             [
              0.1111111111111111,
              "#46039f"
             ],
             [
              0.2222222222222222,
              "#7201a8"
             ],
             [
              0.3333333333333333,
              "#9c179e"
             ],
             [
              0.4444444444444444,
              "#bd3786"
             ],
             [
              0.5555555555555556,
              "#d8576b"
             ],
             [
              0.6666666666666666,
              "#ed7953"
             ],
             [
              0.7777777777777778,
              "#fb9f3a"
             ],
             [
              0.8888888888888888,
              "#fdca26"
             ],
             [
              1,
              "#f0f921"
             ]
            ],
            "type": "heatmap"
           }
          ],
          "heatmapgl": [
           {
            "colorbar": {
             "outlinewidth": 0,
             "ticks": ""
            },
            "colorscale": [
             [
              0,
              "#0d0887"
             ],
             [
              0.1111111111111111,
              "#46039f"
             ],
             [
              0.2222222222222222,
              "#7201a8"
             ],
             [
              0.3333333333333333,
              "#9c179e"
             ],
             [
              0.4444444444444444,
              "#bd3786"
             ],
             [
              0.5555555555555556,
              "#d8576b"
             ],
             [
              0.6666666666666666,
              "#ed7953"
             ],
             [
              0.7777777777777778,
              "#fb9f3a"
             ],
             [
              0.8888888888888888,
              "#fdca26"
             ],
             [
              1,
              "#f0f921"
             ]
            ],
            "type": "heatmapgl"
           }
          ],
          "histogram": [
           {
            "marker": {
             "pattern": {
              "fillmode": "overlay",
              "size": 10,
              "solidity": 0.2
             }
            },
            "type": "histogram"
           }
          ],
          "histogram2d": [
           {
            "colorbar": {
             "outlinewidth": 0,
             "ticks": ""
            },
            "colorscale": [
             [
              0,
              "#0d0887"
             ],
             [
              0.1111111111111111,
              "#46039f"
             ],
             [
              0.2222222222222222,
              "#7201a8"
             ],
             [
              0.3333333333333333,
              "#9c179e"
             ],
             [
              0.4444444444444444,
              "#bd3786"
             ],
             [
              0.5555555555555556,
              "#d8576b"
             ],
             [
              0.6666666666666666,
              "#ed7953"
             ],
             [
              0.7777777777777778,
              "#fb9f3a"
             ],
             [
              0.8888888888888888,
              "#fdca26"
             ],
             [
              1,
              "#f0f921"
             ]
            ],
            "type": "histogram2d"
           }
          ],
          "histogram2dcontour": [
           {
            "colorbar": {
             "outlinewidth": 0,
             "ticks": ""
            },
            "colorscale": [
             [
              0,
              "#0d0887"
             ],
             [
              0.1111111111111111,
              "#46039f"
             ],
             [
              0.2222222222222222,
              "#7201a8"
             ],
             [
              0.3333333333333333,
              "#9c179e"
             ],
             [
              0.4444444444444444,
              "#bd3786"
             ],
             [
              0.5555555555555556,
              "#d8576b"
             ],
             [
              0.6666666666666666,
              "#ed7953"
             ],
             [
              0.7777777777777778,
              "#fb9f3a"
             ],
             [
              0.8888888888888888,
              "#fdca26"
             ],
             [
              1,
              "#f0f921"
             ]
            ],
            "type": "histogram2dcontour"
           }
          ],
          "mesh3d": [
           {
            "colorbar": {
             "outlinewidth": 0,
             "ticks": ""
            },
            "type": "mesh3d"
           }
          ],
          "parcoords": [
           {
            "line": {
             "colorbar": {
              "outlinewidth": 0,
              "ticks": ""
             }
            },
            "type": "parcoords"
           }
          ],
          "pie": [
           {
            "automargin": true,
            "type": "pie"
           }
          ],
          "scatter": [
           {
            "fillpattern": {
             "fillmode": "overlay",
             "size": 10,
             "solidity": 0.2
            },
            "type": "scatter"
           }
          ],
          "scatter3d": [
           {
            "line": {
             "colorbar": {
              "outlinewidth": 0,
              "ticks": ""
             }
            },
            "marker": {
             "colorbar": {
              "outlinewidth": 0,
              "ticks": ""
             }
            },
            "type": "scatter3d"
           }
          ],
          "scattercarpet": [
           {
            "marker": {
             "colorbar": {
              "outlinewidth": 0,
              "ticks": ""
             }
            },
            "type": "scattercarpet"
           }
          ],
          "scattergeo": [
           {
            "marker": {
             "colorbar": {
              "outlinewidth": 0,
              "ticks": ""
             }
            },
            "type": "scattergeo"
           }
          ],
          "scattergl": [
           {
            "marker": {
             "colorbar": {
              "outlinewidth": 0,
              "ticks": ""
             }
            },
            "type": "scattergl"
           }
          ],
          "scattermapbox": [
           {
            "marker": {
             "colorbar": {
              "outlinewidth": 0,
              "ticks": ""
             }
            },
            "type": "scattermapbox"
           }
          ],
          "scatterpolar": [
           {
            "marker": {
             "colorbar": {
              "outlinewidth": 0,
              "ticks": ""
             }
            },
            "type": "scatterpolar"
           }
          ],
          "scatterpolargl": [
           {
            "marker": {
             "colorbar": {
              "outlinewidth": 0,
              "ticks": ""
             }
            },
            "type": "scatterpolargl"
           }
          ],
          "scatterternary": [
           {
            "marker": {
             "colorbar": {
              "outlinewidth": 0,
              "ticks": ""
             }
            },
            "type": "scatterternary"
           }
          ],
          "surface": [
           {
            "colorbar": {
             "outlinewidth": 0,
             "ticks": ""
            },
            "colorscale": [
             [
              0,
              "#0d0887"
             ],
             [
              0.1111111111111111,
              "#46039f"
             ],
             [
              0.2222222222222222,
              "#7201a8"
             ],
             [
              0.3333333333333333,
              "#9c179e"
             ],
             [
              0.4444444444444444,
              "#bd3786"
             ],
             [
              0.5555555555555556,
              "#d8576b"
             ],
             [
              0.6666666666666666,
              "#ed7953"
             ],
             [
              0.7777777777777778,
              "#fb9f3a"
             ],
             [
              0.8888888888888888,
              "#fdca26"
             ],
             [
              1,
              "#f0f921"
             ]
            ],
            "type": "surface"
           }
          ],
          "table": [
           {
            "cells": {
             "fill": {
              "color": "#EBF0F8"
             },
             "line": {
              "color": "white"
             }
            },
            "header": {
             "fill": {
              "color": "#C8D4E3"
             },
             "line": {
              "color": "white"
             }
            },
            "type": "table"
           }
          ]
         },
         "layout": {
          "annotationdefaults": {
           "arrowcolor": "#2a3f5f",
           "arrowhead": 0,
           "arrowwidth": 1
          },
          "autotypenumbers": "strict",
          "coloraxis": {
           "colorbar": {
            "outlinewidth": 0,
            "ticks": ""
           }
          },
          "colorscale": {
           "diverging": [
            [
             0,
             "#8e0152"
            ],
            [
             0.1,
             "#c51b7d"
            ],
            [
             0.2,
             "#de77ae"
            ],
            [
             0.3,
             "#f1b6da"
            ],
            [
             0.4,
             "#fde0ef"
            ],
            [
             0.5,
             "#f7f7f7"
            ],
            [
             0.6,
             "#e6f5d0"
            ],
            [
             0.7,
             "#b8e186"
            ],
            [
             0.8,
             "#7fbc41"
            ],
            [
             0.9,
             "#4d9221"
            ],
            [
             1,
             "#276419"
            ]
           ],
           "sequential": [
            [
             0,
             "#0d0887"
            ],
            [
             0.1111111111111111,
             "#46039f"
            ],
            [
             0.2222222222222222,
             "#7201a8"
            ],
            [
             0.3333333333333333,
             "#9c179e"
            ],
            [
             0.4444444444444444,
             "#bd3786"
            ],
            [
             0.5555555555555556,
             "#d8576b"
            ],
            [
             0.6666666666666666,
             "#ed7953"
            ],
            [
             0.7777777777777778,
             "#fb9f3a"
            ],
            [
             0.8888888888888888,
             "#fdca26"
            ],
            [
             1,
             "#f0f921"
            ]
           ],
           "sequentialminus": [
            [
             0,
             "#0d0887"
            ],
            [
             0.1111111111111111,
             "#46039f"
            ],
            [
             0.2222222222222222,
             "#7201a8"
            ],
            [
             0.3333333333333333,
             "#9c179e"
            ],
            [
             0.4444444444444444,
             "#bd3786"
            ],
            [
             0.5555555555555556,
             "#d8576b"
            ],
            [
             0.6666666666666666,
             "#ed7953"
            ],
            [
             0.7777777777777778,
             "#fb9f3a"
            ],
            [
             0.8888888888888888,
             "#fdca26"
            ],
            [
             1,
             "#f0f921"
            ]
           ]
          },
          "colorway": [
           "#636efa",
           "#EF553B",
           "#00cc96",
           "#ab63fa",
           "#FFA15A",
           "#19d3f3",
           "#FF6692",
           "#B6E880",
           "#FF97FF",
           "#FECB52"
          ],
          "font": {
           "color": "#2a3f5f"
          },
          "geo": {
           "bgcolor": "white",
           "lakecolor": "white",
           "landcolor": "#E5ECF6",
           "showlakes": true,
           "showland": true,
           "subunitcolor": "white"
          },
          "hoverlabel": {
           "align": "left"
          },
          "hovermode": "closest",
          "mapbox": {
           "style": "light"
          },
          "paper_bgcolor": "white",
          "plot_bgcolor": "#E5ECF6",
          "polar": {
           "angularaxis": {
            "gridcolor": "white",
            "linecolor": "white",
            "ticks": ""
           },
           "bgcolor": "#E5ECF6",
           "radialaxis": {
            "gridcolor": "white",
            "linecolor": "white",
            "ticks": ""
           }
          },
          "scene": {
           "xaxis": {
            "backgroundcolor": "#E5ECF6",
            "gridcolor": "white",
            "gridwidth": 2,
            "linecolor": "white",
            "showbackground": true,
            "ticks": "",
            "zerolinecolor": "white"
           },
           "yaxis": {
            "backgroundcolor": "#E5ECF6",
            "gridcolor": "white",
            "gridwidth": 2,
            "linecolor": "white",
            "showbackground": true,
            "ticks": "",
            "zerolinecolor": "white"
           },
           "zaxis": {
            "backgroundcolor": "#E5ECF6",
            "gridcolor": "white",
            "gridwidth": 2,
            "linecolor": "white",
            "showbackground": true,
            "ticks": "",
            "zerolinecolor": "white"
           }
          },
          "shapedefaults": {
           "line": {
            "color": "#2a3f5f"
           }
          },
          "ternary": {
           "aaxis": {
            "gridcolor": "white",
            "linecolor": "white",
            "ticks": ""
           },
           "baxis": {
            "gridcolor": "white",
            "linecolor": "white",
            "ticks": ""
           },
           "bgcolor": "#E5ECF6",
           "caxis": {
            "gridcolor": "white",
            "linecolor": "white",
            "ticks": ""
           }
          },
          "title": {
           "x": 0.05
          },
          "xaxis": {
           "automargin": true,
           "gridcolor": "white",
           "linecolor": "white",
           "ticks": "",
           "title": {
            "standoff": 15
           },
           "zerolinecolor": "white",
           "zerolinewidth": 2
          },
          "yaxis": {
           "automargin": true,
           "gridcolor": "white",
           "linecolor": "white",
           "ticks": "",
           "title": {
            "standoff": 15
           },
           "zerolinecolor": "white",
           "zerolinewidth": 2
          }
         }
        },
        "xaxis": {
         "anchor": "y",
         "domain": [
          0,
          1
         ],
         "title": {
          "text": "feature"
         }
        },
        "yaxis": {
         "anchor": "x",
         "domain": [
          0,
          1
         ],
         "title": {
          "text": "coefficient"
         }
        }
       }
      }
     },
     "metadata": {},
     "output_type": "display_data"
    },
    {
     "data": {
      "application/vnd.plotly.v1+json": {
       "config": {
        "plotlyServerURL": "https://plot.ly"
       },
       "data": [
        {
         "alignmentgroup": "True",
         "hovertemplate": "feature=%{x}<br>coefficient=%{y}<extra></extra>",
         "legendgroup": "",
         "marker": {
          "color": "#636efa",
          "pattern": {
           "shape": ""
          }
         },
         "name": "",
         "offsetgroup": "",
         "orientation": "v",
         "showlegend": false,
         "textposition": "auto",
         "type": "bar",
         "x": [
          "SR total",
          "FP_ total",
          "SP_ total",
          "Sla total",
          "Pol total",
          "TP_ total",
          "Tit total",
          "Rar total",
          "Sub total",
          "TTR total",
          "Nb_ total",
          "CHU total",
          "POS total",
          "TF_ total",
          "RID total"
         ],
         "xaxis": "x",
         "y": [
          0.0034505231212434637,
          0.009448467807050472,
          0.016236072798697328,
          0.031359270214412156,
          0.04259314322232881,
          0.05916191338776602,
          0.06677484330268832,
          0.07076060725574322,
          0.09274432481293733,
          0.1013884520479704,
          0.25356954129351106,
          0.34999151008331975,
          0.5471158501193686,
          1.1328498834596321,
          2.484500280468118
         ],
         "yaxis": "y"
        }
       ],
       "layout": {
        "barmode": "relative",
        "legend": {
         "tracegroupgap": 0
        },
        "margin": {
         "t": 60
        },
        "template": {
         "data": {
          "bar": [
           {
            "error_x": {
             "color": "#2a3f5f"
            },
            "error_y": {
             "color": "#2a3f5f"
            },
            "marker": {
             "line": {
              "color": "#E5ECF6",
              "width": 0.5
             },
             "pattern": {
              "fillmode": "overlay",
              "size": 10,
              "solidity": 0.2
             }
            },
            "type": "bar"
           }
          ],
          "barpolar": [
           {
            "marker": {
             "line": {
              "color": "#E5ECF6",
              "width": 0.5
             },
             "pattern": {
              "fillmode": "overlay",
              "size": 10,
              "solidity": 0.2
             }
            },
            "type": "barpolar"
           }
          ],
          "carpet": [
           {
            "aaxis": {
             "endlinecolor": "#2a3f5f",
             "gridcolor": "white",
             "linecolor": "white",
             "minorgridcolor": "white",
             "startlinecolor": "#2a3f5f"
            },
            "baxis": {
             "endlinecolor": "#2a3f5f",
             "gridcolor": "white",
             "linecolor": "white",
             "minorgridcolor": "white",
             "startlinecolor": "#2a3f5f"
            },
            "type": "carpet"
           }
          ],
          "choropleth": [
           {
            "colorbar": {
             "outlinewidth": 0,
             "ticks": ""
            },
            "type": "choropleth"
           }
          ],
          "contour": [
           {
            "colorbar": {
             "outlinewidth": 0,
             "ticks": ""
            },
            "colorscale": [
             [
              0,
              "#0d0887"
             ],
             [
              0.1111111111111111,
              "#46039f"
             ],
             [
              0.2222222222222222,
              "#7201a8"
             ],
             [
              0.3333333333333333,
              "#9c179e"
             ],
             [
              0.4444444444444444,
              "#bd3786"
             ],
             [
              0.5555555555555556,
              "#d8576b"
             ],
             [
              0.6666666666666666,
              "#ed7953"
             ],
             [
              0.7777777777777778,
              "#fb9f3a"
             ],
             [
              0.8888888888888888,
              "#fdca26"
             ],
             [
              1,
              "#f0f921"
             ]
            ],
            "type": "contour"
           }
          ],
          "contourcarpet": [
           {
            "colorbar": {
             "outlinewidth": 0,
             "ticks": ""
            },
            "type": "contourcarpet"
           }
          ],
          "heatmap": [
           {
            "colorbar": {
             "outlinewidth": 0,
             "ticks": ""
            },
            "colorscale": [
             [
              0,
              "#0d0887"
             ],
             [
              0.1111111111111111,
              "#46039f"
             ],
             [
              0.2222222222222222,
              "#7201a8"
             ],
             [
              0.3333333333333333,
              "#9c179e"
             ],
             [
              0.4444444444444444,
              "#bd3786"
             ],
             [
              0.5555555555555556,
              "#d8576b"
             ],
             [
              0.6666666666666666,
              "#ed7953"
             ],
             [
              0.7777777777777778,
              "#fb9f3a"
             ],
             [
              0.8888888888888888,
              "#fdca26"
             ],
             [
              1,
              "#f0f921"
             ]
            ],
            "type": "heatmap"
           }
          ],
          "heatmapgl": [
           {
            "colorbar": {
             "outlinewidth": 0,
             "ticks": ""
            },
            "colorscale": [
             [
              0,
              "#0d0887"
             ],
             [
              0.1111111111111111,
              "#46039f"
             ],
             [
              0.2222222222222222,
              "#7201a8"
             ],
             [
              0.3333333333333333,
              "#9c179e"
             ],
             [
              0.4444444444444444,
              "#bd3786"
             ],
             [
              0.5555555555555556,
              "#d8576b"
             ],
             [
              0.6666666666666666,
              "#ed7953"
             ],
             [
              0.7777777777777778,
              "#fb9f3a"
             ],
             [
              0.8888888888888888,
              "#fdca26"
             ],
             [
              1,
              "#f0f921"
             ]
            ],
            "type": "heatmapgl"
           }
          ],
          "histogram": [
           {
            "marker": {
             "pattern": {
              "fillmode": "overlay",
              "size": 10,
              "solidity": 0.2
             }
            },
            "type": "histogram"
           }
          ],
          "histogram2d": [
           {
            "colorbar": {
             "outlinewidth": 0,
             "ticks": ""
            },
            "colorscale": [
             [
              0,
              "#0d0887"
             ],
             [
              0.1111111111111111,
              "#46039f"
             ],
             [
              0.2222222222222222,
              "#7201a8"
             ],
             [
              0.3333333333333333,
              "#9c179e"
             ],
             [
              0.4444444444444444,
              "#bd3786"
             ],
             [
              0.5555555555555556,
              "#d8576b"
             ],
             [
              0.6666666666666666,
              "#ed7953"
             ],
             [
              0.7777777777777778,
              "#fb9f3a"
             ],
             [
              0.8888888888888888,
              "#fdca26"
             ],
             [
              1,
              "#f0f921"
             ]
            ],
            "type": "histogram2d"
           }
          ],
          "histogram2dcontour": [
           {
            "colorbar": {
             "outlinewidth": 0,
             "ticks": ""
            },
            "colorscale": [
             [
              0,
              "#0d0887"
             ],
             [
              0.1111111111111111,
              "#46039f"
             ],
             [
              0.2222222222222222,
              "#7201a8"
             ],
             [
              0.3333333333333333,
              "#9c179e"
             ],
             [
              0.4444444444444444,
              "#bd3786"
             ],
             [
              0.5555555555555556,
              "#d8576b"
             ],
             [
              0.6666666666666666,
              "#ed7953"
             ],
             [
              0.7777777777777778,
              "#fb9f3a"
             ],
             [
              0.8888888888888888,
              "#fdca26"
             ],
             [
              1,
              "#f0f921"
             ]
            ],
            "type": "histogram2dcontour"
           }
          ],
          "mesh3d": [
           {
            "colorbar": {
             "outlinewidth": 0,
             "ticks": ""
            },
            "type": "mesh3d"
           }
          ],
          "parcoords": [
           {
            "line": {
             "colorbar": {
              "outlinewidth": 0,
              "ticks": ""
             }
            },
            "type": "parcoords"
           }
          ],
          "pie": [
           {
            "automargin": true,
            "type": "pie"
           }
          ],
          "scatter": [
           {
            "fillpattern": {
             "fillmode": "overlay",
             "size": 10,
             "solidity": 0.2
            },
            "type": "scatter"
           }
          ],
          "scatter3d": [
           {
            "line": {
             "colorbar": {
              "outlinewidth": 0,
              "ticks": ""
             }
            },
            "marker": {
             "colorbar": {
              "outlinewidth": 0,
              "ticks": ""
             }
            },
            "type": "scatter3d"
           }
          ],
          "scattercarpet": [
           {
            "marker": {
             "colorbar": {
              "outlinewidth": 0,
              "ticks": ""
             }
            },
            "type": "scattercarpet"
           }
          ],
          "scattergeo": [
           {
            "marker": {
             "colorbar": {
              "outlinewidth": 0,
              "ticks": ""
             }
            },
            "type": "scattergeo"
           }
          ],
          "scattergl": [
           {
            "marker": {
             "colorbar": {
              "outlinewidth": 0,
              "ticks": ""
             }
            },
            "type": "scattergl"
           }
          ],
          "scattermapbox": [
           {
            "marker": {
             "colorbar": {
              "outlinewidth": 0,
              "ticks": ""
             }
            },
            "type": "scattermapbox"
           }
          ],
          "scatterpolar": [
           {
            "marker": {
             "colorbar": {
              "outlinewidth": 0,
              "ticks": ""
             }
            },
            "type": "scatterpolar"
           }
          ],
          "scatterpolargl": [
           {
            "marker": {
             "colorbar": {
              "outlinewidth": 0,
              "ticks": ""
             }
            },
            "type": "scatterpolargl"
           }
          ],
          "scatterternary": [
           {
            "marker": {
             "colorbar": {
              "outlinewidth": 0,
              "ticks": ""
             }
            },
            "type": "scatterternary"
           }
          ],
          "surface": [
           {
            "colorbar": {
             "outlinewidth": 0,
             "ticks": ""
            },
            "colorscale": [
             [
              0,
              "#0d0887"
             ],
             [
              0.1111111111111111,
              "#46039f"
             ],
             [
              0.2222222222222222,
              "#7201a8"
             ],
             [
              0.3333333333333333,
              "#9c179e"
             ],
             [
              0.4444444444444444,
              "#bd3786"
             ],
             [
              0.5555555555555556,
              "#d8576b"
             ],
             [
              0.6666666666666666,
              "#ed7953"
             ],
             [
              0.7777777777777778,
              "#fb9f3a"
             ],
             [
              0.8888888888888888,
              "#fdca26"
             ],
             [
              1,
              "#f0f921"
             ]
            ],
            "type": "surface"
           }
          ],
          "table": [
           {
            "cells": {
             "fill": {
              "color": "#EBF0F8"
             },
             "line": {
              "color": "white"
             }
            },
            "header": {
             "fill": {
              "color": "#C8D4E3"
             },
             "line": {
              "color": "white"
             }
            },
            "type": "table"
           }
          ]
         },
         "layout": {
          "annotationdefaults": {
           "arrowcolor": "#2a3f5f",
           "arrowhead": 0,
           "arrowwidth": 1
          },
          "autotypenumbers": "strict",
          "coloraxis": {
           "colorbar": {
            "outlinewidth": 0,
            "ticks": ""
           }
          },
          "colorscale": {
           "diverging": [
            [
             0,
             "#8e0152"
            ],
            [
             0.1,
             "#c51b7d"
            ],
            [
             0.2,
             "#de77ae"
            ],
            [
             0.3,
             "#f1b6da"
            ],
            [
             0.4,
             "#fde0ef"
            ],
            [
             0.5,
             "#f7f7f7"
            ],
            [
             0.6,
             "#e6f5d0"
            ],
            [
             0.7,
             "#b8e186"
            ],
            [
             0.8,
             "#7fbc41"
            ],
            [
             0.9,
             "#4d9221"
            ],
            [
             1,
             "#276419"
            ]
           ],
           "sequential": [
            [
             0,
             "#0d0887"
            ],
            [
             0.1111111111111111,
             "#46039f"
            ],
            [
             0.2222222222222222,
             "#7201a8"
            ],
            [
             0.3333333333333333,
             "#9c179e"
            ],
            [
             0.4444444444444444,
             "#bd3786"
            ],
            [
             0.5555555555555556,
             "#d8576b"
            ],
            [
             0.6666666666666666,
             "#ed7953"
            ],
            [
             0.7777777777777778,
             "#fb9f3a"
            ],
            [
             0.8888888888888888,
             "#fdca26"
            ],
            [
             1,
             "#f0f921"
            ]
           ],
           "sequentialminus": [
            [
             0,
             "#0d0887"
            ],
            [
             0.1111111111111111,
             "#46039f"
            ],
            [
             0.2222222222222222,
             "#7201a8"
            ],
            [
             0.3333333333333333,
             "#9c179e"
            ],
            [
             0.4444444444444444,
             "#bd3786"
            ],
            [
             0.5555555555555556,
             "#d8576b"
            ],
            [
             0.6666666666666666,
             "#ed7953"
            ],
            [
             0.7777777777777778,
             "#fb9f3a"
            ],
            [
             0.8888888888888888,
             "#fdca26"
            ],
            [
             1,
             "#f0f921"
            ]
           ]
          },
          "colorway": [
           "#636efa",
           "#EF553B",
           "#00cc96",
           "#ab63fa",
           "#FFA15A",
           "#19d3f3",
           "#FF6692",
           "#B6E880",
           "#FF97FF",
           "#FECB52"
          ],
          "font": {
           "color": "#2a3f5f"
          },
          "geo": {
           "bgcolor": "white",
           "lakecolor": "white",
           "landcolor": "#E5ECF6",
           "showlakes": true,
           "showland": true,
           "subunitcolor": "white"
          },
          "hoverlabel": {
           "align": "left"
          },
          "hovermode": "closest",
          "mapbox": {
           "style": "light"
          },
          "paper_bgcolor": "white",
          "plot_bgcolor": "#E5ECF6",
          "polar": {
           "angularaxis": {
            "gridcolor": "white",
            "linecolor": "white",
            "ticks": ""
           },
           "bgcolor": "#E5ECF6",
           "radialaxis": {
            "gridcolor": "white",
            "linecolor": "white",
            "ticks": ""
           }
          },
          "scene": {
           "xaxis": {
            "backgroundcolor": "#E5ECF6",
            "gridcolor": "white",
            "gridwidth": 2,
            "linecolor": "white",
            "showbackground": true,
            "ticks": "",
            "zerolinecolor": "white"
           },
           "yaxis": {
            "backgroundcolor": "#E5ECF6",
            "gridcolor": "white",
            "gridwidth": 2,
            "linecolor": "white",
            "showbackground": true,
            "ticks": "",
            "zerolinecolor": "white"
           },
           "zaxis": {
            "backgroundcolor": "#E5ECF6",
            "gridcolor": "white",
            "gridwidth": 2,
            "linecolor": "white",
            "showbackground": true,
            "ticks": "",
            "zerolinecolor": "white"
           }
          },
          "shapedefaults": {
           "line": {
            "color": "#2a3f5f"
           }
          },
          "ternary": {
           "aaxis": {
            "gridcolor": "white",
            "linecolor": "white",
            "ticks": ""
           },
           "baxis": {
            "gridcolor": "white",
            "linecolor": "white",
            "ticks": ""
           },
           "bgcolor": "#E5ECF6",
           "caxis": {
            "gridcolor": "white",
            "linecolor": "white",
            "ticks": ""
           }
          },
          "title": {
           "x": 0.05
          },
          "xaxis": {
           "automargin": true,
           "gridcolor": "white",
           "linecolor": "white",
           "ticks": "",
           "title": {
            "standoff": 15
           },
           "zerolinecolor": "white",
           "zerolinewidth": 2
          },
          "yaxis": {
           "automargin": true,
           "gridcolor": "white",
           "linecolor": "white",
           "ticks": "",
           "title": {
            "standoff": 15
           },
           "zerolinecolor": "white",
           "zerolinewidth": 2
          }
         }
        },
        "xaxis": {
         "anchor": "y",
         "domain": [
          0,
          1
         ],
         "title": {
          "text": "feature"
         }
        },
        "yaxis": {
         "anchor": "x",
         "domain": [
          0,
          1
         ],
         "title": {
          "text": "coefficient"
         }
        }
       }
      }
     },
     "metadata": {},
     "output_type": "display_data"
    },
    {
     "data": {
      "application/vnd.plotly.v1+json": {
       "config": {
        "plotlyServerURL": "https://plot.ly"
       },
       "data": [
        {
         "alignmentgroup": "True",
         "hovertemplate": "feature=%{x}<br>Percentage=%{y}<extra></extra>",
         "legendgroup": "",
         "marker": {
          "color": "#636efa",
          "pattern": {
           "shape": ""
          }
         },
         "name": "",
         "offsetgroup": "",
         "orientation": "v",
         "showlegend": false,
         "textposition": "auto",
         "type": "bar",
         "x": [
          "SR total",
          "FP_ total",
          "SP_ total",
          "Sla total",
          "Pol total",
          "TP_ total",
          "Tit total",
          "Rar total",
          "Sub total",
          "TTR total",
          "Nb_ total",
          "CHU total",
          "POS total",
          "TF_ total",
          "RID total"
         ],
         "xaxis": "x",
         "y": [
          0.06557505501972191,
          0.17956227926278226,
          0.3085565085838662,
          0.5959635097148239,
          0.8094563091235214,
          1.124335525123712,
          1.2690145434901832,
          1.3447615190453015,
          1.7625484567637562,
          1.9268247415812585,
          4.81893209736136,
          6.651371900350724,
          10.397597904172422,
          21.529110464322944,
          47.216389186083596
         ],
         "yaxis": "y"
        }
       ],
       "layout": {
        "barmode": "relative",
        "legend": {
         "tracegroupgap": 0
        },
        "margin": {
         "t": 60
        },
        "template": {
         "data": {
          "bar": [
           {
            "error_x": {
             "color": "#2a3f5f"
            },
            "error_y": {
             "color": "#2a3f5f"
            },
            "marker": {
             "line": {
              "color": "#E5ECF6",
              "width": 0.5
             },
             "pattern": {
              "fillmode": "overlay",
              "size": 10,
              "solidity": 0.2
             }
            },
            "type": "bar"
           }
          ],
          "barpolar": [
           {
            "marker": {
             "line": {
              "color": "#E5ECF6",
              "width": 0.5
             },
             "pattern": {
              "fillmode": "overlay",
              "size": 10,
              "solidity": 0.2
             }
            },
            "type": "barpolar"
           }
          ],
          "carpet": [
           {
            "aaxis": {
             "endlinecolor": "#2a3f5f",
             "gridcolor": "white",
             "linecolor": "white",
             "minorgridcolor": "white",
             "startlinecolor": "#2a3f5f"
            },
            "baxis": {
             "endlinecolor": "#2a3f5f",
             "gridcolor": "white",
             "linecolor": "white",
             "minorgridcolor": "white",
             "startlinecolor": "#2a3f5f"
            },
            "type": "carpet"
           }
          ],
          "choropleth": [
           {
            "colorbar": {
             "outlinewidth": 0,
             "ticks": ""
            },
            "type": "choropleth"
           }
          ],
          "contour": [
           {
            "colorbar": {
             "outlinewidth": 0,
             "ticks": ""
            },
            "colorscale": [
             [
              0,
              "#0d0887"
             ],
             [
              0.1111111111111111,
              "#46039f"
             ],
             [
              0.2222222222222222,
              "#7201a8"
             ],
             [
              0.3333333333333333,
              "#9c179e"
             ],
             [
              0.4444444444444444,
              "#bd3786"
             ],
             [
              0.5555555555555556,
              "#d8576b"
             ],
             [
              0.6666666666666666,
              "#ed7953"
             ],
             [
              0.7777777777777778,
              "#fb9f3a"
             ],
             [
              0.8888888888888888,
              "#fdca26"
             ],
             [
              1,
              "#f0f921"
             ]
            ],
            "type": "contour"
           }
          ],
          "contourcarpet": [
           {
            "colorbar": {
             "outlinewidth": 0,
             "ticks": ""
            },
            "type": "contourcarpet"
           }
          ],
          "heatmap": [
           {
            "colorbar": {
             "outlinewidth": 0,
             "ticks": ""
            },
            "colorscale": [
             [
              0,
              "#0d0887"
             ],
             [
              0.1111111111111111,
              "#46039f"
             ],
             [
              0.2222222222222222,
              "#7201a8"
             ],
             [
              0.3333333333333333,
              "#9c179e"
             ],
             [
              0.4444444444444444,
              "#bd3786"
             ],
             [
              0.5555555555555556,
              "#d8576b"
             ],
             [
              0.6666666666666666,
              "#ed7953"
             ],
             [
              0.7777777777777778,
              "#fb9f3a"
             ],
             [
              0.8888888888888888,
              "#fdca26"
             ],
             [
              1,
              "#f0f921"
             ]
            ],
            "type": "heatmap"
           }
          ],
          "heatmapgl": [
           {
            "colorbar": {
             "outlinewidth": 0,
             "ticks": ""
            },
            "colorscale": [
             [
              0,
              "#0d0887"
             ],
             [
              0.1111111111111111,
              "#46039f"
             ],
             [
              0.2222222222222222,
              "#7201a8"
             ],
             [
              0.3333333333333333,
              "#9c179e"
             ],
             [
              0.4444444444444444,
              "#bd3786"
             ],
             [
              0.5555555555555556,
              "#d8576b"
             ],
             [
              0.6666666666666666,
              "#ed7953"
             ],
             [
              0.7777777777777778,
              "#fb9f3a"
             ],
             [
              0.8888888888888888,
              "#fdca26"
             ],
             [
              1,
              "#f0f921"
             ]
            ],
            "type": "heatmapgl"
           }
          ],
          "histogram": [
           {
            "marker": {
             "pattern": {
              "fillmode": "overlay",
              "size": 10,
              "solidity": 0.2
             }
            },
            "type": "histogram"
           }
          ],
          "histogram2d": [
           {
            "colorbar": {
             "outlinewidth": 0,
             "ticks": ""
            },
            "colorscale": [
             [
              0,
              "#0d0887"
             ],
             [
              0.1111111111111111,
              "#46039f"
             ],
             [
              0.2222222222222222,
              "#7201a8"
             ],
             [
              0.3333333333333333,
              "#9c179e"
             ],
             [
              0.4444444444444444,
              "#bd3786"
             ],
             [
              0.5555555555555556,
              "#d8576b"
             ],
             [
              0.6666666666666666,
              "#ed7953"
             ],
             [
              0.7777777777777778,
              "#fb9f3a"
             ],
             [
              0.8888888888888888,
              "#fdca26"
             ],
             [
              1,
              "#f0f921"
             ]
            ],
            "type": "histogram2d"
           }
          ],
          "histogram2dcontour": [
           {
            "colorbar": {
             "outlinewidth": 0,
             "ticks": ""
            },
            "colorscale": [
             [
              0,
              "#0d0887"
             ],
             [
              0.1111111111111111,
              "#46039f"
             ],
             [
              0.2222222222222222,
              "#7201a8"
             ],
             [
              0.3333333333333333,
              "#9c179e"
             ],
             [
              0.4444444444444444,
              "#bd3786"
             ],
             [
              0.5555555555555556,
              "#d8576b"
             ],
             [
              0.6666666666666666,
              "#ed7953"
             ],
             [
              0.7777777777777778,
              "#fb9f3a"
             ],
             [
              0.8888888888888888,
              "#fdca26"
             ],
             [
              1,
              "#f0f921"
             ]
            ],
            "type": "histogram2dcontour"
           }
          ],
          "mesh3d": [
           {
            "colorbar": {
             "outlinewidth": 0,
             "ticks": ""
            },
            "type": "mesh3d"
           }
          ],
          "parcoords": [
           {
            "line": {
             "colorbar": {
              "outlinewidth": 0,
              "ticks": ""
             }
            },
            "type": "parcoords"
           }
          ],
          "pie": [
           {
            "automargin": true,
            "type": "pie"
           }
          ],
          "scatter": [
           {
            "fillpattern": {
             "fillmode": "overlay",
             "size": 10,
             "solidity": 0.2
            },
            "type": "scatter"
           }
          ],
          "scatter3d": [
           {
            "line": {
             "colorbar": {
              "outlinewidth": 0,
              "ticks": ""
             }
            },
            "marker": {
             "colorbar": {
              "outlinewidth": 0,
              "ticks": ""
             }
            },
            "type": "scatter3d"
           }
          ],
          "scattercarpet": [
           {
            "marker": {
             "colorbar": {
              "outlinewidth": 0,
              "ticks": ""
             }
            },
            "type": "scattercarpet"
           }
          ],
          "scattergeo": [
           {
            "marker": {
             "colorbar": {
              "outlinewidth": 0,
              "ticks": ""
             }
            },
            "type": "scattergeo"
           }
          ],
          "scattergl": [
           {
            "marker": {
             "colorbar": {
              "outlinewidth": 0,
              "ticks": ""
             }
            },
            "type": "scattergl"
           }
          ],
          "scattermapbox": [
           {
            "marker": {
             "colorbar": {
              "outlinewidth": 0,
              "ticks": ""
             }
            },
            "type": "scattermapbox"
           }
          ],
          "scatterpolar": [
           {
            "marker": {
             "colorbar": {
              "outlinewidth": 0,
              "ticks": ""
             }
            },
            "type": "scatterpolar"
           }
          ],
          "scatterpolargl": [
           {
            "marker": {
             "colorbar": {
              "outlinewidth": 0,
              "ticks": ""
             }
            },
            "type": "scatterpolargl"
           }
          ],
          "scatterternary": [
           {
            "marker": {
             "colorbar": {
              "outlinewidth": 0,
              "ticks": ""
             }
            },
            "type": "scatterternary"
           }
          ],
          "surface": [
           {
            "colorbar": {
             "outlinewidth": 0,
             "ticks": ""
            },
            "colorscale": [
             [
              0,
              "#0d0887"
             ],
             [
              0.1111111111111111,
              "#46039f"
             ],
             [
              0.2222222222222222,
              "#7201a8"
             ],
             [
              0.3333333333333333,
              "#9c179e"
             ],
             [
              0.4444444444444444,
              "#bd3786"
             ],
             [
              0.5555555555555556,
              "#d8576b"
             ],
             [
              0.6666666666666666,
              "#ed7953"
             ],
             [
              0.7777777777777778,
              "#fb9f3a"
             ],
             [
              0.8888888888888888,
              "#fdca26"
             ],
             [
              1,
              "#f0f921"
             ]
            ],
            "type": "surface"
           }
          ],
          "table": [
           {
            "cells": {
             "fill": {
              "color": "#EBF0F8"
             },
             "line": {
              "color": "white"
             }
            },
            "header": {
             "fill": {
              "color": "#C8D4E3"
             },
             "line": {
              "color": "white"
             }
            },
            "type": "table"
           }
          ]
         },
         "layout": {
          "annotationdefaults": {
           "arrowcolor": "#2a3f5f",
           "arrowhead": 0,
           "arrowwidth": 1
          },
          "autotypenumbers": "strict",
          "coloraxis": {
           "colorbar": {
            "outlinewidth": 0,
            "ticks": ""
           }
          },
          "colorscale": {
           "diverging": [
            [
             0,
             "#8e0152"
            ],
            [
             0.1,
             "#c51b7d"
            ],
            [
             0.2,
             "#de77ae"
            ],
            [
             0.3,
             "#f1b6da"
            ],
            [
             0.4,
             "#fde0ef"
            ],
            [
             0.5,
             "#f7f7f7"
            ],
            [
             0.6,
             "#e6f5d0"
            ],
            [
             0.7,
             "#b8e186"
            ],
            [
             0.8,
             "#7fbc41"
            ],
            [
             0.9,
             "#4d9221"
            ],
            [
             1,
             "#276419"
            ]
           ],
           "sequential": [
            [
             0,
             "#0d0887"
            ],
            [
             0.1111111111111111,
             "#46039f"
            ],
            [
             0.2222222222222222,
             "#7201a8"
            ],
            [
             0.3333333333333333,
             "#9c179e"
            ],
            [
             0.4444444444444444,
             "#bd3786"
            ],
            [
             0.5555555555555556,
             "#d8576b"
            ],
            [
             0.6666666666666666,
             "#ed7953"
            ],
            [
             0.7777777777777778,
             "#fb9f3a"
            ],
            [
             0.8888888888888888,
             "#fdca26"
            ],
            [
             1,
             "#f0f921"
            ]
           ],
           "sequentialminus": [
            [
             0,
             "#0d0887"
            ],
            [
             0.1111111111111111,
             "#46039f"
            ],
            [
             0.2222222222222222,
             "#7201a8"
            ],
            [
             0.3333333333333333,
             "#9c179e"
            ],
            [
             0.4444444444444444,
             "#bd3786"
            ],
            [
             0.5555555555555556,
             "#d8576b"
            ],
            [
             0.6666666666666666,
             "#ed7953"
            ],
            [
             0.7777777777777778,
             "#fb9f3a"
            ],
            [
             0.8888888888888888,
             "#fdca26"
            ],
            [
             1,
             "#f0f921"
            ]
           ]
          },
          "colorway": [
           "#636efa",
           "#EF553B",
           "#00cc96",
           "#ab63fa",
           "#FFA15A",
           "#19d3f3",
           "#FF6692",
           "#B6E880",
           "#FF97FF",
           "#FECB52"
          ],
          "font": {
           "color": "#2a3f5f"
          },
          "geo": {
           "bgcolor": "white",
           "lakecolor": "white",
           "landcolor": "#E5ECF6",
           "showlakes": true,
           "showland": true,
           "subunitcolor": "white"
          },
          "hoverlabel": {
           "align": "left"
          },
          "hovermode": "closest",
          "mapbox": {
           "style": "light"
          },
          "paper_bgcolor": "white",
          "plot_bgcolor": "#E5ECF6",
          "polar": {
           "angularaxis": {
            "gridcolor": "white",
            "linecolor": "white",
            "ticks": ""
           },
           "bgcolor": "#E5ECF6",
           "radialaxis": {
            "gridcolor": "white",
            "linecolor": "white",
            "ticks": ""
           }
          },
          "scene": {
           "xaxis": {
            "backgroundcolor": "#E5ECF6",
            "gridcolor": "white",
            "gridwidth": 2,
            "linecolor": "white",
            "showbackground": true,
            "ticks": "",
            "zerolinecolor": "white"
           },
           "yaxis": {
            "backgroundcolor": "#E5ECF6",
            "gridcolor": "white",
            "gridwidth": 2,
            "linecolor": "white",
            "showbackground": true,
            "ticks": "",
            "zerolinecolor": "white"
           },
           "zaxis": {
            "backgroundcolor": "#E5ECF6",
            "gridcolor": "white",
            "gridwidth": 2,
            "linecolor": "white",
            "showbackground": true,
            "ticks": "",
            "zerolinecolor": "white"
           }
          },
          "shapedefaults": {
           "line": {
            "color": "#2a3f5f"
           }
          },
          "ternary": {
           "aaxis": {
            "gridcolor": "white",
            "linecolor": "white",
            "ticks": ""
           },
           "baxis": {
            "gridcolor": "white",
            "linecolor": "white",
            "ticks": ""
           },
           "bgcolor": "#E5ECF6",
           "caxis": {
            "gridcolor": "white",
            "linecolor": "white",
            "ticks": ""
           }
          },
          "title": {
           "x": 0.05
          },
          "xaxis": {
           "automargin": true,
           "gridcolor": "white",
           "linecolor": "white",
           "ticks": "",
           "title": {
            "standoff": 15
           },
           "zerolinecolor": "white",
           "zerolinewidth": 2
          },
          "yaxis": {
           "automargin": true,
           "gridcolor": "white",
           "linecolor": "white",
           "ticks": "",
           "title": {
            "standoff": 15
           },
           "zerolinecolor": "white",
           "zerolinewidth": 2
          }
         }
        },
        "xaxis": {
         "anchor": "y",
         "domain": [
          0,
          1
         ],
         "title": {
          "text": "feature"
         }
        },
        "yaxis": {
         "anchor": "x",
         "domain": [
          0,
          1
         ],
         "title": {
          "text": "Percentage"
         }
        }
       }
      }
     },
     "metadata": {},
     "output_type": "display_data"
    }
   ],
   "source": [
    "nlist=[2**i for i in range(1, 5)]\n",
    "arr=[]\n",
    "brr=[]\n",
    "crr=[]\n",
    "yrr=[]\n",
    "top=[]\n",
    "fts = np.array(df.columns)\n",
    "for n in nlist:\n",
    "    top =[2**i for i in range(0, (int)(np.log2(n//2)+1))]\n",
    "    ar,br,cr,y_test,fts = logistic(n_art=n,df =df, top = top)\n",
    "    arr.append(ar)\n",
    "    brr.append(br)\n",
    "    crr.append(cr)\n",
    "    yrr.append(y_test)\n",
    "feature_imp(crr=crr, fts = fts)"
   ]
  }
 ],
 "metadata": {
  "kernelspec": {
   "display_name": "Python 3 (ipykernel)",
   "language": "python",
   "name": "python3"
  },
  "language_info": {
   "codemirror_mode": {
    "name": "ipython",
    "version": 3
   },
   "file_extension": ".py",
   "mimetype": "text/x-python",
   "name": "python",
   "nbconvert_exporter": "python",
   "pygments_lexer": "ipython3",
   "version": "3.9.0"
  }
 },
 "nbformat": 4,
 "nbformat_minor": 5
}
